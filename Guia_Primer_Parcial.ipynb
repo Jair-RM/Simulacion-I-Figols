{
  "nbformat": 4,
  "nbformat_minor": 0,
  "metadata": {
    "colab": {
      "provenance": [],
      "authorship_tag": "ABX9TyNpjyfAPkaXWBbBj+/HB6DN",
      "include_colab_link": true
    },
    "kernelspec": {
      "name": "python3",
      "display_name": "Python 3"
    },
    "language_info": {
      "name": "python"
    }
  },
  "cells": [
    {
      "cell_type": "markdown",
      "metadata": {
        "id": "view-in-github",
        "colab_type": "text"
      },
      "source": [
        "<a href=\"https://colab.research.google.com/github/Jair-RM/Simulacion-I-Figols/blob/main/Guia_Primer_Parcial.ipynb\" target=\"_parent\"><img src=\"https://colab.research.google.com/assets/colab-badge.svg\" alt=\"Open In Colab\"/></a>"
      ]
    },
    {
      "cell_type": "code",
      "execution_count": 16,
      "metadata": {
        "id": "m6mM4keXq4pk"
      },
      "outputs": [],
      "source": [
        "import math\n",
        "from math import log, exp, sqrt, cos, acos, pi, sin, factorial\n",
        "from statistics import mean, stdev, variance\n",
        "from scipy.stats import norm\n",
        "import random as rnd\n",
        "from random import random, gauss\n",
        "import numpy as np\n",
        "import matplotlib.pyplot as plt\n",
        "from time import time\n",
        "#from numba import jit\n",
        "# < >"
      ]
    },
    {
      "cell_type": "code",
      "source": [
        "# 1.a) EstimaEstimar por simulacion de Montecarlo el valor de raiz(7)\n",
        "# 1.b) ¿Cuantas simulaciones hay que realizar para que la probabilidad de cometer un error\n",
        "#      mayor que 0.01 sea menor que 0.001?\n",
        "\n",
        "print(\"El valor real es de :\", sqrt(7)) #Valor real\n",
        "\n",
        "N=1000000\n",
        "n=0\n",
        "lx=[]\n",
        "ly=[]\n",
        "lc=[]\n",
        "for i in range(N):\n",
        "  r=3*random()\n",
        "  if r**2 < 7:\n",
        "    n=n+1\n",
        "  if i>1000 and i&100==0:\n",
        "    lx.append(i)\n",
        "    ly.append(3*n/(i+1))\n",
        "    lc.append(sqrt(7))\n",
        "x=3*n/N\n",
        "print(\"Nuestra estimacion es de:\", x)\n",
        "print(\"El cuadrado de ese numero es: \", x**2)\n",
        "plt.plot(lx, ly)\n",
        "plt.plot(lx, lc)\n",
        "plt.show()\n"
      ],
      "metadata": {
        "colab": {
          "base_uri": "https://localhost:8080/",
          "height": 500
        },
        "id": "4t7GNT2Jq8W_",
        "outputId": "de6611f8-6834-4e8a-8fb5-221c8e700d2e"
      },
      "execution_count": null,
      "outputs": [
        {
          "output_type": "stream",
          "name": "stdout",
          "text": [
            "El valor real es de : 2.6457513110645907\n",
            "Nuestra estimacion es de: 2.646492\n",
            "El cuadrado de ese numero es:  7.003919906064\n"
          ]
        },
        {
          "output_type": "display_data",
          "data": {
            "text/plain": [
              "<Figure size 640x480 with 1 Axes>"
            ],
            "image/png": "[encoded data removed]"
          },
          "metadata": {}
        }
      ]
    },
    {
      "cell_type": "code",
      "source": [
        "# 2. Estime por simulacion de MOntecarlo el volumen de una esfera de radio 1\n",
        "\n",
        "r=1\n",
        "vol=(4/3)*pi*pow(r, 3)\n",
        "print(\"Valor real\", vol)\n",
        "\n",
        "def cub():\n",
        "  u=np.random.uniform(-1, 1)"
      ],
      "metadata": {
        "colab": {
          "base_uri": "https://localhost:8080/"
        },
        "id": "lSxcMR6qtuly",
        "outputId": "763002a3-0863-4b67-a125-32b251822e4a"
      },
      "execution_count": null,
      "outputs": [
        {
          "output_type": "stream",
          "name": "stdout",
          "text": [
            "Valor real 4.1887902047863905\n"
          ]
        }
      ]
    },
    {
      "cell_type": "code",
      "source": [
        "# 3. Considere un generador cngruencial X(n+1) = (aXn + c ) mod (m) con\n",
        "# X0=749, a=50387 y c=171423\n",
        "# Encuentre un valor de m para que el generador sea de ciclo completo.\n",
        "\n",
        "X0=749\n",
        "a=50387\n",
        "c=171423\n",
        "\n",
        "def gen(x0, a, c, m):"
      ],
      "metadata": {
        "id": "MCSf4coluWld"
      },
      "execution_count": null,
      "outputs": []
    },
    {
      "cell_type": "code",
      "source": [
        "# 4. Sea X una variable aleatoria con la siguiente funcion de densiad de probabilidad:\n",
        "#    X        0     3      7      8\n",
        "#  ----------------------------------\n",
        "#  P(X=x)   0.1    0.2    0.3    0.4\n",
        "#  a) Simule 1,000,000 de valores para X y verifique que aproximadamente dichos valores siguen la funcion de densidad de probabilidad.\n",
        "#  b) Estime por simulacion el valor esperado de X^2 , calcule analiticamente y compare los resultados.\n",
        "\n",
        "def f():\n",
        "  u=random()\n",
        "  if u<=0.1:\n",
        "    x=0\n",
        "  if u<=0.3 and u>0.1:\n",
        "    x=3\n",
        "  if u<=0.6 and u>0.3:\n",
        "    x=7\n",
        "  if u<=1 and u>0.6:\n",
        "    x=8\n",
        "  return x\n",
        "\n",
        "N=1000000\n",
        "l=[]\n",
        "E=0\n",
        "\n",
        "for i in range(N):\n",
        "  l.append(f())\n",
        "e=0*0.1+3*0.2+7*0.3+8*0.4\n",
        "\n",
        "sum=0\n",
        "for m in l:\n",
        "  sum+=m\n",
        "E=sum/len(l)\n",
        "\n",
        "print(e)\n",
        "print(E)\n",
        "\n",
        "plt.plot(l)\n",
        "plt.show()\n"
      ],
      "metadata": {
        "id": "35R1MOU3vEk4",
        "outputId": "5bc73a9c-e3d3-4336-e681-370c0d808dfd",
        "colab": {
          "base_uri": "https://localhost:8080/",
          "height": 483
        }
      },
      "execution_count": 10,
      "outputs": [
        {
          "output_type": "stream",
          "name": "stdout",
          "text": [
            "5.9\n",
            "5.902126\n"
          ]
        },
        {
          "output_type": "display_data",
          "data": {
            "text/plain": [
              "<Figure size 640x480 with 1 Axes>"
            ],
            "image/png": "[encoded data removed]"
          },
          "metadata": {}
        }
      ]
    },
    {
      "cell_type": "code",
      "source": [
        "# 5. X tiene la siguiente  funcion de densidad de probabilidad:\n",
        "#             1\n",
        "#    fx(x)= ----      i=1, 2, 3, ...\n",
        "#            3^i\n",
        "# Estime por simulacion P(X > 5)\n",
        "\n",
        "def f(i):\n",
        "  f=1/(3**i)\n",
        "  return f\n",
        "\n",
        "i=1\n",
        "N=10\n",
        "l=[]\n",
        "num=0\n",
        "\n",
        "for m in range(N):\n",
        "  l.append(f(i))\n",
        "  i+=1\n",
        "\n",
        "for j in l:\n",
        "  if j>5:\n",
        "    num+=1\n",
        "\n",
        "p= num/len(l)\n",
        "print(p)"
      ],
      "metadata": {
        "id": "4K60hVuxv_Z_",
        "outputId": "dff1da6d-95a3-457c-d13a-1f12080fa9ae",
        "colab": {
          "base_uri": "https://localhost:8080/"
        }
      },
      "execution_count": 5,
      "outputs": [
        {
          "output_type": "stream",
          "name": "stdout",
          "text": [
            "0.0\n"
          ]
        }
      ]
    },
    {
      "cell_type": "code",
      "source": [
        "# 6. X tiene la siguiente funcion de probabilidad:\n",
        "#                1\n",
        "#    fx(i) = ----------     i=1, 2, 3, ...\n",
        "#              i(i+1)\n",
        "# a) Estime por simulacion E[X], E[X^2] y V[X]\n",
        "# b) Estime P(X > 4)\n",
        "\n",
        "def f(i):\n",
        "  f=1/(i*(i+1))\n",
        "  return f\n",
        "\n",
        "i=1\n",
        "N=1000\n",
        "l=[]\n",
        "num=0\n",
        "\n",
        "for m in range(N):\n",
        "  l.append(f(i))\n",
        "  i+=1\n",
        "\n",
        "for j in l:\n",
        "  if j>4:\n",
        "    num+=1\n",
        "\n",
        "sum1=0\n",
        "sum2=0\n",
        "for m in l:\n",
        "  sum1+=m\n",
        "  sum2+=m**2\n",
        "\n",
        "E=sum1/len(l)\n",
        "E2=sum2/(len(l))\n",
        "V=E2-(E**2)\n",
        "print(E, mean(l))\n",
        "print(E2)\n",
        "print(V, variance(l))\n",
        "\n",
        "p= num/len(l)\n",
        "print(p)"
      ],
      "metadata": {
        "id": "Anf9jW2zcDZF",
        "outputId": "5f3db8c8-6557-4ee6-befa-f0a8adcb3388",
        "colab": {
          "base_uri": "https://localhost:8080/"
        }
      },
      "execution_count": 21,
      "outputs": [
        {
          "output_type": "stream",
          "name": "stdout",
          "text": [
            "0.0009990009990009997 0.000999000999000999\n",
            "0.00028986813336411775\n",
            "0.0002888701303681127 0.00028915928965777036\n",
            "0.0\n"
          ]
        }
      ]
    },
    {
      "cell_type": "code",
      "source": [
        "# 7. X sigue una distribucion de Poisson con parametro λ=0.5\n",
        "# Estime por simulacion E[Raiz(X)]\n",
        "#                     -λ    K\n",
        "#                   e^   *λ^\n",
        "#      P(X=k) = ----------------\n",
        "#                     K!\n",
        "\n",
        "def poi(lamda, k):\n",
        "  return (exp(-lamda)*(pow(lamda, k)))/math.factorial(k)\n",
        "\n",
        "N=100\n",
        "k=0\n",
        "\n",
        "for i in"
      ],
      "metadata": {
        "id": "uumMQGR6dRmy"
      },
      "execution_count": null,
      "outputs": []
    }
  ]
}