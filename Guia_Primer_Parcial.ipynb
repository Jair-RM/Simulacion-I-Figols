{
  "nbformat": 4,
  "nbformat_minor": 0,
  "metadata": {
    "colab": {
      "provenance": [],
      "authorship_tag": "ABX9TyPP8PY0QN0/jMZPMuIBukMu",
      "include_colab_link": true
    },
    "kernelspec": {
      "name": "python3",
      "display_name": "Python 3"
    },
    "language_info": {
      "name": "python"
    }
  },
  "cells": [
    {
      "cell_type": "markdown",
      "metadata": {
        "id": "view-in-github",
        "colab_type": "text"
      },
      "source": [
        "<a href=\"https://colab.research.google.com/github/Jair-RM/Simulacion-I-Figols/blob/main/Guia_Primer_Parcial.ipynb\" target=\"_parent\"><img src=\"https://colab.research.google.com/assets/colab-badge.svg\" alt=\"Open In Colab\"/></a>"
      ]
    },
    {
      "cell_type": "code",
      "execution_count": 2,
      "metadata": {
        "id": "m6mM4keXq4pk"
      },
      "outputs": [],
      "source": [
        "import math\n",
        "from math import log, exp, sqrt, cos, acos, pi, sin, factorial\n",
        "from statistics import mean, stdev, variance\n",
        "from scipy.stats import norm\n",
        "import random as rnd\n",
        "from random import random, gauss\n",
        "import numpy as np\n",
        "import matplotlib.pyplot as plt\n",
        "from time import time\n",
        "#from numba import jit\n",
        "# < > ∈ o ∉ |"
      ]
    },
    {
      "cell_type": "code",
      "source": [
        "# 1.a) EstimaEstimar por simulacion de Montecarlo el valor de raiz(7)\n",
        "# 1.b) ¿Cuantas simulaciones hay que realizar para que la probabilidad de cometer un error\n",
        "#      mayor que 0.01 sea menor que 0.001?\n",
        "\n",
        "print(\"El valor real es de :\", sqrt(7)) #Valor real\n",
        "\n",
        "N=1000000\n",
        "n=0\n",
        "lx=[]\n",
        "ly=[]\n",
        "lc=[]\n",
        "for i in range(N):\n",
        "  r=3*random()\n",
        "  if r**2 < 7:\n",
        "    n=n+1\n",
        "  if i>1000 and i&100==0:\n",
        "    lx.append(i)\n",
        "    ly.append(3*n/(i+1))\n",
        "    lc.append(sqrt(7))\n",
        "x=3*n/N\n",
        "print(\"Nuestra estimacion es de:\", x)\n",
        "print(\"El cuadrado de ese numero es: \", x**2)\n",
        "plt.plot(lx, ly)\n",
        "plt.plot(lx, lc)\n",
        "plt.show()\n"
      ],
      "metadata": {
        "colab": {
          "base_uri": "https://localhost:8080/",
          "height": 500
        },
        "id": "4t7GNT2Jq8W_",
        "outputId": "de6611f8-6834-4e8a-8fb5-221c8e700d2e"
      },
      "execution_count": null,
      "outputs": [
        {
          "output_type": "stream",
          "name": "stdout",
          "text": [
            "El valor real es de : 2.6457513110645907\n",
            "Nuestra estimacion es de: 2.646492\n",
            "El cuadrado de ese numero es:  7.003919906064\n"
          ]
        },
        {
          "output_type": "display_data",
          "data": {
            "text/plain": [
              "<Figure size 640x480 with 1 Axes>"
            ],
            "image/png": "[encoded data removed]"
          },
          "metadata": {}
        }
      ]
    },
    {
      "cell_type": "code",
      "source": [
        "# 2. Estime por simulacion de MOntecarlo el volumen de una esfera de radio 1\n",
        "\n",
        "r=1\n",
        "vol=(4/3)*pi*pow(r, 3)\n",
        "print(\"Valor real\", vol)\n",
        "\n",
        "def cub():\n",
        "  u=np.random.uniform(-1, 1)"
      ],
      "metadata": {
        "colab": {
          "base_uri": "https://localhost:8080/"
        },
        "id": "lSxcMR6qtuly",
        "outputId": "763002a3-0863-4b67-a125-32b251822e4a"
      },
      "execution_count": null,
      "outputs": [
        {
          "output_type": "stream",
          "name": "stdout",
          "text": [
            "Valor real 4.1887902047863905\n"
          ]
        }
      ]
    },
    {
      "cell_type": "code",
      "source": [
        "# 3. Considere un generador cngruencial X(n+1) = (aXn + c ) mod (m) con\n",
        "# X0=749, a=50387 y c=171423\n",
        "# Encuentre un valor de m para que el generador sea de ciclo completo.\n",
        "\n",
        "X0=749\n",
        "a=50387\n",
        "c=171423\n",
        "\n",
        "def gen(x0, a, c, m):"
      ],
      "metadata": {
        "id": "MCSf4coluWld"
      },
      "execution_count": null,
      "outputs": []
    },
    {
      "cell_type": "code",
      "source": [
        "# 4. Sea X una variable aleatoria con la siguiente funcion de densiad de probabilidad:\n",
        "#    X        0     3      7      8\n",
        "#  ----------------------------------\n",
        "#  P(X=x)   0.1    0.2    0.3    0.4\n",
        "#  a) Simule 1,000,000 de valores para X y verifique que aproximadamente dichos valores siguen la funcion de densidad de probabilidad.\n",
        "#  b) Estime por simulacion el valor esperado de X^2 , calcule analiticamente y compare los resultados.\n",
        "\n",
        "def f():\n",
        "  u=random()\n",
        "  if u<=0.1:\n",
        "    x=0\n",
        "  if u<=0.3 and u>0.1:\n",
        "    x=3\n",
        "  if u<=0.6 and u>0.3:\n",
        "    x=7\n",
        "  if u<=1 and u>0.6:\n",
        "    x=8\n",
        "  return x\n",
        "\n",
        "N=1000000\n",
        "l=[]\n",
        "E=0\n",
        "\n",
        "for i in range(N):\n",
        "  l.append(f())\n",
        "e=0*0.1+3*0.2+7*0.3+8*0.4\n",
        "\n",
        "sum=0\n",
        "for m in l:\n",
        "  sum+=m\n",
        "E=sum/len(l)\n",
        "\n",
        "print(e)\n",
        "print(E)\n",
        "\n",
        "plt.plot(l)\n",
        "plt.show()\n"
      ],
      "metadata": {
        "id": "35R1MOU3vEk4",
        "outputId": "5bc73a9c-e3d3-4336-e681-370c0d808dfd",
        "colab": {
          "base_uri": "https://localhost:8080/",
          "height": 483
        }
      },
      "execution_count": null,
      "outputs": [
        {
          "output_type": "stream",
          "name": "stdout",
          "text": [
            "5.9\n",
            "5.902126\n"
          ]
        },
        {
          "output_type": "display_data",
          "data": {
            "text/plain": [
              "<Figure size 640x480 with 1 Axes>"
            ],
            "image/png": "[encoded data removed]"
          },
          "metadata": {}
        }
      ]
    },
    {
      "cell_type": "code",
      "source": [
        "# 5. X tiene la siguiente  funcion de densidad de probabilidad:\n",
        "#             1\n",
        "#    fx(x)= ----      i=1, 2, 3, ...\n",
        "#            3^i\n",
        "# Estime por simulacion P(X > 5)\n",
        "\n",
        "def f(i):\n",
        "  f=1/(3**i)\n",
        "  return f\n",
        "\n",
        "i=1\n",
        "N=10000\n",
        "l=[]\n",
        "X=[]\n",
        "num=0\n",
        "sum=0\n",
        "\n",
        "for m in range(N):\n",
        "  l.append(f(i))\n",
        "  X.append(i)\n",
        "  i+=1\n",
        "\n",
        "for j in X:\n",
        "  if j>5:\n",
        "    num+=l[j-1]\n",
        "\n",
        "for k in l:\n",
        "  sum+=k\n",
        "\n",
        "p=2*num\n",
        "print(p)\n",
        "print(sum)"
      ],
      "metadata": {
        "id": "4K60hVuxv_Z_",
        "outputId": "e6c3b3f9-0b93-4326-fdf7-01277345bd5d",
        "colab": {
          "base_uri": "https://localhost:8080/"
        }
      },
      "execution_count": null,
      "outputs": [
        {
          "output_type": "stream",
          "name": "stdout",
          "text": [
            "0.00411522633744856\n",
            "0.49999999999999983\n"
          ]
        }
      ]
    },
    {
      "cell_type": "code",
      "source": [
        "# 6. X tiene la siguiente funcion de probabilidad:\n",
        "#                1\n",
        "#    fx(i) = ----------     i=1, 2, 3, ...\n",
        "#              i(i+1)\n",
        "# a) Estime por simulacion E[X], E[X^2] y V[X]\n",
        "# b) Estime P(X > 4)\n",
        "\n",
        "def f(i):\n",
        "  f=1/(i*(i+1))\n",
        "  return f\n",
        "\n",
        "i=1\n",
        "N=1000\n",
        "l=[]\n",
        "num=0\n",
        "\n",
        "for m in range(N):\n",
        "  l.append(f(i))\n",
        "  i+=1\n",
        "\n",
        "for j in l:\n",
        "  if j>4:\n",
        "    num+=1\n",
        "\n",
        "sum1=0\n",
        "sum2=0\n",
        "for m in l:\n",
        "  sum1+=m\n",
        "  sum2+=m**2\n",
        "\n",
        "E=sum1/len(l)\n",
        "E2=sum2/(len(l))\n",
        "V=E2-(E**2)\n",
        "print(E, mean(l))\n",
        "print(E2)\n",
        "print(V, variance(l))\n",
        "\n",
        "p= num/len(l)\n",
        "print(p)"
      ],
      "metadata": {
        "id": "Anf9jW2zcDZF",
        "outputId": "5f3db8c8-6557-4ee6-befa-f0a8adcb3388",
        "colab": {
          "base_uri": "https://localhost:8080/"
        }
      },
      "execution_count": null,
      "outputs": [
        {
          "output_type": "stream",
          "name": "stdout",
          "text": [
            "0.0009990009990009997 0.000999000999000999\n",
            "0.00028986813336411775\n",
            "0.0002888701303681127 0.00028915928965777036\n",
            "0.0\n"
          ]
        }
      ]
    },
    {
      "cell_type": "code",
      "source": [
        "# 7. X sigue una distribucion de Poisson con parametro λ=0.5\n",
        "# Estime por simulacion E[Raiz(X)]\n",
        "#                     -λ    K\n",
        "#                   e^   *λ^\n",
        "#      P(X=k) = ----------------\n",
        "#                     K!\n",
        "\n",
        "def poi(lamda, k):\n",
        "  return (exp(-lamda)*(pow(lamda, k)))/math.factorial(k)\n",
        "\n",
        "N=100\n",
        "k=0\n",
        "\n",
        "for i in"
      ],
      "metadata": {
        "id": "uumMQGR6dRmy"
      },
      "execution_count": null,
      "outputs": []
    },
    {
      "cell_type": "code",
      "source": [
        "# 8. X tiene una funcion de densidad de probabilidad dada por:\n",
        "#          fx(X)={4x^3 si x ∈ [0, 1]\n",
        "#                {0 en otro caso\n",
        "# Estime por simulacion el valor esperado de Raiz(X)"
      ],
      "metadata": {
        "id": "u7A-8tSPDdNB"
      },
      "execution_count": null,
      "outputs": []
    },
    {
      "cell_type": "code",
      "source": [
        "# 9. La variable aleatoria X tiene la siguiente funcion de densidad de probabilidad:\n",
        "#             {   x  si x ∈ [0, 1]\n",
        "#       fx(X)={ -x+2 si x ∈ [1, 2]\n",
        "#             {   0 en otro caso\n",
        "# a) Genere 1,000,000 valores para X y contruya un histograma para verificar que\n",
        "#    simula los numeros correctamente\n",
        "# b) Estime el valor esperado de e^(-x^2)\n",
        "\n",
        "def fx():\n",
        "  u=random()\n",
        "  if u<=0.5:\n",
        "    x=sqrt(2*u)\n",
        "  else:\n",
        "    x=2 - sqrt(2-2*u)\n",
        "  return x\n",
        "\n",
        "N=1000000\n",
        "l=[]\n",
        "\n",
        "for i in range(N):\n",
        "  l.append(fx())\n",
        "\n",
        "esp=0\n",
        "for j in l:\n",
        "  esp+=exp(-pow(j, 2))\n",
        "esp=esp/N\n",
        "\n",
        "print(\"El valor esperado es: \", esp, \"\\n\")\n",
        "plt.hist(l, density=1, bins=100, color=\"aqua\", edgecolor=\"black\")\n",
        "plt.title('Histograma de simulación de la variable aleatoria X')\n",
        "plt.xlabel('X')\n",
        "plt.ylabel('Densidad')\n",
        "#plt.legend()\n",
        "plt.grid()\n",
        "plt.show()"
      ],
      "metadata": {
        "id": "bu2W4XBmEv2-",
        "outputId": "e12c448e-e946-4f88-bf32-f382aad5a2bc",
        "colab": {
          "base_uri": "https://localhost:8080/",
          "height": 507
        }
      },
      "execution_count": 20,
      "outputs": [
        {
          "output_type": "stream",
          "name": "stdout",
          "text": [
            "El valor esperado es:  0.4119376378972326 \n",
            "\n"
          ]
        },
        {
          "output_type": "display_data",
          "data": {
            "text/plain": [
              "<Figure size 640x480 with 1 Axes>"
            ],
            "image/png": "[encoded data removed]"
          },
          "metadata": {}
        }
      ]
    },
    {
      "cell_type": "code",
      "source": [
        "# 10. Sea X la variable aleatoria definida por:\n",
        "# x=Min{m∈N | U1+U2+...+Um > 1} donde U1, U2, U3, ... son variables aleatorias\n",
        "# unifirmemente distribuidos en [0, 1] e independientes. Estime E[X]"
      ],
      "metadata": {
        "id": "6AKJJ-eZF06T"
      },
      "execution_count": null,
      "outputs": []
    },
    {
      "cell_type": "code",
      "source": [
        "# 11. Sea X con distribucion exponencial con parametro 0.5 y Y con distribucion\n",
        "# uniforme en [0, 1], aademas X y Y son independientes.\n",
        "# a) Estime por simulacion E[X^2 * Y]\n",
        "# b) De un intervalo de confianza del 90% para la estimacion del inciso a)"
      ],
      "metadata": {
        "id": "8e1td6VBNPSY"
      },
      "execution_count": null,
      "outputs": []
    },
    {
      "cell_type": "code",
      "source": [
        "# 12. En un juego de volado de dos jugadores A y B, si la moneda sale aguila, A le da\n",
        "# un peso a B, y si sale sol, B le da un peso a A. El juego termina cuando alguno de\n",
        "# los jugadores se queda sin dinero. Inicialmente A y B tienen $8. Estime el valor\n",
        "# esperado del numero de volados hasta que termna el juego\n",
        "\n",
        "A=8\n",
        "B=8\n",
        "count=0\n",
        "l=[]\n",
        "while (A!=0 or B!=0) or count<1000:\n",
        "  u=random()\n",
        "  if u<0.5:\n",
        "    l.append(\"A\")\n",
        "    A=A-1\n",
        "    B=B+1\n",
        "  else:\n",
        "    l.append(\"S\")\n",
        "    A=A+1\n",
        "    B=B-1\n",
        "  count+=1\n",
        "print(l)\n",
        "print(count)\n",
        "print(\"A= \", A)\n",
        "print(\"B= \", B)"
      ],
      "metadata": {
        "id": "bswXvGP4WFcn"
      },
      "execution_count": null,
      "outputs": []
    }
  ]
}