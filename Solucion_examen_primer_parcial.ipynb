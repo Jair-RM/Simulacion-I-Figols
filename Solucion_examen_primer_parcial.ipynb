{
  "nbformat": 4,
  "nbformat_minor": 0,
  "metadata": {
    "colab": {
      "provenance": [],
      "authorship_tag": "ABX9TyOm2Q08knm6YOwbrssJgyOj",
      "include_colab_link": true
    },
    "kernelspec": {
      "name": "python3",
      "display_name": "Python 3"
    },
    "language_info": {
      "name": "python"
    }
  },
  "cells": [
    {
      "cell_type": "markdown",
      "metadata": {
        "id": "view-in-github",
        "colab_type": "text"
      },
      "source": [
        "<a href=\"https://colab.research.google.com/github/Jair-RM/Simulacion-I-Figols/blob/main/Solucion_examen_primer_parcial.ipynb\" target=\"_parent\"><img src=\"https://colab.research.google.com/assets/colab-badge.svg\" alt=\"Open In Colab\"/></a>"
      ]
    },
    {
      "cell_type": "code",
      "execution_count": 8,
      "metadata": {
        "id": "z6qtxgh-lYFU"
      },
      "outputs": [],
      "source": [
        "#Examen\n",
        "import matplotlib.pyplot as plt\n",
        "from scipy.stats import gaussian_kde\n",
        "from scipy.optimize import minimize\n",
        "from random import gauss, seed\n",
        "from math import sqrt, log\n",
        "import numpy as np\n",
        "from numba import jit"
      ]
    },
    {
      "cell_type": "code",
      "source": [
        "@jit(nopython=True)\n",
        "def genz():\n",
        "  return max(random(), random())\n",
        "n=100000000\n",
        "suma=0\n",
        "cuenta=0\n",
        "for i in range(n):\n",
        "  z=genz()\n",
        "  suma=suma+z\n",
        "  if z > 0.4:\n",
        "    cuenta=cuenta+1\n",
        "print(suma/n, cuenta/n)"
      ],
      "metadata": {
        "colab": {
          "base_uri": "https://localhost:8080/"
        },
        "id": "9YPr8krGvQeI",
        "outputId": "b8e78bad-288f-47a3-9cfe-952ff3c00a4b"
      },
      "execution_count": 9,
      "outputs": [
        {
          "output_type": "stream",
          "name": "stdout",
          "text": [
            "0.6666407472026583 0.83996292\n"
          ]
        }
      ]
    },
    {
      "cell_type": "code",
      "source": [
        "from random import random\n",
        "from math import sqrt\n",
        "from numba import jit\n",
        "@jit(nopython=True)\n",
        "\n",
        "def f(N):\n",
        "  n=0\n",
        "  for i in range(N):\n",
        "    x=3*random()\n",
        "    if x**2<5:\n",
        "      n=n+1\n",
        "  return 3*n/N\n",
        "N=1000000000\n",
        "\n",
        "print(f(N), sqrt(5))"
      ],
      "metadata": {
        "colab": {
          "base_uri": "https://localhost:8080/"
        },
        "id": "lyopOK8Wn8GJ",
        "outputId": "739c30d4-d9f0-47cc-cd57-2e4de6f6f5bc"
      },
      "execution_count": 4,
      "outputs": [
        {
          "output_type": "stream",
          "name": "stdout",
          "text": [
            "2.236110816 2.23606797749979\n"
          ]
        }
      ]
    },
    {
      "cell_type": "code",
      "source": [
        "from random import random\n",
        "def gen():\n",
        "  u=random()\n",
        "  return int(1/(1-u))\n",
        "l=[0,0,0,0]\n",
        "N=100000000\n",
        "for i in range(N):\n",
        "  k=gen()\n",
        "  if k < 4:\n",
        "    l[k]=l[k]+1\n",
        "for j in range(4):\n",
        "  l[j]=l[j]/N\n",
        "print(l)\n",
        "suma=0\n",
        "for i in range(N):\n",
        "  k=gen()\n",
        "  suma=suma+1/k**2\n",
        "print(suma/N)"
      ],
      "metadata": {
        "colab": {
          "base_uri": "https://localhost:8080/"
        },
        "id": "8Gqi2MXCzHJN",
        "outputId": "baba8824-1395-478e-8899-97db072f4639"
      },
      "execution_count": 10,
      "outputs": [
        {
          "output_type": "stream",
          "name": "stdout",
          "text": [
            "[0.0, 0.50003704, 0.16662502, 0.08328481]\n",
            "0.5571828470387558\n"
          ]
        }
      ]
    }
  ]
}