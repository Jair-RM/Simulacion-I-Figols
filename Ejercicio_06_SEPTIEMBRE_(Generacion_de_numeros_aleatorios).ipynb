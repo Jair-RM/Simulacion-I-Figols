{
  "nbformat": 4,
  "nbformat_minor": 0,
  "metadata": {
    "colab": {
      "private_outputs": true,
      "provenance": [],
      "authorship_tag": "ABX9TyMTrCsxFAWIR7wwGBnH+mHK",
      "include_colab_link": true
    },
    "kernelspec": {
      "name": "python3",
      "display_name": "Python 3"
    },
    "language_info": {
      "name": "python"
    }
  },
  "cells": [
    {
      "cell_type": "markdown",
      "metadata": {
        "id": "view-in-github",
        "colab_type": "text"
      },
      "source": [
        "<a href=\"https://colab.research.google.com/github/Jair-RM/Simulacion-I-Figols/blob/main/Ejercicio_06_SEPTIEMBRE_(Generacion_de_numeros_aleatorios).ipynb\" target=\"_parent\"><img src=\"https://colab.research.google.com/assets/colab-badge.svg\" alt=\"Open In Colab\"/></a>"
      ]
    },
    {
      "cell_type": "code",
      "execution_count": null,
      "metadata": {
        "id": "zIFA1YtM6wXw"
      },
      "outputs": [],
      "source": [
        "import math\n",
        "import random as rnd\n",
        "from random import random\n",
        "import numpy as np\n",
        "import matplotlib.pyplot as plt\n",
        "#from numba import jit\n",
        "# @jit(nopython=True)"
      ]
    },
    {
      "cell_type": "code",
      "source": [
        "def gen():\n",
        "    u=random()\n",
        "    if u<1/10:\n",
        "      x=0\n",
        "    elif u<3/10:\n",
        "      x=2\n",
        "    elif u<7/10:\n",
        "      x=5\n",
        "    else:\n",
        "      x=8\n",
        "    return x\n",
        "n=1000000\n",
        "l=[]\n",
        "for i in range(n):\n",
        "  l.append(gen())\n",
        "print(l.count(0)/n)\n",
        "print(l.count(2)/n)\n",
        "print(l.count(5)/n)\n",
        "print(l.count(8)/n)"
      ],
      "metadata": {
        "id": "xbhDtokABTGN"
      },
      "execution_count": null,
      "outputs": []
    },
    {
      "cell_type": "code",
      "source": [
        "def binomial(n,p):\n",
        "  u=random()\n",
        "  pi=(1-p)**n\n",
        "  suma=pi\n",
        "  k=0\n",
        "  while u>suma:\n",
        "    pi=pi*(n-k)*p/((k+1)*(1-p))\n",
        "    suma=suma + pi\n",
        "    k=k + 1\n",
        "  return k\n",
        "n=20\n",
        "p=1/4\n",
        "for i in range(100):\n",
        "  print(binomial(n,p), \"  \", end=\"\")"
      ],
      "metadata": {
        "id": "xFl2HqoqBYde"
      },
      "execution_count": null,
      "outputs": []
    }
  ]
}