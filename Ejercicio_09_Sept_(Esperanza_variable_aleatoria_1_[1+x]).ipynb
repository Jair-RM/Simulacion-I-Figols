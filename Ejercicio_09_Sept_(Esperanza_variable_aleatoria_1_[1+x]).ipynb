{
  "nbformat": 4,
  "nbformat_minor": 0,
  "metadata": {
    "colab": {
      "private_outputs": true,
      "provenance": [],
      "authorship_tag": "ABX9TyO9EKZTCmTlKpWIxfUqhMEe",
      "include_colab_link": true
    },
    "kernelspec": {
      "name": "python3",
      "display_name": "Python 3"
    },
    "language_info": {
      "name": "python"
    }
  },
  "cells": [
    {
      "cell_type": "markdown",
      "metadata": {
        "id": "view-in-github",
        "colab_type": "text"
      },
      "source": [
        "<a href=\"https://colab.research.google.com/github/Jair-RM/Simulacion-I-Figols/blob/main/Ejercicio_09_Sept_(Esperanza_variable_aleatoria_1_%5B1%2Bx%5D).ipynb\" target=\"_parent\"><img src=\"https://colab.research.google.com/assets/colab-badge.svg\" alt=\"Open In Colab\"/></a>"
      ]
    },
    {
      "cell_type": "code",
      "execution_count": null,
      "metadata": {
        "id": "4WtDxCcAQLbS"
      },
      "outputs": [],
      "source": [
        "import math\n",
        "import random as rnd\n",
        "from random import random\n",
        "import numpy as np\n",
        "import matplotlib.pyplot as plt\n",
        "from statistics import mean, variance"
      ]
    },
    {
      "cell_type": "code",
      "source": [
        "def gen():\n",
        "  u=random()\n",
        "  pk=1/2\n",
        "  sk=pk\n",
        "  k=1\n",
        "  while u>sk:\n",
        "    pk=pk/2\n",
        "    sk=sk+pk\n",
        "    k=k+1\n",
        "  return k\n",
        "nr=100000\n",
        "suma=0\n",
        "for i in range (nr):\n",
        "  x=gen()\n",
        "  suma=suma+(1+(1+x))\n",
        "print(suma/nr)"
      ],
      "metadata": {
        "id": "s0hIHa4qc5F5"
      },
      "execution_count": null,
      "outputs": []
    },
    {
      "cell_type": "code",
      "source": [
        "def gen():\n",
        "  u=random()\n",
        "  i=1\n",
        "  pk=(0.6**(i-1))*(0.4)\n",
        "  sk=pk\n",
        "  k=1\n",
        "  while u>sk:\n",
        "    i=i+1\n",
        "    pk=(0.6**(i-1))*(0.4)\n",
        "    sk=pk\n",
        "    k=k+1\n",
        "  return k\n",
        "n=100000\n",
        "suma=0\n",
        "for i in range (n):\n",
        "  x=gen()\n",
        "  suma=suma+(math.sqrt(x))\n",
        "print(suma/n)"
      ],
      "metadata": {
        "id": "5DnhI4U1hUhc"
      },
      "execution_count": null,
      "outputs": []
    }
  ]
}