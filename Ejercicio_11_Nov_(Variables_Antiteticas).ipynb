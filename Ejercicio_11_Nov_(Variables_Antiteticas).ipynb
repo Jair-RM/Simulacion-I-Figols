{
  "nbformat": 4,
  "nbformat_minor": 0,
  "metadata": {
    "colab": {
      "provenance": [],
      "authorship_tag": "ABX9TyPAkRnnD1bk7pPON/Z1Zpuh",
      "include_colab_link": true
    },
    "kernelspec": {
      "name": "python3",
      "display_name": "Python 3"
    },
    "language_info": {
      "name": "python"
    }
  },
  "cells": [
    {
      "cell_type": "markdown",
      "metadata": {
        "id": "view-in-github",
        "colab_type": "text"
      },
      "source": [
        "<a href=\"https://colab.research.google.com/github/Jair-RM/Simulacion-I-Figols/blob/main/Ejercicio_11_Nov_(Variables_Antiteticas).ipynb\" target=\"_parent\"><img src=\"https://colab.research.google.com/assets/colab-badge.svg\" alt=\"Open In Colab\"/></a>"
      ]
    },
    {
      "cell_type": "code",
      "source": [
        "from math import log, exp, sqrt, cos, acos, pi, sin, factorial\n",
        "from random import random, gauss\n",
        "\n",
        "l=[]\n",
        "esp=0\n",
        "n=1000\n",
        "N=n\n",
        "while n>0:\n",
        "  x=sqrt(random())\n",
        "  l.append(x)\n",
        "  esp=esp+sqrt(1+pow(x, 4))\n",
        "  n=n-1\n",
        "\n",
        "print(esp/N)"
      ],
      "metadata": {
        "colab": {
          "base_uri": "https://localhost:8080/"
        },
        "id": "nkMUH0HUuTPR",
        "outputId": "04a3d260-bdd4-47f0-df03-2cdb083e30f1"
      },
      "execution_count": 3,
      "outputs": [
        {
          "output_type": "stream",
          "name": "stdout",
          "text": [
            "1.143019599797424\n"
          ]
        }
      ]
    },
    {
      "cell_type": "code",
      "execution_count": null,
      "metadata": {
        "id": "sjvgA4qqsHRh"
      },
      "outputs": [],
      "source": [
        "# X tiene la siguiente funcion de densidad de probabilidad.\n",
        "#\n",
        "# fx(X)= {2x si x ∈ [0,1]\n",
        "#        { 0 en otro caso\n",
        "# a) Estimar el valor esperado de √(1+X^4)\n",
        "# b) Use la tecnica de variables antiteticas para reducir la varianza\n",
        "#    ¿En que porcentaje se redujo?"
      ]
    },
    {
      "cell_type": "code",
      "source": [
        "from random import random\n",
        "from statistics import mean, variance\n",
        "from math import sqrt\n",
        "\n",
        "def f(x):\n",
        "  return sqrt(1+x**4)\n",
        "l=[]\n",
        "l1=[]\n",
        "nr=1000000\n",
        "for i in range(nr):\n",
        "  u=random()\n",
        "  x1=sqrt(u)\n",
        "  x2=sqrt(1-u)\n",
        "  l.append(f(x1))\n",
        "  l1.append((f(x1)+f(x2))/2)\n",
        "m=mean(l)\n",
        "m1=mean(l1)\n",
        "v=variance(l)\n",
        "v1=variance(l1)\n",
        "print(m)\n",
        "print(100*(v-v1)/v)"
      ],
      "metadata": {
        "colab": {
          "base_uri": "https://localhost:8080/"
        },
        "id": "Gyt9NjgJ1sQs",
        "outputId": "8aae1879-347a-4d69-cf5f-32ef06310bb8"
      },
      "execution_count": 4,
      "outputs": [
        {
          "output_type": "stream",
          "name": "stdout",
          "text": [
            "1.1479637177062607\n",
            "95.56053130719954\n"
          ]
        }
      ]
    },
    {
      "cell_type": "code",
      "source": [
        "from random import random\n",
        "from statistics import mean, variance\n",
        "from math import sqrt\n",
        "\n",
        "def f(x):\n",
        "  return sqrt(1+x**2)\n",
        "l=[]\n",
        "l1=[]\n",
        "nr=1000000\n",
        "for i in range(nr):\n",
        "  u=random()\n",
        "  x1=sqrt(u)\n",
        "  x2=sqrt(1-u)\n",
        "  l.append(f(x1))\n",
        "  l1.append((f(x1)+f(x2))/2)\n",
        "m=mean(l)\n",
        "m1=mean(l1)\n",
        "v=variance(l)\n",
        "v1=variance(l1)\n",
        "print(m)\n",
        "print(100*(v-v1)/v)"
      ],
      "metadata": {
        "colab": {
          "base_uri": "https://localhost:8080/"
        },
        "id": "Q6ATY3LP2jJb",
        "outputId": "ea752742-ea0f-4201-9f4e-cae06aae934c"
      },
      "execution_count": 5,
      "outputs": [
        {
          "output_type": "stream",
          "name": "stdout",
          "text": [
            "1.2188929551678336\n",
            "99.80676322400818\n"
          ]
        }
      ]
    },
    {
      "cell_type": "code",
      "source": [
        "from random import random, expovariate\n",
        "from statistics import mean, variance\n",
        "from math import sqrt\n",
        "\n",
        "def f(x):\n",
        "  return sqrt(1+x**2)\n",
        "l=[]\n",
        "l1=[]\n",
        "nr=1000000\n",
        "for i in range(nr):\n",
        "  u=random()\n",
        "  x1=expovariate(1)\n",
        "  x2=-log(1-exp(-x))\n",
        "  l.append(f(x1))\n",
        "  l1.append((f(x1)+f(x2))/2)\n",
        "m=mean(l)\n",
        "m1=mean(l1)\n",
        "v=variance(l)\n",
        "v1=variance(l1)\n",
        "print(m)\n",
        "print(100*(v-v1)/v)"
      ],
      "metadata": {
        "colab": {
          "base_uri": "https://localhost:8080/"
        },
        "id": "MGDyTI7i2uUb",
        "outputId": "0875bc66-ccd8-430d-bc5a-7ac692a154bc"
      },
      "execution_count": 7,
      "outputs": [
        {
          "output_type": "stream",
          "name": "stdout",
          "text": [
            "1.5379911721028563\n",
            "75.0\n"
          ]
        }
      ]
    }
  ]
}