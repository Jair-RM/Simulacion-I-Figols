{
  "nbformat": 4,
  "nbformat_minor": 0,
  "metadata": {
    "colab": {
      "provenance": [],
      "authorship_tag": "ABX9TyNlfafycL+4gcypA07YAKRK",
      "include_colab_link": true
    },
    "kernelspec": {
      "name": "python3",
      "display_name": "Python 3"
    },
    "language_info": {
      "name": "python"
    }
  },
  "cells": [
    {
      "cell_type": "markdown",
      "metadata": {
        "id": "view-in-github",
        "colab_type": "text"
      },
      "source": [
        "<a href=\"https://colab.research.google.com/github/Jair-RM/Simulacion-I-Figols/blob/main/Ejercicio_11_OCTUBRE_(Lineas_de_espera_1_servidor).ipynb\" target=\"_parent\"><img src=\"https://colab.research.google.com/assets/colab-badge.svg\" alt=\"Open In Colab\"/></a>"
      ]
    },
    {
      "cell_type": "code",
      "execution_count": 4,
      "metadata": {
        "id": "M3x01DszmdvM",
        "colab": {
          "base_uri": "https://localhost:8080/",
          "height": 1000
        },
        "outputId": "02a6c549-7d50-46a1-c981-24e92a56f05f"
      },
      "outputs": [
        {
          "output_type": "stream",
          "name": "stdout",
          "text": [
            "      0.00 1\n",
            "                                    0.353 0\n",
            "      0.80 1\n",
            "                                    0.906 0\n",
            "      2.40 1\n",
            "                                    2.537 0\n",
            "      2.86 1\n",
            "      3.08 2\n",
            "      3.24 3\n",
            "                                    3.558 2\n",
            "                                    3.714 1\n",
            "                                    3.848 0\n",
            "      4.04 1\n",
            "                                    4.692 0\n",
            "      5.04 1\n",
            "                                    5.294 0\n",
            "      5.33 1\n",
            "                                    5.430 0\n",
            "      6.46 1\n",
            "      7.07 2\n",
            "                                    7.257 1\n",
            "                                    7.469 0\n",
            "      7.65 1\n",
            "                                    8.141 0\n",
            "      9.42 1\n",
            "                                   10.019 0\n",
            "     12.57 1\n",
            "                                   12.580 0\n",
            "     12.78 1\n",
            "     13.18 2\n",
            "                                   13.943 1\n",
            "     15.15 2\n",
            "     15.77 3\n",
            "     15.80 4\n",
            "     16.06 5\n",
            "     16.24 6\n",
            "     16.28 7\n",
            "     16.82 8\n",
            "     17.33 9\n",
            "                                   17.335 8\n",
            "     17.60 9\n",
            "                                   17.635 8\n",
            "                                   18.066 7\n",
            "     18.40 8\n",
            "                                   18.539 7\n",
            "     18.64 8\n",
            "     19.39 9\n",
            "     19.50 10\n",
            "     19.81 11\n"
          ]
        },
        {
          "output_type": "display_data",
          "data": {
            "text/plain": [
              "<Figure size 640x480 with 1 Axes>"
            ],
            "image/png": "[encoded data removed]"
          },
          "metadata": {}
        }
      ],
      "source": [
        "from math import log\n",
        "from random import random\n",
        "import matplotlib.pyplot as plt\n",
        "T=30\n",
        "l_l=1\n",
        "l_s=1.2\n",
        "t=0\n",
        "infi=1000000000\n",
        "ts=infi\n",
        "tl=0\n",
        "l=0\n",
        "while min(tl, ts)<T:\n",
        "  t=min(tl, ts)\n",
        "  if t==tl:\n",
        "    l=l+1\n",
        "    print(\"%10.2f\"%tl, l)\n",
        "    tl=t - (1/l_l)*log(random())\n",
        "    if l==1:\n",
        "      ts=t - (1/l_s)*log(random())\n",
        "  else:\n",
        "    l=l-1\n",
        "    print(\"                              \", \"%10.3f\"%ts, l)\n",
        "    if l==0:\n",
        "      ts=infi\n",
        "    else:\n",
        "      ts=t - (1/l_s)*log(random())"
      ]
    },
    {
      "cell_type": "code",
      "source": [
        "#2\n",
        "from math import log\n",
        "from random import random\n",
        "import matplotlib.pyplot as plt\n",
        "T=20\n",
        "l_l=1\n",
        "l_s=1.2\n",
        "t=0\n",
        "infi=1000000000\n",
        "ts=infi\n",
        "tl=0\n",
        "l=0\n",
        "lt=[]\n",
        "ll=[]\n",
        "while min(tl, ts)<T:\n",
        "  lt.append(t)\n",
        "  ll.append(l)\n",
        "  t=min(tl, ts)\n",
        "  lt.append(t)\n",
        "  ll.append(l)\n",
        "  if t==tl:\n",
        "    l=l+1\n",
        "    print(\"%10.2f\"%tl, l)\n",
        "    tl=t - (1/l_l)*log(random())\n",
        "    if l==1:\n",
        "      ts=t - (1/l_s)*log(random())\n",
        "  else:\n",
        "    l=l-1\n",
        "    print(\"                              \", \"%10.3f\"%ts, l)\n",
        "    if l>0:\n",
        "      ts=t - (1/l_s)*log(random())\n",
        "    else:\n",
        "      ts=infi\n",
        "plt.plot(lt, ll)\n",
        "plt.show()"
      ],
      "metadata": {
        "id": "WQrSr14APNC3"
      },
      "execution_count": null,
      "outputs": []
    },
    {
      "cell_type": "code",
      "source": [
        "#3\n",
        "from math import log\n",
        "from random import random\n",
        "import matplotlib.pyplot as plt\n",
        "T=20\n",
        "l_l=1\n",
        "l_s=1.2\n",
        "t=0\n",
        "infi=1000000000\n",
        "ts=infi\n",
        "tl=0\n",
        "l=0\n",
        "lt=[]\n",
        "ll=[]\n",
        "area=0\n",
        "while min(tl, ts)<T:\n",
        "  lt.append(t)\n",
        "  ll.append(l)\n",
        "  ta=t\n",
        "  t=min(tl, ts)\n",
        "  lt.append(t)\n",
        "  ll.append(l)\n",
        "  area=area+l*(t- ta)\n",
        "  if t==tl:\n",
        "    l=l+1\n",
        "    print(\"%10.2f\"%tl, l)\n",
        "    tl=t - (1/l_l)*log(random())\n",
        "\n",
        "    if l==1:\n",
        "      ts=t - (1/l_s)*log(random())\n",
        "  else:\n",
        "    l=l-1\n",
        "    print(\"                              \", \"%10.3f\"%ts, l)\n",
        "    if l==0:\n",
        "      ts=infi\n",
        "    else:\n",
        "      ts=t - (1/l_s)*log(random())\n",
        "area=area+l*(T-t)\n",
        "valormedio=area/T\n",
        "print(\"el valor medio es: \", valormedio)\n",
        "plt.plot(lt, ll, color=\"black\")\n",
        "plt.show()"
      ],
      "metadata": {
        "colab": {
          "base_uri": "https://localhost:8080/",
          "height": 1000
        },
        "id": "UHmc6QrfPOKR",
        "outputId": "0671dfcd-b2a6-472e-9aed-2176e3d5faf5"
      },
      "execution_count": 9,
      "outputs": [
        {
          "output_type": "stream",
          "name": "stdout",
          "text": [
            "      0.00 1\n",
            "                                    0.653 0\n",
            "      1.17 1\n",
            "                                    1.447 0\n",
            "      2.07 1\n",
            "      2.23 2\n",
            "      2.47 3\n",
            "      2.70 4\n",
            "                                    3.838 3\n",
            "                                    4.178 2\n",
            "      4.78 3\n",
            "      5.86 4\n",
            "                                    5.859 3\n",
            "      6.81 4\n",
            "                                    6.960 3\n",
            "                                    6.977 2\n",
            "                                    7.237 1\n",
            "                                    8.245 0\n",
            "      8.77 1\n",
            "                                    8.922 0\n",
            "      9.53 1\n",
            "                                    9.988 0\n",
            "     10.58 1\n",
            "                                   11.405 0\n",
            "     11.41 1\n",
            "     11.93 2\n",
            "     12.36 3\n",
            "     13.22 4\n",
            "                                   13.511 3\n",
            "     13.54 4\n",
            "     14.89 5\n",
            "                                   15.201 4\n",
            "     17.50 5\n",
            "     18.51 6\n",
            "     19.03 7\n",
            "                                   19.184 6\n",
            "                                   19.216 5\n",
            "                                   19.597 4\n",
            "     19.88 5\n",
            "el valor medio es:  2.6598496705106136\n"
          ]
        },
        {
          "output_type": "display_data",
          "data": {
            "text/plain": [
              "<Figure size 640x480 with 1 Axes>"
            ],
            "image/png": "[encoded data removed]"
          },
          "metadata": {}
        }
      ]
    },
    {
      "cell_type": "code",
      "source": [
        "#4\n",
        "from math import log\n",
        "from random import random\n",
        "import matplotlib.pyplot as plt\n",
        "def f():\n",
        "  T=20\n",
        "  l_l=1\n",
        "  l_s=1.2\n",
        "  t=0\n",
        "  infi=1000000000\n",
        "  ts=infi\n",
        "  tl=0\n",
        "  l=0\n",
        "  lt=[]\n",
        "  ll=[]\n",
        "  area=0\n",
        "  while min(tl, ts)<T:\n",
        "    lt.append(t)\n",
        "    ll.append(l)\n",
        "    ta=t\n",
        "    t=min(tl, ts)\n",
        "    lt.append(t)\n",
        "    ll.append(l)\n",
        "    area=area+l*(t- ta)\n",
        "    if t==tl:\n",
        "      l=l+1\n",
        "      #print(\"%10.2f\"%tl, l)\n",
        "      tl=t - (1/l_l)*log(random())\n",
        "\n",
        "      if l==1:\n",
        "        ts=t - (1/l_s)*log(random())\n",
        "    else:\n",
        "      l=l-1\n",
        "      #print(\"                              \", \"%10.3f\"%ts, l)\n",
        "      if l==0:\n",
        "        ts=infi\n",
        "      else:\n",
        "        ts=t - (1/l_s)*log(random())\n",
        "  area=area+l*(T-t)\n",
        "  valormedio=area/T\n",
        "  return valormedio\n",
        "ns=10\n",
        "suma=0\n",
        "for i in range(ns):\n",
        "  suma=suma+f()\n",
        "print(suma/ns)\n",
        "print(\"el valor medio es: \", valormedio)\n",
        "plt.plot(lt, ll, color=\"black\")\n",
        "plt.show()"
      ],
      "metadata": {
        "colab": {
          "base_uri": "https://localhost:8080/",
          "height": 465
        },
        "id": "Lkr55OwuRkJ6",
        "outputId": "9e5d990d-15ed-46d2-ec71-3cb7cf9fd8a2"
      },
      "execution_count": 11,
      "outputs": [
        {
          "output_type": "stream",
          "name": "stdout",
          "text": [
            "1.9135577829333155\n",
            "el valor medio es:  2.6598496705106136\n"
          ]
        },
        {
          "output_type": "display_data",
          "data": {
            "text/plain": [
              "<Figure size 640x480 with 1 Axes>"
            ],
            "image/png": "[encoded data removed]"
          },
          "metadata": {}
        }
      ]
    },
    {
      "cell_type": "code",
      "source": [
        "#5\n",
        "from math import log\n",
        "from random import random\n",
        "import matplotlib.pyplot as plt\n",
        "def f():\n",
        "  T=20\n",
        "  l_l=1\n",
        "  l_s=1.2\n",
        "  t=0\n",
        "  infi=1000000000\n",
        "  ts=infi\n",
        "  tl=0\n",
        "  l=0\n",
        "  lt=[]\n",
        "  ll=[]\n",
        "  area=0\n",
        "  maxi=0\n",
        "  while min(tl, ts)<T:\n",
        "    lt.append(t)\n",
        "    ll.append(l)\n",
        "    ta=t\n",
        "    t=min(tl, ts)\n",
        "    lt.append(t)\n",
        "    ll.append(l)\n",
        "    area=area+l*(t- ta)\n",
        "    if t==tl:\n",
        "      l=l+1\n",
        "      #print(\"%10.2f\"%tl, l)\n",
        "      tl=t - (1/l_l)*log(random())\n",
        "\n",
        "      if l==1:\n",
        "        ts=t - (1/l_s)*log(random())\n",
        "    else:\n",
        "      l=l-1\n",
        "      #print(\"                              \", \"%10.3f\"%ts, l)\n",
        "      if l==0:\n",
        "        ts=infi\n",
        "      else:\n",
        "        ts=t - (1/l_s)*log(random())\n",
        "    if l > maxi:\n",
        "      mxi=l\n",
        "  area=area+l*(T-t)\n",
        "  valormedio=area/T\n",
        "  return maxi\n",
        "ns=100000\n",
        "suma=0\n",
        "for i in range(ns):\n",
        "  suma=suma+f()\n",
        "print(suma/ns)\n",
        "plt.plot(lt, ll, color=\"black\")\n",
        "plt.show()"
      ],
      "metadata": {
        "colab": {
          "base_uri": "https://localhost:8080/",
          "height": 447
        },
        "id": "epgCssPlUMHv",
        "outputId": "b8dad9fc-802f-4381-fc11-08e9cec5a30b"
      },
      "execution_count": 13,
      "outputs": [
        {
          "output_type": "stream",
          "name": "stdout",
          "text": [
            "0.0\n"
          ]
        },
        {
          "output_type": "display_data",
          "data": {
            "text/plain": [
              "<Figure size 640x480 with 1 Axes>"
            ],
            "image/png": "[encoded data removed]"
          },
          "metadata": {}
        }
      ]
    }
  ]
}