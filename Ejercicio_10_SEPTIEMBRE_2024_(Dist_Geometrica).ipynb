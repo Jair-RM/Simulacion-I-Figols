{
  "nbformat": 4,
  "nbformat_minor": 0,
  "metadata": {
    "colab": {
      "provenance": [],
      "authorship_tag": "ABX9TyMnX5uW4JR2PQUVqQFit2dN",
      "include_colab_link": true
    },
    "kernelspec": {
      "name": "python3",
      "display_name": "Python 3"
    },
    "language_info": {
      "name": "python"
    }
  },
  "cells": [
    {
      "cell_type": "markdown",
      "metadata": {
        "id": "view-in-github",
        "colab_type": "text"
      },
      "source": [
        "<a href=\"https://colab.research.google.com/github/Jair-RM/Simulacion-I-Figols/blob/main/Ejercicio_10_SEPTIEMBRE_2024_(Dist_Geometrica).ipynb\" target=\"_parent\"><img src=\"https://colab.research.google.com/assets/colab-badge.svg\" alt=\"Open In Colab\"/></a>"
      ]
    },
    {
      "cell_type": "code",
      "execution_count": 12,
      "metadata": {
        "id": "NVngifTNfN_c"
      },
      "outputs": [],
      "source": [
        "import math\n",
        "from math import factorial\n",
        "from math import log\n",
        "import random as rnd\n",
        "from random import random\n",
        "import numpy as np\n",
        "import matplotlib.pyplot as plt\n",
        "from numba import jit\n",
        "from statistics import mean"
      ]
    },
    {
      "cell_type": "code",
      "source": [
        "def gen(p):\n",
        "  u=random()\n",
        "  return 1 + int(log(1-u)/log(1 - p))\n",
        "p=0.4\n",
        "l=[]\n",
        "nr=100000\n",
        "\n",
        "for i in range(nr):\n",
        "  l.append(gen(p))\n",
        "for i in range(1, 11):\n",
        "  vt=p*(1-p)**(i-1)\n",
        "  ve=l.count(i)/nr\n",
        "  print(\"%10.6f\"%vt, \"%10.6f\"%ve)\n",
        "m=mean(l)\n",
        "print(m,1/p)\n",
        "\n",
        "#Esta es una formula $c=\\sqrt{aˆ2 + bˆ2}$"
      ],
      "metadata": {
        "colab": {
          "base_uri": "https://localhost:8080/"
        },
        "id": "sk7k-UTJfOzC",
        "outputId": "2b3e19d1-4ae9-4308-dddc-488d326d82ff"
      },
      "execution_count": 13,
      "outputs": [
        {
          "output_type": "stream",
          "name": "stdout",
          "text": [
            "  0.400000   0.399780\n",
            "  0.240000   0.239230\n",
            "  0.144000   0.142000\n",
            "  0.086400   0.088350\n",
            "  0.051840   0.052200\n",
            "  0.031104   0.032170\n",
            "  0.018662   0.018240\n",
            "  0.011197   0.010570\n",
            "  0.006718   0.007060\n",
            "  0.004031   0.004200\n",
            "2.5066 2.5\n"
          ]
        }
      ]
    }
  ]
}