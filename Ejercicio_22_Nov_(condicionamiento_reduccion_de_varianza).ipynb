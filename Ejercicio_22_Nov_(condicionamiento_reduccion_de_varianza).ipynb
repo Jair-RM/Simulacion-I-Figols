{
  "nbformat": 4,
  "nbformat_minor": 0,
  "metadata": {
    "colab": {
      "provenance": [],
      "authorship_tag": "ABX9TyOGGMRYDuvODdd1Lo+fwTrP",
      "include_colab_link": true
    },
    "kernelspec": {
      "name": "python3",
      "display_name": "Python 3"
    },
    "language_info": {
      "name": "python"
    }
  },
  "cells": [
    {
      "cell_type": "markdown",
      "metadata": {
        "id": "view-in-github",
        "colab_type": "text"
      },
      "source": [
        "<a href=\"https://colab.research.google.com/github/Jair-RM/Simulacion-I-Figols/blob/main/Ejercicio_22_Nov_(condicionamiento_reduccion_de_varianza).ipynb\" target=\"_parent\"><img src=\"https://colab.research.google.com/assets/colab-badge.svg\" alt=\"Open In Colab\"/></a>"
      ]
    },
    {
      "cell_type": "code",
      "execution_count": 1,
      "metadata": {
        "colab": {
          "base_uri": "https://localhost:8080/"
        },
        "id": "jAabmLBNaFHs",
        "outputId": "77b981a1-0636-4cce-a13c-8ed353a3d42f"
      },
      "outputs": [
        {
          "output_type": "stream",
          "name": "stdout",
          "text": [
            "0.52379 0.24943653026530266\n"
          ]
        }
      ],
      "source": [
        "from random import expovariate\n",
        "from statistics import mean, variance\n",
        "\n",
        "def I(x,y):\n",
        "  if x+y>1:\n",
        "    return 1\n",
        "  else:\n",
        "    return 0\n",
        "nr=100000\n",
        "l=[]\n",
        "for i in range(nr):\n",
        "  x=expovariate(1)\n",
        "  y=expovariate(3)\n",
        "  l. append(I(x,y))\n",
        "m=mean(l)\n",
        "v=variance(l)\n",
        "print(m,v)"
      ]
    },
    {
      "cell_type": "code",
      "source": [
        "from random import expovariate\n",
        "from math import exp\n",
        "from statistics import mean, variance, stdev\n",
        "\n",
        "def I(x,y):\n",
        "  if x+y>1:\n",
        "    return 1\n",
        "  else:\n",
        "    return 0\n",
        "\n",
        "def EIY(y):\n",
        "  if y > 1:\n",
        "    return 0\n",
        "  else:\n",
        "    return exp(y-1)\n",
        "\n",
        "nr=100000\n",
        "l=[]\n",
        "l1=[]\n",
        "for i in range(nr):\n",
        "  x=expovariate(1)\n",
        "  y=expovariate(3)\n",
        "  l. append(I(x,y))\n",
        "  l1.append(EIY(y))\n",
        "\n",
        "m=mean(l)\n",
        "v=variance(l)\n",
        "m1=mean(l1)\n",
        "v1=variance(l1)\n",
        "o=stdev(l)\n",
        "print(m,v, o)\n",
        "print(m1, v1)\n",
        "print(100*(v - v1)/v, \"%\")"
      ],
      "metadata": {
        "colab": {
          "base_uri": "https://localhost:8080/"
        },
        "id": "oYXpozXbeJTp",
        "outputId": "6262282f-37a2-4d6b-cad3-135cb2ced6c5"
      },
      "execution_count": 3,
      "outputs": [
        {
          "output_type": "stream",
          "name": "stdout",
          "text": [
            "0.52564 0.2493450838508385 0.4993446543729476\n",
            "0.47713373492895617 0.028886133771451824\n",
            "88.41519819627489 %\n"
          ]
        }
      ]
    }
  ]
}