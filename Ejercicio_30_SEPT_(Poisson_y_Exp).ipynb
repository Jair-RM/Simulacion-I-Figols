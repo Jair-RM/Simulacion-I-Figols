{
  "nbformat": 4,
  "nbformat_minor": 0,
  "metadata": {
    "colab": {
      "provenance": [],
      "authorship_tag": "ABX9TyOg3dobYZ7pDjDnmOPhET6G",
      "include_colab_link": true
    },
    "kernelspec": {
      "name": "python3",
      "display_name": "Python 3"
    },
    "language_info": {
      "name": "python"
    }
  },
  "cells": [
    {
      "cell_type": "markdown",
      "metadata": {
        "id": "view-in-github",
        "colab_type": "text"
      },
      "source": [
        "<a href=\"https://colab.research.google.com/github/Jair-RM/Simulacion-I-Figols/blob/main/Ejercicio_30_SEPT_(Poisson_y_Exp).ipynb\" target=\"_parent\"><img src=\"https://colab.research.google.com/assets/colab-badge.svg\" alt=\"Open In Colab\"/></a>"
      ]
    },
    {
      "cell_type": "code",
      "execution_count": null,
      "metadata": {
        "id": "GFxdSWVIaCX8"
      },
      "outputs": [],
      "source": [
        "# En un proceso de Poisson los eventos ocurren a razon de 2 eventos por minuto. El primer evento\n",
        "# ocurre en t=0. Simule los tiempos en los que ocurriran los 10 siguientes eventos."
      ]
    },
    {
      "cell_type": "code",
      "source": [
        "import math\n",
        "from math import log, exp, sqrt, cos, acos, pi, sin, factorial\n",
        "from statistics import mean, stdev, variance\n",
        "from scipy.stats import norm\n",
        "import random as rnd\n",
        "from random import random, gauss\n",
        "import numpy as np\n",
        "import matplotlib.pyplot as plt\n",
        "from time import time\n",
        "from scipy.stats import poisson\n",
        "#from numba import jit\n",
        "# < >"
      ],
      "metadata": {
        "id": "nH2ggxfia601"
      },
      "execution_count": 51,
      "outputs": []
    },
    {
      "cell_type": "code",
      "source": [
        "#intento\n",
        "def exp():\n",
        "  u=random()\n",
        "  x=(-1/alfa)*log(1-u)\n",
        "  return x\n",
        "\n",
        "alfa=2\n",
        "l=[]\n",
        "N=10\n",
        "\n",
        "for i in range(N):\n",
        "  l.append(exp())\n",
        "\n",
        "print(l)\n",
        "\n",
        "#plt.hist(l, density=1, bins=100, color=\"black\", edgecolor=\"purple\")\n",
        "#plt.title('Histograma de simulación de la variable aleatoria X')\n",
        "#plt.xlabel('X')\n",
        "#plt.ylabel('Densidad')\n",
        "#plt.legend()\n",
        "#plt.grid()\n",
        "#plt.show()"
      ],
      "metadata": {
        "colab": {
          "base_uri": "https://localhost:8080/"
        },
        "id": "xVEhmCsxbRxm",
        "outputId": "6b5d047f-2e1b-4c93-90f5-7ce7cac8383b"
      },
      "execution_count": 12,
      "outputs": [
        {
          "output_type": "stream",
          "name": "stdout",
          "text": [
            "[0.20905116034216456, 0.08574234309010462, 1.1503700633563672, 0.16389857039801245, 0.3582299621226039, 0.20390553362469235, 0.4532869716168539, 0.41164642018220726, 0.5657144751941731, 0.4485713726501513]\n"
          ]
        }
      ]
    },
    {
      "cell_type": "code",
      "source": [
        "import numpy as np\n",
        "\n",
        "# Tasa de eventos\n",
        "lambda_rate = 2  # eventos por minuto\n",
        "n_eventos = 10  # número de eventos a simular\n",
        "\n",
        "# Generar los tiempos entre eventos\n",
        "tiempos_entre_eventos = np.random.exponential(1/lambda_rate, n_eventos)\n",
        "\n",
        "# Sumar los tiempos acumulativos\n",
        "tiempos_eventos = np.cumsum(tiempos_entre_eventos)\n",
        "\n",
        "# Agregar el primer evento en t=0\n",
        "tiempos_eventos = np.insert(tiempos_eventos, 0, 0)\n",
        "\n",
        "print(\"Tiempos de ocurrencia de los 10 eventos:\", tiempos_eventos)"
      ],
      "metadata": {
        "colab": {
          "base_uri": "https://localhost:8080/"
        },
        "id": "HEIoA7pkdsp-",
        "outputId": "c850c0fe-4472-4ccc-804f-42022d5c1617"
      },
      "execution_count": 16,
      "outputs": [
        {
          "output_type": "stream",
          "name": "stdout",
          "text": [
            "Tiempos de ocurrencia de los 10 eventos: [0.         0.04972086 0.59249242 1.25823585 1.33732651 2.04198259\n",
            " 2.11065672 2.4559865  2.53810124 2.72330229 3.51415415]\n"
          ]
        }
      ]
    },
    {
      "cell_type": "code",
      "source": [
        "s=0\n",
        "lam=2\n",
        "for i in range(10):\n",
        "  s=s-(1/lam)*log(random())\n",
        "  print(s)"
      ],
      "metadata": {
        "colab": {
          "base_uri": "https://localhost:8080/"
        },
        "id": "DuVhvM9sgGUt",
        "outputId": "2ccb5003-e6ab-42b0-ec38-8e9a73b70808"
      },
      "execution_count": 33,
      "outputs": [
        {
          "output_type": "stream",
          "name": "stdout",
          "text": [
            "0.5258560935669222\n",
            "1.6267075314222992\n",
            "1.8066495803339686\n",
            "2.1850650533362583\n",
            "2.5543036510215567\n",
            "3.543281436118372\n",
            "3.7791786315512437\n",
            "4.425826592709604\n",
            "4.783821394939985\n",
            "4.878402881038435\n"
          ]
        }
      ]
    },
    {
      "cell_type": "code",
      "source": [
        "# En un pueblo la poblacion es de 10,000 habitamtes. Los nacimientos ocurren siguiendo un proceso de Poisson con\n",
        "# parametro 5 nacimientos por dia. Cada año fallece el 1% de la poblacion. Simule 100,000 veces la poblacion al\n",
        "# cabo de 2 años y haga un histograma.\n",
        "# Estimar la probabilidad de que al cabo de 2 años la poblacion sea mayor que 13,500"
      ],
      "metadata": {
        "id": "C6-OdtT_mb5N"
      },
      "execution_count": null,
      "outputs": []
    },
    {
      "cell_type": "code",
      "source": [
        "def gen():\n",
        "  p=10000\n",
        "  p1=p+poisson.rvs(lam)\n",
        "  p1=0.99*p1\n",
        "  p2=p1+poisson.rvs(lam)\n",
        "  p2=0.99*p2\n",
        "  return p2\n",
        "lam=5*365\n",
        "nr=100000\n",
        "l=[]\n",
        "cuenta=0\n",
        "for i in range(nr):\n",
        "  p2=gen()\n",
        "  if p2>13500:\n",
        "    cuenta=cuenta+1\n",
        "  l.append(p2)\n",
        "print(cuenta/nr)\n",
        "x1=min(l)\n",
        "x2=max(l)\n",
        "b=[]\n",
        "x=x1\n",
        "while x<x2:\n",
        "  b.append(x)\n",
        "  x=x+(x2-x1)/30\n",
        "plt.hist(l, density=1, bins=b, color=\"purple\", edgecolor=\"black\")\n",
        "plt.show()\n",
        "\n",
        "\n",
        "\n"
      ],
      "metadata": {
        "colab": {
          "base_uri": "https://localhost:8080/",
          "height": 465
        },
        "id": "E3qcQ5zcmmct",
        "outputId": "297bba4e-9ede-4c33-dc60-a5ce2afed272"
      },
      "execution_count": 55,
      "outputs": [
        {
          "output_type": "stream",
          "name": "stdout",
          "text": [
            "0.04093\n"
          ]
        },
        {
          "output_type": "display_data",
          "data": {
            "text/plain": [
              "<Figure size 640x480 with 1 Axes>"
            ],
            "image/png": "[encoded data removed]"
          },
          "metadata": {}
        },
        {
          "output_type": "stream",
          "name": "stdout",
          "text": [
            "0.134438733\n"
          ]
        }
      ]
    }
  ]
}