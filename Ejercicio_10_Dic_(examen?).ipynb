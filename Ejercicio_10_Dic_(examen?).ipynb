{
  "nbformat": 4,
  "nbformat_minor": 0,
  "metadata": {
    "colab": {
      "provenance": [],
      "authorship_tag": "ABX9TyPGXZgo9M4zst3bUBxat/Ce",
      "include_colab_link": true
    },
    "kernelspec": {
      "name": "python3",
      "display_name": "Python 3"
    },
    "language_info": {
      "name": "python"
    }
  },
  "cells": [
    {
      "cell_type": "markdown",
      "metadata": {
        "id": "view-in-github",
        "colab_type": "text"
      },
      "source": [
        "<a href=\"https://colab.research.google.com/github/Jair-RM/Simulacion-I-Figols/blob/main/Ejercicio_10_Dic_(examen%3F).ipynb\" target=\"_parent\"><img src=\"https://colab.research.google.com/assets/colab-badge.svg\" alt=\"Open In Colab\"/></a>"
      ]
    },
    {
      "cell_type": "code",
      "execution_count": null,
      "metadata": {
        "id": "gAwYMCDHCNM1"
      },
      "outputs": [],
      "source": [
        "from math import log, exp, sqrt, cos, acos, pi, sin, factorial\n",
        "from statistics import mean, stdev, variance, median\n",
        "from scipy.stats import norm, linregress, kstest, gaussian_kde\n",
        "import random as rnd\n",
        "from random import random, gauss, seed\n",
        "import numpy as np\n",
        "from numpy import random\n",
        "import matplotlib.pyplot as plt\n",
        "from time import time\n",
        "from scipy.optimize import minimize\n",
        "from numba import jit\n",
        "\n",
        "# < > ∈ o ∉ | λ\n",
        "#@jit(nopython=True)"
      ]
    },
    {
      "cell_type": "code",
      "source": [
        "from math import log\n",
        "from random import random\n",
        "from numba import jit\n",
        "\n",
        "@jit(nopython=True)\n",
        "def f():\n",
        "  l_l=2\n",
        "  l_s=1.8\n",
        "  tl=0\n",
        "  tis=0\n",
        "  ts=tis - (1/l_s)*log(random())\n",
        "  suma=ts - tl\n",
        "  n=1\n",
        "  while ts<60:\n",
        "    tl=tl - (1/l_l)*log(random())\n",
        "    tis=max(tl,ts)\n",
        "    ts=tis - (1/l_s)*log(random())\n",
        "    suma=suma+ts - tl\n",
        "    n=n+1\n",
        "  pro=suma/n\n",
        "  return pro\n",
        "\n",
        "nr=10000\n",
        "suma=0\n",
        "for i in range(nr):\n",
        "  suma=suma+f()\n",
        "print(suma/nr)"
      ],
      "metadata": {
        "colab": {
          "base_uri": "https://localhost:8080/"
        },
        "id": "5SwyqlfSHYkB",
        "outputId": "d8690452-61a8-437c-872e-807fdbc935cf"
      },
      "execution_count": 1,
      "outputs": [
        {
          "output_type": "stream",
          "name": "stdout",
          "text": [
            "5.472681829557731\n"
          ]
        }
      ]
    },
    {
      "cell_type": "code",
      "source": [
        "from math import log, sqrt\n",
        "from random import random\n",
        "import matplotlib.pyplot as plt\n",
        "from statistics import mean, variance\n",
        "import numpy as np\n",
        "from numba import jit\n",
        "\n",
        "@jit(nopython=True)\n",
        "def f():\n",
        "  T=60\n",
        "  l_l=2\n",
        "  l_s=1.8\n",
        "  t=0\n",
        "  infi=1000000000\n",
        "  ts=infi\n",
        "  tl=0\n",
        "  l=0\n",
        "  n=0\n",
        "  ll=[]\n",
        "  ls=[]\n",
        "  while min(tl,ts)<T:\n",
        "    t=min(tl,ts)\n",
        "    if t==tl:\n",
        "      ll. append(t)\n",
        "      l=l+1\n",
        "      tl=t-(1/l_l)*log(random())\n",
        "      if l==1:\n",
        "        ts=t-(1/l_s)*log(random())\n",
        "    else:\n",
        "      ls. append(t)\n",
        "      n=n+1\n",
        "      l=l-1\n",
        "      if l==0:\n",
        "        ts=infi\n",
        "      else:\n",
        "        ts=t-(1/l_s)*log(random())\n",
        "  suma=0\n",
        "  for j in range(n):\n",
        "    suma=suma + ls[j] - ll[j]\n",
        "  return suma/n\n",
        "\n",
        "nr=10000\n",
        "suma=0\n",
        "for i in range(nr):\n",
        "  suma=suma+f()\n",
        "print(suma/nr)"
      ],
      "metadata": {
        "colab": {
          "base_uri": "https://localhost:8080/"
        },
        "id": "EslGGDRmJDrA",
        "outputId": "7bfb77ff-ec59-43fc-ca85-0cb05abaaf18"
      },
      "execution_count": 2,
      "outputs": [
        {
          "output_type": "stream",
          "name": "stdout",
          "text": [
            "5.5056607084397235\n"
          ]
        }
      ]
    }
  ]
}