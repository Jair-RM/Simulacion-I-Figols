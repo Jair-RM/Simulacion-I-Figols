{
  "nbformat": 4,
  "nbformat_minor": 0,
  "metadata": {
    "colab": {
      "provenance": [],
      "authorship_tag": "ABX9TyOFJiRvmg+VZynLpibOwS54",
      "include_colab_link": true
    },
    "kernelspec": {
      "name": "python3",
      "display_name": "Python 3"
    },
    "language_info": {
      "name": "python"
    }
  },
  "cells": [
    {
      "cell_type": "markdown",
      "metadata": {
        "id": "view-in-github",
        "colab_type": "text"
      },
      "source": [
        "<a href=\"https://colab.research.google.com/github/Jair-RM/Simulacion-I-Figols/blob/main/Ejercicio_22_Oct_(Inventario).ipynb\" target=\"_parent\"><img src=\"https://colab.research.google.com/assets/colab-badge.svg\" alt=\"Open In Colab\"/></a>"
      ]
    },
    {
      "cell_type": "code",
      "execution_count": 5,
      "metadata": {
        "id": "hx4qXaFbtE5Y"
      },
      "outputs": [],
      "source": [
        "import math\n",
        "from math import log, exp, sqrt, cos, acos, pi, sin, factorial\n",
        "from statistics import mean, stdev, variance\n",
        "from scipy.stats import norm, linregress, binom\n",
        "import random as rnd\n",
        "from random import random, gauss, expovariate, choice, seed\n",
        "import numpy as np\n",
        "from numpy import random\n",
        "import matplotlib.pyplot as plt\n",
        "from time import time  # lo da en segundos\n",
        "from scipy.optimize import minimize\n",
        "from numba import jit\n",
        "\n",
        "# < > ∈ o ∉ |\n",
        "#@jit(nopython=True)  # Decorador y quiere decir que copila en lenguaje ensamblador, por eso es mas rapido"
      ]
    },
    {
      "cell_type": "markdown",
      "source": [
        "Nos interesa el almacenamiento ya que si tenemos pocos recursos podemos perder una posibe venta y si tenemos mucho, tenemos que considerar el costo de almacenamiento"
      ],
      "metadata": {
        "id": "bhZicxwptc3m"
      }
    },
    {
      "cell_type": "code",
      "source": [
        "# Inventario\n",
        "\n",
        "T=300\n",
        "s=10   # si tengo menos, el proovedo deja articulos\n",
        "S=20    # numero maximo de articulos en almacen\n",
        "q=20  # cantidad de articulos en el almacen\n",
        "l_l=0.5   # parametro de proceso de Posson de llegada\n",
        "t=0\n",
        "tl=0       # tiempo de llegada del cliente\n",
        "#tl= - (1/l_l)*log(random())\n",
        "tr=20   # tiempo mas prooximo en el que llega el proovedor (dias ne este caso)\n",
        "rep=30   # el proovedor va a venir cada 30 dias\n",
        "v=0    # numero de articulos vedido\n",
        "nv=0   # numero de articulos que no se vedieron pero pudieron haberse vendido (no habia en alacen)\n",
        "costo=0   # costo de almacenamiento de los articulos\n",
        "ganancia=0  # ganancia que vamos ganando\n",
        "costounitario=0.5  # costo de almacenamiento de 1 articulo por la unidad de tiempo\n",
        "gananciaunitaria=40  # ganancia de cada articulo vendido\n",
        "\n",
        "while min(tl, tr) < T:  # no considere eventos fuera del intervalo\n",
        "  ta=t\n",
        "  t = min(tl, tr)\n",
        "  costo = costo + (t - ta)*q*costounitario # aumenta en el periodo de tiempo por el numero de articulos por el costo de cada articulo\n",
        "  if t==tl:    # llegada de un cliente\n",
        "    if q > 0:   # numero de articulos en la bodega es mayor a cero (si hay articulos)\n",
        "      q=q-1   # se vende un articuo entonces disminuye la canidad que tenemos\n",
        "      print(\"Llegada\", \"%10.2f\"%tl, q)\n",
        "      v=v+1   # numero de ventas\n",
        "      ganancia=ganancia+ gananciaunitaria   # ganancia por haber vendido un articulo\n",
        "    else:\n",
        "      print(\"Llegada\", \"%10.2f\"%tl, q, \"    Venta perdida\")\n",
        "      nv=nv+1   # ventas no realizadas\n",
        "    tl=tl - (1/l_l)*log(random())   # simulo el proximo tiempo de llegada\n",
        "  else:\n",
        "    if q<s:\n",
        "      q=S   # el proveedor deja articulos hasta que sean S\n",
        "    print(\"Tiempo de reposicion\", \"%10.2f\"%tr, q)\n",
        "    tr=tr +  rep   # sigiente vez que llega el proveedor (por ahora, constante)\n",
        "\n",
        "print(\"Ganancia:\", ganancia)\n",
        "print(\"Costo: \", costo)\n",
        "print(\"Ganancia neta: \", ganancia - costo)\n",
        "print(\"Numero de articulos no vedidos: \", nv)"
      ],
      "metadata": {
        "colab": {
          "base_uri": "https://localhost:8080/"
        },
        "id": "PEG62hkltHx-",
        "outputId": "1c3d65cd-8a33-4074-aee5-cc0bb7d8a3e8",
        "collapsed": true
      },
      "execution_count": null,
      "outputs": [
        {
          "output_type": "stream",
          "name": "stdout",
          "text": [
            "Llegada       0.00 19\n",
            "Llegada       3.20 18\n",
            "Llegada       8.75 17\n",
            "Llegada       8.83 16\n",
            "Llegada       9.60 15\n",
            "Llegada      10.20 14\n",
            "Llegada      11.46 13\n",
            "Llegada      11.93 12\n",
            "Llegada      11.99 11\n",
            "Tiempo de reposicion      20.00 11\n",
            "Llegada      20.24 10\n",
            "Llegada      20.65 9\n",
            "Llegada      22.88 8\n",
            "Llegada      28.75 7\n",
            "Llegada      29.11 6\n",
            "Llegada      29.52 5\n",
            "Llegada      31.56 4\n",
            "Llegada      31.74 3\n",
            "Llegada      31.81 2\n",
            "Llegada      40.35 1\n",
            "Llegada      41.81 0\n",
            "Llegada      47.56 0     Venta perdida\n",
            "Llegada      48.65 0     Venta perdida\n",
            "Llegada      49.35 0     Venta perdida\n",
            "Tiempo de reposicion      50.00 20\n",
            "Llegada      51.49 19\n",
            "Llegada      52.88 18\n",
            "Llegada      53.43 17\n",
            "Llegada      56.53 16\n",
            "Llegada      59.68 15\n",
            "Llegada      59.87 14\n",
            "Llegada      66.17 13\n",
            "Llegada      69.42 12\n",
            "Llegada      76.89 11\n",
            "Llegada      77.35 10\n",
            "Llegada      78.47 9\n",
            "Tiempo de reposicion      80.00 20\n",
            "Llegada      83.40 19\n",
            "Llegada      83.49 18\n",
            "Llegada      83.50 17\n",
            "Llegada      84.28 16\n",
            "Llegada      85.35 15\n",
            "Llegada      86.23 14\n",
            "Llegada      86.27 13\n",
            "Llegada      88.66 12\n",
            "Llegada      89.99 11\n",
            "Llegada      94.74 10\n",
            "Llegada     100.55 9\n",
            "Llegada     102.62 8\n",
            "Llegada     103.60 7\n",
            "Llegada     104.38 6\n",
            "Llegada     104.72 5\n",
            "Llegada     106.80 4\n",
            "Tiempo de reposicion     110.00 20\n",
            "Llegada     110.74 19\n",
            "Llegada     112.63 18\n",
            "Llegada     115.09 17\n",
            "Llegada     117.40 16\n",
            "Llegada     117.49 15\n",
            "Llegada     117.54 14\n",
            "Llegada     117.99 13\n",
            "Llegada     119.31 12\n",
            "Llegada     122.49 11\n",
            "Llegada     122.61 10\n",
            "Llegada     123.50 9\n",
            "Llegada     123.60 8\n",
            "Llegada     125.03 7\n",
            "Llegada     125.22 6\n",
            "Llegada     127.61 5\n",
            "Llegada     130.52 4\n",
            "Llegada     132.44 3\n",
            "Llegada     133.69 2\n",
            "Llegada     133.93 1\n",
            "Llegada     134.27 0\n",
            "Llegada     137.03 0     Venta perdida\n",
            "Llegada     139.45 0     Venta perdida\n",
            "Tiempo de reposicion     140.00 20\n",
            "Llegada     141.58 19\n",
            "Llegada     141.94 18\n",
            "Llegada     144.04 17\n",
            "Llegada     146.36 16\n",
            "Llegada     147.91 15\n",
            "Llegada     150.46 14\n",
            "Llegada     150.51 13\n",
            "Llegada     151.62 12\n",
            "Llegada     151.78 11\n",
            "Llegada     153.14 10\n",
            "Llegada     157.60 9\n",
            "Llegada     157.67 8\n",
            "Llegada     159.32 7\n",
            "Llegada     163.49 6\n",
            "Llegada     164.73 5\n",
            "Llegada     165.45 4\n",
            "Llegada     167.39 3\n",
            "Tiempo de reposicion     170.00 20\n",
            "Llegada     171.52 19\n",
            "Llegada     171.75 18\n",
            "Llegada     174.64 17\n",
            "Llegada     175.18 16\n",
            "Llegada     175.38 15\n",
            "Llegada     175.45 14\n",
            "Llegada     175.80 13\n",
            "Llegada     176.06 12\n",
            "Llegada     176.49 11\n",
            "Llegada     178.07 10\n",
            "Llegada     182.54 9\n",
            "Llegada     184.84 8\n",
            "Llegada     185.18 7\n",
            "Llegada     185.52 6\n",
            "Llegada     187.82 5\n",
            "Llegada     188.29 4\n",
            "Llegada     188.83 3\n",
            "Llegada     189.11 2\n",
            "Llegada     191.05 1\n",
            "Llegada     194.35 0\n",
            "Llegada     194.36 0     Venta perdida\n",
            "Llegada     199.30 0     Venta perdida\n",
            "Llegada     199.52 0     Venta perdida\n",
            "Tiempo de reposicion     200.00 20\n",
            "Llegada     200.32 19\n",
            "Llegada     200.60 18\n",
            "Llegada     201.25 17\n",
            "Llegada     205.31 16\n",
            "Llegada     205.99 15\n",
            "Llegada     208.77 14\n",
            "Llegada     212.94 13\n",
            "Llegada     214.17 12\n",
            "Llegada     214.84 11\n",
            "Llegada     215.39 10\n",
            "Llegada     215.47 9\n",
            "Llegada     216.32 8\n",
            "Llegada     217.77 7\n",
            "Llegada     221.10 6\n",
            "Llegada     221.93 5\n",
            "Llegada     227.40 4\n",
            "Llegada     227.81 3\n",
            "Llegada     228.83 2\n",
            "Tiempo de reposicion     230.00 20\n",
            "Llegada     230.31 19\n",
            "Llegada     231.14 18\n",
            "Llegada     231.22 17\n",
            "Llegada     231.24 16\n",
            "Llegada     233.37 15\n",
            "Llegada     234.74 14\n",
            "Llegada     236.65 13\n",
            "Llegada     239.88 12\n",
            "Llegada     240.58 11\n",
            "Llegada     241.18 10\n",
            "Llegada     242.17 9\n",
            "Llegada     244.00 8\n",
            "Llegada     247.73 7\n",
            "Llegada     248.61 6\n",
            "Llegada     249.02 5\n",
            "Llegada     249.19 4\n",
            "Llegada     251.79 3\n",
            "Llegada     252.47 2\n",
            "Llegada     253.52 1\n",
            "Llegada     254.52 0\n",
            "Tiempo de reposicion     260.00 20\n",
            "Llegada     260.42 19\n",
            "Llegada     261.62 18\n",
            "Llegada     262.31 17\n",
            "Llegada     262.59 16\n",
            "Llegada     267.32 15\n",
            "Llegada     267.79 14\n",
            "Llegada     269.18 13\n",
            "Llegada     270.90 12\n",
            "Llegada     272.28 11\n",
            "Llegada     274.95 10\n",
            "Llegada     277.84 9\n",
            "Llegada     283.53 8\n",
            "Llegada     284.77 7\n",
            "Tiempo de reposicion     290.00 20\n",
            "Llegada     290.50 19\n",
            "Llegada     291.68 18\n",
            "Llegada     295.15 17\n",
            "Llegada     298.60 16\n",
            "Llegada     299.45 15\n",
            "Ganancia: 6400\n",
            "Costo:  1521.6800754007866\n",
            "Ganancia neta:  4878.319924599214\n"
          ]
        }
      ]
    },
    {
      "cell_type": "markdown",
      "source": [
        "Tambien podemos considerar otros factores que afecta la ganancia como el pago a empleados, costo de servicios, etc."
      ],
      "metadata": {
        "id": "bIafbNl5y9sC"
      }
    },
    {
      "cell_type": "code",
      "source": [
        "T=100\n",
        "s=10\n",
        "S=20\n",
        "q=20\n",
        "l_l=0.5\n",
        "t=0\n",
        "tl=0\n",
        "tr=20\n",
        "rep=30\n",
        "v=0\n",
        "nv=0\n",
        "costo=0\n",
        "ganancia=0\n",
        "costounitario=0.5\n",
        "gananciaunitaria=40\n",
        "lt=[]\n",
        "lq=[]\n",
        "\n",
        "while min(tl, tr) < T:\n",
        "  ta=t\n",
        "  lt. append(t)\n",
        "  lq. append(q)\n",
        "  t = min(tl, tr)\n",
        "  lt. append(t)\n",
        "  lq. append(q)\n",
        "  costo = costo + (t - ta)*q*costounitario\n",
        "  if t==tl:\n",
        "    if q > 0:\n",
        "      q=q-1\n",
        "      print(\"Llegada\", \"%10.2f\"%tl, q)\n",
        "      v=v+1\n",
        "      ganancia=ganancia+ gananciaunitaria\n",
        "    else:\n",
        "      print(\"Llegada\", \"%10.2f\"%tl, q, \"    Venta perdida\")\n",
        "      nv=nv+1\n",
        "    tl=tl - (1/l_l)*log(random())\n",
        "  else:\n",
        "    if q<s:\n",
        "      q=S\n",
        "    print(\"Tiempo de reposicion\", \"%10.2f\"%tr, q)\n",
        "    tr=tr +  rep\n",
        "\n",
        "print(\"Ganancia:\", ganancia)\n",
        "print(\"Costo: \", costo)\n",
        "print(\"Ganancia neta: \", ganancia - costo)\n",
        "print(\"Numero de articulos no vedidos: \", nv, nv*gananciaunitaria)\n",
        "plt. plot(lt, lq)\n",
        "plt. show()"
      ],
      "metadata": {
        "colab": {
          "base_uri": "https://localhost:8080/",
          "height": 1000
        },
        "id": "QCtxmW8gzgeS",
        "outputId": "225bc39d-5211-42e9-822a-4379b07956e0",
        "collapsed": true
      },
      "execution_count": null,
      "outputs": [
        {
          "output_type": "stream",
          "name": "stdout",
          "text": [
            "Llegada       0.00 19\n",
            "Llegada       3.04 18\n",
            "Llegada       4.42 17\n",
            "Llegada       6.03 16\n",
            "Llegada       7.49 15\n",
            "Llegada      12.17 14\n",
            "Llegada      15.32 13\n",
            "Llegada      18.89 12\n",
            "Tiempo de reposicion      20.00 12\n",
            "Llegada      24.32 11\n",
            "Llegada      24.95 10\n",
            "Llegada      25.34 9\n",
            "Llegada      26.70 8\n",
            "Llegada      27.19 7\n",
            "Llegada      27.80 6\n",
            "Llegada      28.80 5\n",
            "Llegada      29.01 4\n",
            "Llegada      32.25 3\n",
            "Llegada      35.12 2\n",
            "Llegada      35.56 1\n",
            "Llegada      37.94 0\n",
            "Llegada      38.78 0     Venta perdida\n",
            "Llegada      39.91 0     Venta perdida\n",
            "Llegada      43.03 0     Venta perdida\n",
            "Llegada      44.70 0     Venta perdida\n",
            "Llegada      45.65 0     Venta perdida\n",
            "Llegada      47.92 0     Venta perdida\n",
            "Tiempo de reposicion      50.00 20\n",
            "Llegada      50.73 19\n",
            "Llegada      51.60 18\n",
            "Llegada      55.73 17\n",
            "Llegada      58.08 16\n",
            "Llegada      60.19 15\n",
            "Llegada      61.21 14\n",
            "Llegada      63.12 13\n",
            "Llegada      64.50 12\n",
            "Llegada      65.73 11\n",
            "Llegada      66.23 10\n",
            "Llegada      67.52 9\n",
            "Llegada      75.19 8\n",
            "Tiempo de reposicion      80.00 20\n",
            "Llegada      83.44 19\n",
            "Llegada      83.71 18\n",
            "Llegada      83.95 17\n",
            "Llegada      85.01 16\n",
            "Llegada      87.60 15\n",
            "Llegada      87.86 14\n",
            "Llegada      92.22 13\n",
            "Llegada      95.60 12\n",
            "Llegada      96.87 11\n",
            "Ganancia: 1640\n",
            "Costo:  532.0215968000826\n",
            "Ganancia neta:  1107.9784031999175\n",
            "Numero de articulos no vedidos:  6 240\n"
          ]
        },
        {
          "output_type": "display_data",
          "data": {
            "text/plain": [
              "<Figure size 640x480 with 1 Axes>"
            ],
            "image/png": "[encoded data removed]"
          },
          "metadata": {}
        }
      ]
    },
    {
      "cell_type": "markdown",
      "source": [
        "Las lineas verticales no son parte del grafico\n",
        "\n",
        "Son las veces que el proveedor deja articulos."
      ],
      "metadata": {
        "id": "pHu_kP6e0UFs"
      }
    },
    {
      "cell_type": "code",
      "source": [
        "T=100\n",
        "s=10\n",
        "S=20\n",
        "q=20\n",
        "l_l=0.5\n",
        "t=0\n",
        "tl=0\n",
        "tr=20\n",
        "rep=30\n",
        "v=0\n",
        "nv=0\n",
        "costo=0\n",
        "ganancia=0\n",
        "costounitario=0.5\n",
        "gananciaunitaria=40\n",
        "lt=[]\n",
        "lq=[]\n",
        "lgn=[]    # lgn la ganancia neta\n",
        "while min(tl, tr) < T:\n",
        "  ta=t\n",
        "  lt. append(t)\n",
        "  lq. append(q)\n",
        "  lgn. append(ganancia - costo)\n",
        "  t = min(tl, tr)\n",
        "  lt. append(t)\n",
        "  lq. append(q)\n",
        "  lgn. append(ganancia - costo)\n",
        "  costo = costo + (t - ta)*q*costounitario\n",
        "  if t==tl:\n",
        "    if q > 0:\n",
        "      q=q-1\n",
        "      print(\"Llegada\", \"%10.2f\"%tl, q)\n",
        "      v=v+1\n",
        "      ganancia=ganancia+ gananciaunitaria\n",
        "    else:\n",
        "      print(\"Llegada\", \"%10.2f\"%tl, q, \"    Venta perdida\")\n",
        "      nv=nv+1\n",
        "    tl=tl - (1/l_l)*log(random())\n",
        "  else:\n",
        "    if q<s:\n",
        "      q=S\n",
        "    print(\"Tiempo de reposicion\", \"%10.2f\"%tr, q)\n",
        "    tr=tr +  rep\n",
        "\n",
        "print(\"Ganancia:\", ganancia)\n",
        "print(\"Costo: \", costo)\n",
        "print(\"Ganancia neta: \", ganancia - costo)\n",
        "print(\"Numero de articulos no vedidos: \", nv,\"=\", nv*gananciaunitaria)\n",
        "plt.plot(lt, lq)\n",
        "plt.show()\n",
        "plt.plot(lt, lgn)\n",
        "plt.show()\n"
      ],
      "metadata": {
        "colab": {
          "base_uri": "https://localhost:8080/",
          "height": 1000
        },
        "id": "uEqNi4FK1ygy",
        "outputId": "ea83662b-1152-460c-a1d7-7bdecb63e2ea",
        "collapsed": true
      },
      "execution_count": null,
      "outputs": [
        {
          "output_type": "stream",
          "name": "stdout",
          "text": [
            "Llegada       0.00 19\n",
            "Llegada       1.52 18\n",
            "Llegada       9.18 17\n",
            "Llegada      10.73 16\n",
            "Llegada      11.80 15\n",
            "Llegada      11.87 14\n",
            "Llegada      13.37 13\n",
            "Llegada      14.15 12\n",
            "Llegada      15.31 11\n",
            "Llegada      16.91 10\n",
            "Tiempo de reposicion      20.00 10\n",
            "Llegada      20.51 9\n",
            "Llegada      28.10 8\n",
            "Llegada      28.16 7\n",
            "Llegada      29.58 6\n",
            "Llegada      30.09 5\n",
            "Llegada      30.32 4\n",
            "Llegada      32.23 3\n",
            "Llegada      33.52 2\n",
            "Llegada      34.54 1\n",
            "Llegada      35.63 0\n",
            "Llegada      38.16 0     Venta perdida\n",
            "Llegada      43.20 0     Venta perdida\n",
            "Llegada      46.17 0     Venta perdida\n",
            "Llegada      47.49 0     Venta perdida\n",
            "Llegada      47.80 0     Venta perdida\n",
            "Llegada      48.69 0     Venta perdida\n",
            "Llegada      48.96 0     Venta perdida\n",
            "Tiempo de reposicion      50.00 20\n",
            "Llegada      50.62 19\n",
            "Llegada      59.04 18\n",
            "Llegada      63.16 17\n",
            "Llegada      64.20 16\n",
            "Llegada      64.34 15\n",
            "Llegada      67.78 14\n",
            "Llegada      69.83 13\n",
            "Llegada      72.91 12\n",
            "Llegada      79.61 11\n",
            "Tiempo de reposicion      80.00 11\n",
            "Llegada      80.49 10\n",
            "Llegada      85.63 9\n",
            "Llegada      85.74 8\n",
            "Llegada      88.88 7\n",
            "Llegada      88.99 6\n",
            "Llegada      90.82 5\n",
            "Llegada      91.01 4\n",
            "Llegada      91.68 3\n",
            "Llegada      95.30 2\n",
            "Llegada      95.43 1\n",
            "Llegada      95.65 0\n",
            "Llegada      96.41 0     Venta perdida\n",
            "Llegada      97.95 0     Venta perdida\n",
            "Llegada      99.92 0     Venta perdida\n",
            "Ganancia: 1600\n",
            "Costo:  494.30036144410127\n",
            "Ganancia neta:  1105.6996385558987\n",
            "Numero de articulos no vedidos:  10 = 400\n"
          ]
        },
        {
          "output_type": "display_data",
          "data": {
            "text/plain": [
              "<Figure size 640x480 with 1 Axes>"
            ],
            "image/png": "[encoded data removed]"
          },
          "metadata": {}
        },
        {
          "output_type": "display_data",
          "data": {
            "text/plain": [
              "<Figure size 640x480 with 1 Axes>"
            ],
            "image/png": "[encoded data removed]"
          },
          "metadata": {}
        }
      ]
    },
    {
      "cell_type": "code",
      "source": [
        "T=100\n",
        "s=50\n",
        "S=150\n",
        "q=S\n",
        "l_l=0.5\n",
        "t=0\n",
        "tl=random.exponential(l_l)\n",
        "tr=20\n",
        "rep=30\n",
        "v=0\n",
        "nv=0\n",
        "costo=0\n",
        "ganancia=0\n",
        "costounitario=0.05\n",
        "gananciaunitaria=30\n",
        "\n",
        "while min(tl, tr) < T:\n",
        "  ta=t\n",
        "  t=min(tl, tr)\n",
        "  costo=costo + (t - ta)*q*costounitario\n",
        "  if t==tl:\n",
        "    dem=random.poisson(3)\n",
        "    if q>=dem:\n",
        "      q=q - dem\n",
        "      #print(\"Llegada \", \"%10.2f\"%tl, \"Demanda \", dem, q)\n",
        "      v=v+dem\n",
        "      ganancia=ganancia + gananciaunitaria*dem\n",
        "    else:\n",
        "      nv=nv+dem-q\n",
        "      ganancia=ganancia + q*gananciaunitaria\n",
        "      #print(\"Venta perdida\", \"%10.2f\"%tl, \"Demanda \", dem, \"Ven....\")\n",
        "      q=0\n",
        "    tl=tl+random.exponential(l_l)\n",
        "  else:\n",
        "    if q<s:\n",
        "      q=S\n",
        "    #print(\"Tiempo de reposicion\", \"%10.2f\"%tr, q)\n",
        "    tr=tr+rep\n",
        "\n",
        "print(\"Ganancia: \", ganancia)\n",
        "print(\"Costo: \", costo)\n",
        "print(\"Ganancia neta: \", ganancia-costo)\n",
        "\n",
        "\n",
        "# < >"
      ],
      "metadata": {
        "id": "0T2Wm1Rz3r_R",
        "colab": {
          "base_uri": "https://localhost:8080/"
        },
        "outputId": "666ee892-6840-4e96-8512-54e3882a2925"
      },
      "execution_count": 13,
      "outputs": [
        {
          "output_type": "stream",
          "name": "stdout",
          "text": [
            "Ganancia:  12360\n",
            "Costo:  307.86785104267665\n",
            "Ganancia neta:  12052.132148957324\n"
          ]
        }
      ]
    },
    {
      "cell_type": "code",
      "source": [
        "def f(s):\n",
        "  T=200\n",
        "  S=150\n",
        "  q=S\n",
        "  l_l=0.5\n",
        "  t=0\n",
        "  tl=random.exponential(1/l_l)\n",
        "  tr=20\n",
        "  rep=30\n",
        "  v=0\n",
        "  nv=0\n",
        "  costo=0\n",
        "  ganancia=0\n",
        "  costounitario=0.2\n",
        "  gananciaunitaria=30\n",
        "\n",
        "  while min(tl, tr) < T:\n",
        "    ta=t\n",
        "    t=min(tl, tr)\n",
        "    costo=costo + (t - ta)*q*costounitario\n",
        "    if t==tl:\n",
        "      dem=random.poisson(3)\n",
        "      if q>=dem:\n",
        "        q=q - dem\n",
        "        #print(\"Llegada \", \"%10.2f\"%tl, \"Demanda \", dem, q)\n",
        "        v=v+dem\n",
        "        ganancia=ganancia + gananciaunitaria*dem\n",
        "      else:\n",
        "        nv=nv+dem-q\n",
        "        ganancia=ganancia + q*gananciaunitaria\n",
        "        #print(\"Venta perdida\", \"%10.2f\"%tl, \"Demanda \", dem, \"Ven....\")\n",
        "        q=0\n",
        "      tl=tl+random.exponential(1/l_l)\n",
        "    else:\n",
        "      if q<s:\n",
        "        q=S\n",
        "      #print(\"Tiempo de reposicion\", \"%10.2f\"%tr, q)\n",
        "      tr=tr+rep\n",
        "  return ganancia - costo\n",
        "\n",
        "n=10000\n",
        "s=20\n",
        "while s<140:\n",
        "  suma=0\n",
        "  for i in range(n):\n",
        "    suma=suma+f(s)\n",
        "  print(s, suma/n)\n",
        "  s=s+10"
      ],
      "metadata": {
        "id": "vTzEXaVG5d9u",
        "colab": {
          "base_uri": "https://localhost:8080/"
        },
        "outputId": "f36ae53e-f9b7-453f-9181-1899184716df"
      },
      "execution_count": 14,
      "outputs": [
        {
          "output_type": "stream",
          "name": "stdout",
          "text": [
            "20 5452.641340848159\n",
            "30 5449.313787067381\n",
            "40 5392.618058962913\n",
            "50 5256.38363504984\n",
            "60 5135.137435603659\n",
            "70 4980.725309616888\n",
            "80 4812.694725859013\n",
            "90 4646.467380252116\n",
            "100 4486.6425690114465\n",
            "110 4305.274248019658\n",
            "120 4058.3627686412974\n",
            "130 3943.005179347168\n"
          ]
        }
      ]
    },
    {
      "cell_type": "code",
      "source": [
        "from numba import jit\n",
        "@jit(nopython=True)\n",
        "\n",
        "def f(s):\n",
        "  T=200\n",
        "  S=150\n",
        "  q=S\n",
        "  l_l=0.5\n",
        "  t=0\n",
        "  tl=random.exponential(1/l_l)\n",
        "  tr=20\n",
        "  rep=30\n",
        "  v=0\n",
        "  nv=0\n",
        "  costo=0\n",
        "  ganancia=0\n",
        "  costounitario=0.2\n",
        "  gananciaunitaria=30\n",
        "\n",
        "  while min(tl, tr) < T:\n",
        "    ta=t\n",
        "    t=min(tl, tr)\n",
        "    costo=costo + (t - ta)*q*costounitario\n",
        "    if t==tl:\n",
        "      dem=random.poisson(3)\n",
        "      if q>=dem:\n",
        "        q=q - dem\n",
        "        #print(\"Llegada \", \"%10.2f\"%tl, \"Demanda \", dem, q)\n",
        "        v=v+dem\n",
        "        ganancia=ganancia + gananciaunitaria*dem\n",
        "      else:\n",
        "        nv=nv+dem-q\n",
        "        ganancia=ganancia + q*gananciaunitaria\n",
        "        #print(\"Venta perdida\", \"%10.2f\"%tl, \"Demanda \", dem, \"Ven....\")\n",
        "        q=0\n",
        "      tl=tl+random.exponential(1/l_l)\n",
        "    else:\n",
        "      if q<s:\n",
        "        q=S\n",
        "      #print(\"Tiempo de reposicion\", \"%10.2f\"%tr, q)\n",
        "      tr=tr+rep\n",
        "  return ganancia - costo\n",
        "\n",
        "n=10000\n",
        "s=20\n",
        "while s<140:\n",
        "  suma=0\n",
        "  for i in range(n):\n",
        "    suma=suma+f(s)\n",
        "  print(s, suma/n)\n",
        "  s=s+10"
      ],
      "metadata": {
        "colab": {
          "base_uri": "https://localhost:8080/"
        },
        "id": "7Qym1EUCtM1u",
        "outputId": "cf4174cb-2292-41d3-ee01-f6edb02895ef"
      },
      "execution_count": 20,
      "outputs": [
        {
          "output_type": "stream",
          "name": "stdout",
          "text": [
            "20 5433.735429694096\n",
            "30 5449.77447956417\n",
            "40 5394.212085930546\n",
            "50 5275.802859808717\n",
            "60 5115.842669680576\n",
            "70 4992.641801903668\n",
            "80 4822.733567371738\n",
            "90 4658.008498597286\n",
            "100 4498.095128902842\n",
            "110 4278.14260542111\n",
            "120 4059.6532735858814\n",
            "130 3925.786391892413\n"
          ]
        }
      ]
    },
    {
      "cell_type": "markdown",
      "source": [
        "Optimizar el valor esperado"
      ],
      "metadata": {
        "id": "XubKSPg7tExs"
      }
    },
    {
      "cell_type": "code",
      "source": [
        "n=10000\n",
        "s=10\n",
        "while s<50:\n",
        "  suma=0\n",
        "  for i in range(n):\n",
        "    suma=suma+f(s)\n",
        "  print(s, suma/n)\n",
        "  s=s+5"
      ],
      "metadata": {
        "id": "cLc77R9NuMm-",
        "outputId": "059238cd-8db6-4259-9d17-6913deb7ada4",
        "colab": {
          "base_uri": "https://localhost:8080/"
        }
      },
      "execution_count": 21,
      "outputs": [
        {
          "output_type": "stream",
          "name": "stdout",
          "text": [
            "10 5323.63182672631\n",
            "15 5394.29803307019\n",
            "20 5439.364047909794\n",
            "25 5477.014641529737\n",
            "30 5468.49665368288\n",
            "35 5434.197931233713\n",
            "40 5390.2849411298075\n",
            "45 5332.537001492116\n"
          ]
        }
      ]
    },
    {
      "cell_type": "code",
      "source": [
        "n=10000\n",
        "s=10\n",
        "ls=[]\n",
        "l=[]\n",
        "while s<50:\n",
        "  suma=0\n",
        "  for i in range(n):\n",
        "    suma=suma+f(s)\n",
        "  ls.append(s)\n",
        "  l.append(suma/n)\n",
        "  print(s, suma/n)\n",
        "  s=s+5\n",
        "plt.plot(ls, l)\n",
        "plt.show()"
      ],
      "metadata": {
        "id": "00hP7d2XuZOo",
        "outputId": "090f36b5-45ee-4443-d618-92fc954c8729",
        "colab": {
          "base_uri": "https://localhost:8080/",
          "height": 569
        }
      },
      "execution_count": 23,
      "outputs": [
        {
          "output_type": "stream",
          "name": "stdout",
          "text": [
            "10 5355.717848899362\n",
            "15 5391.396270384371\n",
            "20 5439.27012316854\n",
            "25 5461.637423174912\n",
            "30 5459.271545197704\n",
            "35 5410.85590988333\n",
            "40 5386.672650640936\n",
            "45 5323.901530398611\n"
          ]
        },
        {
          "output_type": "display_data",
          "data": {
            "text/plain": [
              "<Figure size 640x480 with 1 Axes>"
            ],
            "image/png": "[encoded data removed]"
          },
          "metadata": {}
        }
      ]
    },
    {
      "cell_type": "code",
      "source": [
        "n=1000000\n",
        "s=10\n",
        "ls=[]\n",
        "l=[]\n",
        "while s<50:\n",
        "  suma=0\n",
        "  for i in range(n):\n",
        "    suma=suma+f(s)\n",
        "  ls.append(s)\n",
        "  l.append(suma/n)\n",
        "  print(s, suma/n)\n",
        "  s=s+2\n",
        "plt.plot(ls, l)\n",
        "plt.show()"
      ],
      "metadata": {
        "id": "tuNJpXMxuyJt",
        "outputId": "1ecb10c8-7bd9-4734-8a51-92974667eebb",
        "colab": {
          "base_uri": "https://localhost:8080/",
          "height": 777
        }
      },
      "execution_count": 27,
      "outputs": [
        {
          "output_type": "stream",
          "name": "stdout",
          "text": [
            "10 5333.411133777683\n",
            "12 5361.569490664664\n",
            "14 5384.091567458828\n",
            "16 5403.37644425201\n",
            "18 5422.8906485769785\n",
            "20 5436.342584992095\n",
            "22 5449.46369295392\n",
            "24 5456.196761865961\n",
            "26 5458.310463675652\n",
            "28 5461.636733715126\n",
            "30 5459.777589067954\n",
            "32 5454.3953716576925\n",
            "34 5442.49764446777\n",
            "36 5430.381521624129\n",
            "38 5413.09527403474\n",
            "40 5394.40759294939\n",
            "42 5374.287110225159\n",
            "44 5352.273870841726\n",
            "46 5325.02017109311\n",
            "48 5301.561911148472\n"
          ]
        },
        {
          "output_type": "display_data",
          "data": {
            "text/plain": [
              "<Figure size 640x480 with 1 Axes>"
            ],
            "image/png": "[encoded data removed]"
          },
          "metadata": {}
        }
      ]
    }
  ]
}