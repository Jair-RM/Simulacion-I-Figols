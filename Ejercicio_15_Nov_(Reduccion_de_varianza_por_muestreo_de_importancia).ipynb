{
  "nbformat": 4,
  "nbformat_minor": 0,
  "metadata": {
    "colab": {
      "provenance": [],
      "authorship_tag": "ABX9TyMSVrryVNJImWtfqIdni44r",
      "include_colab_link": true
    },
    "kernelspec": {
      "name": "python3",
      "display_name": "Python 3"
    },
    "language_info": {
      "name": "python"
    }
  },
  "cells": [
    {
      "cell_type": "markdown",
      "metadata": {
        "id": "view-in-github",
        "colab_type": "text"
      },
      "source": [
        "<a href=\"https://colab.research.google.com/github/Jair-RM/Simulacion-I-Figols/blob/main/Ejercicio_15_Nov_(Reduccion_de_varianza_por_muestreo_de_importancia).ipynb\" target=\"_parent\"><img src=\"https://colab.research.google.com/assets/colab-badge.svg\" alt=\"Open In Colab\"/></a>"
      ]
    },
    {
      "cell_type": "code",
      "execution_count": 4,
      "metadata": {
        "colab": {
          "base_uri": "https://localhost:8080/"
        },
        "id": "WgYa_6p_Upbv",
        "outputId": "1fc4acb4-88a1-4221-af13-4fc0ea57eb16"
      },
      "outputs": [
        {
          "output_type": "stream",
          "name": "stdout",
          "text": [
            "2.6e-05 2.599934999935e-05\n",
            "3.167124183311998e-05 17.906597609915373\n"
          ]
        }
      ],
      "source": [
        "from random import gauss\n",
        "from statistics import mean, variance\n",
        "from scipy.stats import norm\n",
        "\n",
        "# < > ∈ o ∉ | λ\n",
        "#@jit(nopython=True)\n",
        "\n",
        "def I(z):\n",
        "  if z>=4:\n",
        "    return 1\n",
        "  else:\n",
        "    return 0\n",
        "\n",
        "l=[]\n",
        "nr=1000000\n",
        "for i in range(nr):\n",
        "  z=gauss(0,1)\n",
        "  l.append(I(z))\n",
        "m=mean(l)\n",
        "v=variance(l)\n",
        "print(m,v)\n",
        "mt=1-norm.cdf(4,0,1)\n",
        "print(mt, 100*abs(mt-m)/mt)"
      ]
    },
    {
      "cell_type": "code",
      "source": [
        "from random import gauss, random\n",
        "from statistics import mean, variance\n",
        "from scipy.stats import norm\n",
        "from math import exp, pi, sqrt, log\n",
        "\n",
        "# < > ∈ o ∉ | λ\n",
        "#@jit(nopython=True)\n",
        "\n",
        "def I(z):\n",
        "  if z>=4:\n",
        "    return 1\n",
        "  else:\n",
        "    return 0\n",
        "\n",
        "def h(z):\n",
        "  if z>=4:\n",
        "    return exp(4-z)\n",
        "  else:\n",
        "    return 0\n",
        "\n",
        "def phi(x):   # funcion de dnsidad de probabilidad de la normal estandar\n",
        "  return (1/sqrt(2*pi))*exp(-x**2/2)\n",
        "\n",
        "l=[]        # sin considerar h\n",
        "l1=[]       # considerando h\n",
        "nr=1000000\n",
        "for i in range(nr):\n",
        "  z=gauss(0,1)\n",
        "  l.append(I(z))\n",
        "  u=random()\n",
        "  z=4-log(u)\n",
        "  l1.append(I(z)*phi(z)/h(z))\n",
        "m=mean(l)\n",
        "v=variance(l)\n",
        "m1=mean(l1)\n",
        "v1=variance(l1)\n",
        "print(m,v)\n",
        "print(m1,v1)\n",
        "print(100*(v-v1)/v)\n",
        "mt=1-norm.cdf(4,0,1)\n",
        "print(mt, 100*abs(mt-m)/mt)\n",
        "print(mt, 100*abs(mt-m1)/mt)"
      ],
      "metadata": {
        "id": "KFdOWtbXUsVp"
      },
      "execution_count": null,
      "outputs": []
    },
    {
      "cell_type": "code",
      "source": [
        "from random import gauss, random\n",
        "from statistics import mean, variance\n",
        "from scipy.stats import norm\n",
        "from math import exp, pi, sqrt, log\n",
        "from numba import jit\n",
        "\n",
        "# < > ∈ o ∉ | λ\n",
        "#@jit(nopython=True)\n",
        "\n",
        "@jit(nopython=True)\n",
        "def I(z):\n",
        "  if z>=4:\n",
        "    return 1\n",
        "  else:\n",
        "    return 0\n",
        "\n",
        "@jit(nopython=True)\n",
        "def h(z):\n",
        "  if z>=4:\n",
        "    return exp(4-z)\n",
        "  else:\n",
        "    return 0\n",
        "\n",
        "@jit(nopython=True)\n",
        "def phi(x):\n",
        "  return (1/sqrt(2*pi))*exp(-x**2/2)\n",
        "\n",
        "def f(nr):\n",
        "  suma=0\n",
        "  for i in range(nr):\n",
        "    u=random()\n",
        "    z=4-log(u)\n",
        "    suma=suma+(I(z)*phi(z)/h(z))\n",
        "  return suma/nr\n",
        "\n",
        "nr=10000000\n",
        "m1=f(nr)\n",
        "mt=1-norm.cdf(4,0,1)\n",
        "print(m1)\n",
        "print(mt, 100*abs(mt-m1)/mt)"
      ],
      "metadata": {
        "id": "RzY-0L8IUxIp"
      },
      "execution_count": null,
      "outputs": []
    },
    {
      "cell_type": "code",
      "source": [
        "from random import gauss, random\n",
        "from statistics import mean, variance\n",
        "from scipy.stats import norm, expon\n",
        "from math import exp, pi, sqrt, log\n",
        "from numba import jit\n",
        "\n",
        "# < > ∈ o ∉ | λ\n",
        "#@jit(nopython=True)\n",
        "\n",
        "def h(x):\n",
        "  if\n",
        "\n",
        "\n",
        "@jit(nopython=True)\n",
        "def I(z):\n",
        "  if z>=4:\n",
        "    return 1\n",
        "  else:\n",
        "    return 0\n",
        "\n",
        "@jit(nopython=True)\n",
        "def h(z):\n",
        "  if z>=4:\n",
        "    return exp(4-z)\n",
        "  else:\n",
        "    return 0\n",
        "\n",
        "@jit(nopython=True)\n",
        "def phi(x):\n",
        "  return (1/sqrt(2*pi))*exp(-x**2/2)\n",
        "\n",
        "def f(nr):\n",
        "  suma=0\n",
        "  for i in range(nr):\n",
        "    u=random()\n",
        "    z=4-log(u)\n",
        "    suma=suma+(I(z)*phi(z)/h(z))\n",
        "  return suma/nr\n",
        "\n",
        "nr=10000000\n",
        "m1=f(nr)\n",
        "mt=1-norm.cdf(4,0,1)\n",
        "print(m1)\n",
        "print(mt, 100*abs(mt-m1)/mt)"
      ],
      "metadata": {
        "id": "sdjqOPqai1D7"
      },
      "execution_count": null,
      "outputs": []
    }
  ]
}