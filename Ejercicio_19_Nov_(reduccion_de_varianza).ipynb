{
  "nbformat": 4,
  "nbformat_minor": 0,
  "metadata": {
    "colab": {
      "provenance": [],
      "authorship_tag": "ABX9TyMzSxsSOnKPY37nlRYAngK7",
      "include_colab_link": true
    },
    "kernelspec": {
      "name": "python3",
      "display_name": "Python 3"
    },
    "language_info": {
      "name": "python"
    }
  },
  "cells": [
    {
      "cell_type": "markdown",
      "metadata": {
        "id": "view-in-github",
        "colab_type": "text"
      },
      "source": [
        "<a href=\"https://colab.research.google.com/github/Jair-RM/Simulacion-I-Figols/blob/main/Ejercicio_19_Nov_(reduccion_de_varianza).ipynb\" target=\"_parent\"><img src=\"https://colab.research.google.com/assets/colab-badge.svg\" alt=\"Open In Colab\"/></a>"
      ]
    },
    {
      "cell_type": "code",
      "execution_count": 1,
      "metadata": {
        "colab": {
          "base_uri": "https://localhost:8080/"
        },
        "id": "aDTGsYqh4ak9",
        "outputId": "ea2ec6f3-bb22-485a-c3c3-3babd0a606e7"
      },
      "outputs": [
        {
          "output_type": "stream",
          "name": "stdout",
          "text": [
            "0.3413447460685429\n",
            "0.7864220901755008 0.02576865105319197\n",
            "0.7858091921728921 0.002715542109264034\n",
            "89.46183832572929\n"
          ]
        }
      ],
      "source": [
        "from statistics import mean, variance\n",
        "from random import random, gauss\n",
        "from scipy.stats import norm\n",
        "\n",
        "# < > ∈ o ∉ | λ\n",
        "#@jit(nopython=True)\n",
        "\n",
        "def g(x):\n",
        "  return 1/(1+x**2)\n",
        "\n",
        "def f(x):\n",
        "  if x>0 and x<1:\n",
        "    return 1\n",
        "  else:\n",
        "    return 0\n",
        "\n",
        "def h(x,a):\n",
        "  if x>0 and x<1:\n",
        "    return norm.pdf(x,0,1)/a\n",
        "  else:\n",
        "    return 0\n",
        "\n",
        "a=norm.cdf(1,0,1) - 0.5\n",
        "print(a)\n",
        "nr=10000\n",
        "l=[]\n",
        "l1=[]\n",
        "\n",
        "for i in range(nr):\n",
        "  z=random()\n",
        "  l.append(g(z))\n",
        "  z=a*random() + 0.5\n",
        "  z=norm.ppf(z,0,1)\n",
        "  l1.append(g(z)*f(z)/h(z,a))\n",
        "\n",
        "m=mean(l)\n",
        "v=variance(l)\n",
        "print(m,v)\n",
        "m1=mean(l1)\n",
        "v1=variance(l1)\n",
        "print(m1,v1)\n",
        "print(100*(v - v1)/v)\n"
      ]
    },
    {
      "cell_type": "code",
      "source": [
        "from statistics import mean, variance\n",
        "from random import random, gauss\n",
        "from scipy.stats import norm\n",
        "from math import pi\n",
        "\n",
        "# < > ∈ o ∉ | λ\n",
        "#@jit(nopython=True)\n",
        "\n",
        "def g(x):\n",
        "  return 1/(1+x**2)\n",
        "\n",
        "def f(x):\n",
        "  if x>0 and x<1:\n",
        "    return 1\n",
        "  else:\n",
        "    return 0\n",
        "\n",
        "def h(x,a,o):\n",
        "  if x>0 and x<1:\n",
        "    return norm.pdf(x,0,o)/a\n",
        "  else:\n",
        "    return 0\n",
        "o=0.82\n",
        "a=norm.cdf(1,0,o) - 0.5\n",
        "print(a)\n",
        "nr=100000\n",
        "l=[]\n",
        "l1=[]\n",
        "\n",
        "for i in range(nr):\n",
        "  z=random()\n",
        "  l.append(g(z))\n",
        "  z=a*random() + 0.5\n",
        "  z=norm.ppf(z,0,o)\n",
        "  l1.append(g(z)*f(z)/h(z,a,o))\n",
        "\n",
        "m=mean(l)\n",
        "v=variance(l)\n",
        "print(m,pi/4,v)\n",
        "m1=mean(l1)\n",
        "v1=variance(l1)\n",
        "print(m1,pi/4,v1)\n",
        "print(100*(v - v1)/v)"
      ],
      "metadata": {
        "colab": {
          "base_uri": "https://localhost:8080/"
        },
        "id": "TA_bRTqVCFyy",
        "outputId": "0db35e83-4f0b-4d14-ea06-d7c54ab658b9"
      },
      "execution_count": 3,
      "outputs": [
        {
          "output_type": "stream",
          "name": "stdout",
          "text": [
            "0.3886750749607466\n",
            "0.7855033023594138 0.7853981633974483 0.02591052810811524\n",
            "0.7854335820690101 0.7853981633974483 0.0002145808412215466\n",
            "99.17183918318385\n"
          ]
        }
      ]
    },
    {
      "cell_type": "code",
      "source": [
        "from statistics import mean, variance\n",
        "from random import random, gauss\n",
        "from scipy.stats import norm\n",
        "from scipy.optimize import minimize_scalar\n",
        "from math import pi\n",
        "\n",
        "# < > ∈ o ∉ | λ\n",
        "#@jit(nopython=True)\n",
        "\n",
        "def g(x):\n",
        "  return 1/(1+x**2)\n",
        "\n",
        "def f(x):\n",
        "  if x>0 and x<1:\n",
        "    return 1\n",
        "  else:\n",
        "    return 0\n",
        "\n",
        "def h(x,a,o):\n",
        "  if x>0 and x<1:\n",
        "    return norm.pdf(x,0,o)/a\n",
        "  else:\n",
        "    return 0\n",
        "\n",
        "def ff(x):\n",
        "  a=norm.cdf(1,0,x) - 0.5\n",
        "  nr=100000\n",
        "  l=[]\n",
        "  l1=[]\n",
        "  for i in range(nr):\n",
        "    z=random()\n",
        "    l.append(g(z))\n",
        "    z=a*random() + 0.5\n",
        "    z=norm.ppf(z,0,x)\n",
        "    l1.append(g(z)*f(z)/h(z,a,x))\n",
        "  v=variance(l)\n",
        "  v1=variance(l1)\n",
        "  print(x, 100*(v - v1)/v)\n",
        "  return -100*(v - v1)/v\n",
        "\n",
        "re=minimize_scalar(ff, bounds=(0.6, 1.3))\n",
        "print(re)"
      ],
      "metadata": {
        "colab": {
          "base_uri": "https://localhost:8080/"
        },
        "id": "KMO9YznDCJuL",
        "outputId": "8c802abe-24cd-4605-a913-bd72e0c0e7c7"
      },
      "execution_count": 2,
      "outputs": [
        {
          "output_type": "stream",
          "name": "stdout",
          "text": [
            "0.8673762078750735 98.41190427412977\n",
            "1.0326237921249264 86.77981420291658\n",
            "0.7652475842498527 96.43269913717246\n",
            "0.845172005341106 99.03718946153785\n",
            "0.8326022982392479 99.19243000753393\n",
            "0.8253051592913343 99.2066244982773\n",
            "0.8270967050131535 99.20873124168452\n",
            "0.8272380863388047 99.19724562829083\n",
            "0.8262147221970794 99.20363260045272\n",
            "0.8267598175549065 99.20840377363761\n",
            "0.8269680254544867 99.20832947333997\n",
            "0.8271507078741778 99.21042377384292\n",
            "0.8271840834777805 99.21133988920086\n",
            "0.827204710735202 99.20366567631409\n",
            "0.8271713351315994 99.20173110050104\n",
            "0.8271919623890208 99.20369062478157\n",
            "0.8271792140428397 99.20680800203519\n",
            "0.8271874290802366 99.20316112388318\n",
            " message: Solution found.\n",
            " success: True\n",
            "  status: 0\n",
            "     fun: -99.21133988920086\n",
            "       x: 0.8271840834777805\n",
            "     nit: 18\n",
            "    nfev: 18\n"
          ]
        }
      ]
    }
  ]
}