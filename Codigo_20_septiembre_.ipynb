{
  "nbformat": 4,
  "nbformat_minor": 0,
  "metadata": {
    "colab": {
      "provenance": [],
      "authorship_tag": "ABX9TyPhs1/TR4PWQaGUQWpdJuPL",
      "include_colab_link": true
    },
    "kernelspec": {
      "name": "python3",
      "display_name": "Python 3"
    },
    "language_info": {
      "name": "python"
    }
  },
  "cells": [
    {
      "cell_type": "markdown",
      "metadata": {
        "id": "view-in-github",
        "colab_type": "text"
      },
      "source": [
        "<a href=\"https://colab.research.google.com/github/Jair-RM/Simulacion-I-Figols/blob/main/Codigo_20_septiembre_.ipynb\" target=\"_parent\"><img src=\"https://colab.research.google.com/assets/colab-badge.svg\" alt=\"Open In Colab\"/></a>"
      ]
    },
    {
      "cell_type": "code",
      "execution_count": 1,
      "metadata": {
        "id": "hBNLNKca-n_w"
      },
      "outputs": [],
      "source": [
        "import math\n",
        "from math import log, exp, sqrt, cos, acos, pi, sin, factorial\n",
        "from statistics import mean, stdev\n",
        "from scipy.stats import norm\n",
        "import random as rnd\n",
        "from random import random, gauss\n",
        "import numpy as np\n",
        "import matplotlib.pyplot as plt\n",
        "from time import time\n",
        "#from numba import jit\n",
        "# < >"
      ]
    },
    {
      "cell_type": "code",
      "source": [
        "def geny():\n",
        "  u=random()\n",
        "  return u+1\n",
        "def fy(y):\n",
        "  if y > 1 and y < 2:\n",
        "    return 1\n",
        "  else:\n",
        "    return 0\n",
        "def fx(x):\n",
        "  if x > 1 and x < 2:\n",
        "    return log(x)/(2*log(2)-1)\n",
        "  else:\n",
        "    return 0\n",
        "\n",
        "n=100\n",
        "c=2\n",
        "i=0\n",
        "l=[]\n",
        "while i<n:\n",
        "  y=geny()\n",
        "  u=random()\n",
        "  if u < fx(y)/(c*fy(y)):\n",
        "    l.append(y)\n",
        "    i=i+1\n",
        "\n",
        "\n",
        "#print(l)\n",
        "\n",
        "\n",
        "print(j/i, c+1)\n",
        "b=[]\n",
        "x1=1\n",
        "x2=2\n",
        "x=x1\n",
        "lt=[]\n",
        "while x < x2:\n",
        "  b.append(x)\n",
        "  lt.append(fx(x))\n",
        "  x=x+(x2-x1)/100\n",
        "\n",
        "plt. figure(figsize=(4,3))\n",
        "plt.hist(l, density=1, bins=b, color=\"grey\", edgecolor=\"black\")\n",
        "plt.plot(b, lt, color=\"red\")\n",
        "plt.show()\n"
      ],
      "metadata": {
        "colab": {
          "base_uri": "https://localhost:8080/",
          "height": 234
        },
        "id": "9Txj9GfO-om_",
        "outputId": "3b1346ef-af44-4bf4-992f-5cb4f2224bd5"
      },
      "execution_count": 3,
      "outputs": [
        {
          "output_type": "error",
          "ename": "NameError",
          "evalue": "name 'j' is not defined",
          "traceback": [
            "\u001b[0;31m---------------------------------------------------------------------------\u001b[0m",
            "\u001b[0;31mNameError\u001b[0m                                 Traceback (most recent call last)",
            "\u001b[0;32m<ipython-input-3-1c2867b32b04>\u001b[0m in \u001b[0;36m<cell line: 30>\u001b[0;34m()\u001b[0m\n\u001b[1;32m     28\u001b[0m \u001b[0;34m\u001b[0m\u001b[0m\n\u001b[1;32m     29\u001b[0m \u001b[0;34m\u001b[0m\u001b[0m\n\u001b[0;32m---> 30\u001b[0;31m \u001b[0mprint\u001b[0m\u001b[0;34m(\u001b[0m\u001b[0mj\u001b[0m\u001b[0;34m/\u001b[0m\u001b[0mi\u001b[0m\u001b[0;34m,\u001b[0m \u001b[0mc\u001b[0m\u001b[0;34m+\u001b[0m\u001b[0;36m1\u001b[0m\u001b[0;34m)\u001b[0m\u001b[0;34m\u001b[0m\u001b[0;34m\u001b[0m\u001b[0m\n\u001b[0m\u001b[1;32m     31\u001b[0m \u001b[0mb\u001b[0m\u001b[0;34m=\u001b[0m\u001b[0;34m[\u001b[0m\u001b[0;34m]\u001b[0m\u001b[0;34m\u001b[0m\u001b[0;34m\u001b[0m\u001b[0m\n\u001b[1;32m     32\u001b[0m \u001b[0mx1\u001b[0m\u001b[0;34m=\u001b[0m\u001b[0;36m1\u001b[0m\u001b[0;34m\u001b[0m\u001b[0;34m\u001b[0m\u001b[0m\n",
            "\u001b[0;31mNameError\u001b[0m: name 'j' is not defined"
          ]
        }
      ]
    }
  ]
}