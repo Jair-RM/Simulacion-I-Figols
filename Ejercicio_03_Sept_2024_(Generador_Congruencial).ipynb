{
  "nbformat": 4,
  "nbformat_minor": 0,
  "metadata": {
    "colab": {
      "private_outputs": true,
      "provenance": [],
      "authorship_tag": "ABX9TyPYKGh8uEtHrvBcNzw6fWMe",
      "include_colab_link": true
    },
    "kernelspec": {
      "name": "python3",
      "display_name": "Python 3"
    },
    "language_info": {
      "name": "python"
    }
  },
  "cells": [
    {
      "cell_type": "markdown",
      "metadata": {
        "id": "view-in-github",
        "colab_type": "text"
      },
      "source": [
        "<a href=\"https://colab.research.google.com/github/Jair-RM/Simulacion-I-Figols/blob/main/Ejercicio_03_Sept_2024_(Generador_Congruencial).ipynb\" target=\"_parent\"><img src=\"https://colab.research.google.com/assets/colab-badge.svg\" alt=\"Open In Colab\"/></a>"
      ]
    },
    {
      "cell_type": "code",
      "execution_count": null,
      "metadata": {
        "id": "xpWjKSrmb8S5"
      },
      "outputs": [],
      "source": [
        "import matplotlib.pyplot as plt"
      ]
    },
    {
      "cell_type": "code",
      "source": [
        "def f(x, a, c, m):\n",
        "  return (a*x + c)%(m)\n",
        "a=17\n",
        "c=33\n",
        "m=37\n",
        "x=20\n",
        "l=[]\n",
        "i=0\n",
        "while i<100000:\n",
        "  l.append(x/m)\n",
        "  x=f(x,a,c,m)\n",
        "  i=i+1\n",
        "#print(l, len(l)-1)\n",
        "plt.hist(l, density=1, color=\"grey\", edgecolor=\"black\", bins=50)\n",
        "plt.show()\n"
      ],
      "metadata": {
        "id": "PCBV-G2VcAm0"
      },
      "execution_count": null,
      "outputs": []
    },
    {
      "cell_type": "code",
      "source": [
        "# 1. m y c son primos relativos\n",
        "# 2. Si p es un factor primo de m, entonces p divide a (a-1)\n",
        "# 3. Si 4 divide a m, entonces 4 divide a (a-1)"
      ],
      "metadata": {
        "id": "7P9AvKkdiN_v"
      },
      "execution_count": null,
      "outputs": []
    },
    {
      "cell_type": "code",
      "source": [
        "def f(x, a, c, m):\n",
        "  return (a*x + c)%(m)\n",
        "a=30\n",
        "c=33\n",
        "m=29\n",
        "x=20\n",
        "l=[]\n",
        "\n",
        "while x not in l:\n",
        "  l.append(x)\n",
        "  x=f(x,a,c,m)\n",
        "print(l, len(l))\n",
        "l.sort()\n",
        "print(l)"
      ],
      "metadata": {
        "id": "S2z4ZDSQhKsF"
      },
      "execution_count": null,
      "outputs": []
    }
  ]
}