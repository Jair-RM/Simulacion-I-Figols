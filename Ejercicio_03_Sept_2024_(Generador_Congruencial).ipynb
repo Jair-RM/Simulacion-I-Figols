{
  "nbformat": 4,
  "nbformat_minor": 0,
  "metadata": {
    "colab": {
      "private_outputs": true,
      "provenance": [],
      "authorship_tag": "ABX9TyPc0eLsD3t1JSnzrtzZhVFJ",
      "include_colab_link": true
    },
    "kernelspec": {
      "name": "python3",
      "display_name": "Python 3"
    },
    "language_info": {
      "name": "python"
    }
  },
  "cells": [
    {
      "cell_type": "markdown",
      "metadata": {
        "id": "view-in-github",
        "colab_type": "text"
      },
      "source": [
        "<a href=\"https://colab.research.google.com/github/Jair-RM/Simulacion-I-Figols/blob/main/Ejercicio_03_Sept_2024_(Generador_Congruencial).ipynb\" target=\"_parent\"><img src=\"https://colab.research.google.com/assets/colab-badge.svg\" alt=\"Open In Colab\"/></a>"
      ]
    },
    {
      "cell_type": "code",
      "execution_count": null,
      "metadata": {
        "id": "xpWjKSrmb8S5"
      },
      "outputs": [],
      "source": []
    },
    {
      "cell_type": "code",
      "source": [
        "def f(x, a, c, m):\n",
        "  return (a*x + c)%(m)\n",
        "a=17\n",
        "c=33\n",
        "m=37\n",
        "x=20\n",
        "l=[]\n",
        "\n",
        "while x not in l:\n",
        "  l.append(x)\n",
        "  x=f(x,a,c,m)\n",
        "print(l, len(l)-1)\n",
        "l.sort()\n",
        "print(l)\n"
      ],
      "metadata": {
        "id": "PCBV-G2VcAm0"
      },
      "execution_count": null,
      "outputs": []
    }
  ]
}