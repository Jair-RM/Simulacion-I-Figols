{
  "nbformat": 4,
  "nbformat_minor": 0,
  "metadata": {
    "colab": {
      "provenance": [],
      "authorship_tag": "ABX9TyOSbx1M58nfrnCJ0j+nQv3y",
      "include_colab_link": true
    },
    "kernelspec": {
      "name": "python3",
      "display_name": "Python 3"
    },
    "language_info": {
      "name": "python"
    }
  },
  "cells": [
    {
      "cell_type": "markdown",
      "metadata": {
        "id": "view-in-github",
        "colab_type": "text"
      },
      "source": [
        "<a href=\"https://colab.research.google.com/github/Jair-RM/Simulacion-I-Figols/blob/main/Ejercicio_14_Octubre_(Lineas_de_espera).ipynb\" target=\"_parent\"><img src=\"https://colab.research.google.com/assets/colab-badge.svg\" alt=\"Open In Colab\"/></a>"
      ]
    },
    {
      "cell_type": "code",
      "execution_count": 1,
      "metadata": {
        "id": "7tVObBctfcEi"
      },
      "outputs": [],
      "source": [
        "import math\n",
        "from math import log, exp, sqrt, cos, acos, pi, sin, factorial\n",
        "from statistics import mean, stdev, variance\n",
        "from scipy.stats import norm\n",
        "import random as rnd\n",
        "from random import random, gauss\n",
        "import numpy as np\n",
        "import matplotlib.pyplot as plt\n",
        "from time import time\n",
        "#from numba import jit"
      ]
    },
    {
      "cell_type": "code",
      "source": [
        "# Considere una linea de espera de un solo servidor en la que los usuarios\n",
        "# llegan siguiendo un proceso de Poisson con parametro λ usuario/minuto. Los\n",
        "# tiempos de atencion a los usuarios siguen una distribucion exponencial con\n",
        "# parametro 0.8 usuarios/minuto. Ademas se cumple que \"primero e llegar,\n",
        "# primero en salir.\"\n",
        "# Estime por simulacion.\n",
        "# a) El valor esperado del valor medio del numero de usuarios en el sistema\n",
        "#    en el intervalo [0, 60]\n",
        "# b) El valor esperado del maximo numero de personas en el intervalo [0, 60]\n",
        "# c) La probabilidad de que el maximo numero de personas en el sistema sea\n",
        "#    mayor que 20 en el intervalo [0, 60]\n",
        "# d) Estimar el valor esperado del tiempo de permanencia de los usuarios en el\n",
        "#    sistema en el intervalo [0, 60]"
      ],
      "metadata": {
        "id": "03ErVxw8ffCT"
      },
      "execution_count": null,
      "outputs": []
    },
    {
      "cell_type": "code",
      "source": [
        "# Chat GPT\n",
        "from math import log\n",
        "from random import random\n",
        "\n",
        "def simulacion(l_l=1, l_s=0.8, T=60):\n",
        "    t = 0\n",
        "    infi = float('inf')\n",
        "    ts = infi\n",
        "    tl = 0\n",
        "    l = 0\n",
        "    maxi = 0\n",
        "    total_tiempo_permanencia = 0\n",
        "    num_usuarios = 0\n",
        "\n",
        "    while min(tl, ts) < T:\n",
        "        ta = t  # Registro del tiempo actual\n",
        "        t = min(tl, ts)\n",
        "\n",
        "        if t == tl:\n",
        "            # Un nuevo usuario llega\n",
        "            num_usuarios += 1\n",
        "            l += 1\n",
        "            tiempo_llegada = t  # Registro del tiempo de llegada\n",
        "            tl = t - (1/l_l) * log(random())\n",
        "            if l == 1:\n",
        "                ts = t - (1/l_s) * log(random())\n",
        "        else:\n",
        "            # Un usuario es atendido\n",
        "            tiempo_permanencia = t - tiempo_llegada  # Cálculo del tiempo de permanencia\n",
        "            total_tiempo_permanencia += tiempo_permanencia\n",
        "            l -= 1\n",
        "            if l > 0:\n",
        "                ts = t - (1/l_s) * log(random())\n",
        "            else:\n",
        "                ts = infi\n",
        "\n",
        "        if l > maxi:\n",
        "            maxi = l\n",
        "\n",
        "    # Cálculo del área para el valor medio\n",
        "    area = l * (T - t) + total_tiempo_permanencia  # Cálculo corregido\n",
        "    valor_medio = area / T\n",
        "    tiempo_esperado_permanencia = total_tiempo_permanencia / num_usuarios if num_usuarios > 0 else 0\n",
        "\n",
        "    return valor_medio, maxi, tiempo_esperado_permanencia\n",
        "\n",
        "ns = 100000\n",
        "suma_valor_medio = 0\n",
        "suma_maximo = 0\n",
        "suma_tiempo_permanencia = 0\n",
        "maximos = []\n",
        "\n",
        "for i in range(ns):\n",
        "    valor_medio, maximo, tiempo_permanencia = simulacion()\n",
        "    suma_valor_medio += valor_medio\n",
        "    suma_maximo += maximo\n",
        "    suma_tiempo_permanencia += tiempo_permanencia\n",
        "    maximos.append(maximo)\n",
        "\n",
        "valor_esperado_valor_medio = suma_valor_medio / ns\n",
        "valor_esperado_maximo = suma_maximo / ns\n",
        "valor_esperado_tiempo_permanencia = suma_tiempo_permanencia / ns\n",
        "probabilidad_mayor_20 = sum(1 for m in maximos if m > 20) / ns\n",
        "\n",
        "print(f\"Valor esperado del número medio de usuarios en el sistema: {valor_esperado_valor_medio:.2f}\")\n",
        "print(f\"Valor esperado del máximo número de usuarios en el sistema: {valor_esperado_maximo:.2f}\")\n",
        "print(f\"Probabilidad de que el máximo número de usuarios sea mayor que 20: {probabilidad_mayor_20:.4f}\")\n",
        "print(f\"Valor esperado del tiempo de permanencia en el sistema: {valor_esperado_tiempo_permanencia:.2f} minutos\")"
      ],
      "metadata": {
        "colab": {
          "base_uri": "https://localhost:8080/"
        },
        "id": "UgDExC-PlO51",
        "outputId": "5724ea15-c0e0-4aef-c314-cd37c5b77bb4"
      },
      "execution_count": 7,
      "outputs": [
        {
          "output_type": "stream",
          "name": "stdout",
          "text": [
            "Valor esperado del número medio de usuarios en el sistema: 0.84\n",
            "Valor esperado del máximo número de usuarios en el sistema: 18.65\n",
            "Probabilidad de que el máximo número de usuarios sea mayor que 20: 0.3695\n",
            "Valor esperado del tiempo de permanencia en el sistema: 0.70 minutos\n"
          ]
        }
      ]
    },
    {
      "cell_type": "code",
      "source": [
        "# Profesor inciso a\n",
        "from math import log\n",
        "from random import random\n",
        "import matplotlib.pyplot as plt\n",
        "def f():\n",
        "  T=60\n",
        "  l_l=1\n",
        "  l_s=0.8\n",
        "  t=0\n",
        "  infi=1000000000\n",
        "  ts=infi\n",
        "  tl=0\n",
        "  l=0\n",
        "\n",
        "  suma=0   #variables de los rectangulos para calcular p\n",
        "\n",
        "  maxi=0\n",
        "  while min(tl, ts)<T:\n",
        "\n",
        "    ta=t\n",
        "    t=min(tl, ts)\n",
        "\n",
        "    suma= suma+l*(t- ta)\n",
        "    if t==tl:\n",
        "      l=l+1\n",
        "\n",
        "      tl=t - (1/l_l)*log(random())\n",
        "      if l==1:\n",
        "        ts=t - (1/l_s)*log(random())\n",
        "    else:\n",
        "      l=l-1\n",
        "\n",
        "      if l==0:\n",
        "        ts=infi\n",
        "      else:\n",
        "        ts=t - (1/l_s)*log(random())\n",
        "    if l > maxi:\n",
        "      maxi=l\n",
        "  suma= suma+l*(T-t)\n",
        "  return suma/T, maxi   #area de los rectangulos entre el tiempo y valor maximo\n",
        "nr=100000\n",
        "suma1=0\n",
        "suma2=0\n",
        "cuenta=0\n",
        "\n",
        "for i in range(nr):\n",
        "  med, maxi=f()\n",
        "  suma1=suma1+ med\n",
        "  suma2=suma2 +maxi\n",
        "  if maxi > 20:\n",
        "    cuenta=cuenta+1\n",
        "print(suma1/nr, suma2/nr, cuenta/nr)\n"
      ],
      "metadata": {
        "colab": {
          "base_uri": "https://localhost:8080/"
        },
        "id": "4wj7ANyAproa",
        "outputId": "ea24c34c-a805-4b1f-b9d4-128af49f0194"
      },
      "execution_count": 10,
      "outputs": [
        {
          "output_type": "stream",
          "name": "stdout",
          "text": [
            "9.000968522671721 18.67866 0.37098\n"
          ]
        }
      ]
    },
    {
      "cell_type": "code",
      "source": [
        "# Profesor\n",
        "from math import log\n",
        "from random import random\n",
        "import matplotlib.pyplot as plt\n",
        "def f():\n",
        "  T=60\n",
        "  l_l=1\n",
        "  l_s=0.8\n",
        "  t=0\n",
        "  infi=1000000000\n",
        "  ts=infi\n",
        "  tl=0\n",
        "  l=0\n",
        "\n",
        "  suma=0   #variables de los rectangulos para calcular p\n",
        "\n",
        "  maxi=0\n",
        "  while min(tl, ts)<T:\n",
        "\n",
        "    ta=t\n",
        "    t=min(tl, ts)\n",
        "\n",
        "    suma= suma+l*(t- ta)\n",
        "    if t==tl:\n",
        "      l=l+1\n",
        "\n",
        "      tl=t - (1/l_l)*log(random())\n",
        "      if l==1:\n",
        "        ts=t - (1/l_s)*log(random())\n",
        "    else:\n",
        "      l=l-1\n",
        "\n",
        "      if l==0:\n",
        "        ts=infi\n",
        "      else:\n",
        "        ts=t - (1/l_s)*log(random())\n",
        "    if l > maxi:\n",
        "      maxi=l\n",
        "  suma= suma+l*(T-t)\n",
        "  return suma/T, maxi   #area de los rectangulos entre el tiempo y valor maximo\n",
        "\n",
        "#para mayor comprension\n",
        "for i in range(15):\n",
        "  a,b=f()\n",
        "  print(\"%3d\"%i, \"%10.4f\"%a, \"%10.4f\"%b)\n",
        "\n"
      ],
      "metadata": {
        "colab": {
          "base_uri": "https://localhost:8080/"
        },
        "id": "OlDqxQnisLQ6",
        "outputId": "de3f2cc4-08ec-4521-d689-40a4dc22a0aa"
      },
      "execution_count": 13,
      "outputs": [
        {
          "output_type": "stream",
          "name": "stdout",
          "text": [
            "  0     4.4703    13.0000\n",
            "  1     7.1605    13.0000\n",
            "  2     5.4620    16.0000\n",
            "  3     5.7453    13.0000\n",
            "  4    12.2293    22.0000\n",
            "  5     8.9360    19.0000\n",
            "  6     2.4615     6.0000\n",
            "  7     1.3630     5.0000\n",
            "  8    11.0013    19.0000\n",
            "  9    13.1492    23.0000\n",
            " 10     5.6901    12.0000\n",
            " 11    15.0184    29.0000\n",
            " 12     9.6668    24.0000\n",
            " 13     5.7797    11.0000\n",
            " 14     8.4741    21.0000\n"
          ]
        }
      ]
    },
    {
      "cell_type": "code",
      "source": [
        "# Profesor inciso b\n",
        "from math import log\n",
        "from random import random\n",
        "import matplotlib.pyplot as plt\n",
        "def f():\n",
        "  T=60\n",
        "  l_l=1\n",
        "  l_s=0.8\n",
        "  t=0\n",
        "  infi=1000000000\n",
        "  ts=infi\n",
        "  tl=0\n",
        "  l=0\n",
        "  ll=[]\n",
        "  ls=[]\n",
        "  suma=0   #variables de los rectangulos para calcular p\n",
        "\n",
        "  while min(tl, ts)<T:\n",
        "    t=min(tl, ts)\n",
        "    if t==tl:\n",
        "      ll.append(t) ######\n",
        "      l=l+1\n",
        "\n",
        "      tl=t - (1/l_l)*log(random())\n",
        "      if l==1:\n",
        "        ts=t - (1/l_s)*log(random())\n",
        "    else:######\n",
        "      ls.append(t)\n",
        "      l=l+1\n",
        "\n",
        "      if l==0:\n",
        "        ts=infi\n",
        "      else:\n",
        "        ts=t - (1/l_s)*log(random())\n",
        "  suma=0\n",
        "  n=min(len(ll), len(ls))\n",
        "  for i in range(n):\n",
        "    suma=suma+(ls[i]-ll[i])\n",
        "  return suma/n\n",
        "\n",
        "nr=100000\n",
        "suma=0\n",
        "l=[]\n",
        "\n",
        "for i in range(nr):\n",
        "  tiempo=f()\n",
        "  l.append(tiempo)\n",
        "  suma=suma+tiempo\n",
        "print(suma/nr)\n",
        "plt.figure(figsize=(4,3))\n",
        "plt.hist(l, bins=50, color=\"grey\", edgecolor=\"black\")\n",
        "plt.show"
      ],
      "metadata": {
        "colab": {
          "base_uri": "https://localhost:8080/",
          "height": 478
        },
        "id": "f8tNhg9rtWe7",
        "outputId": "79865b68-6ea8-449e-c0ce-1f620ffc67da"
      },
      "execution_count": 15,
      "outputs": [
        {
          "output_type": "stream",
          "name": "stdout",
          "text": [
            "6.547887432043528\n"
          ]
        },
        {
          "output_type": "execute_result",
          "data": {
            "text/plain": [
              "<function matplotlib.pyplot.show(close=None, block=None)>"
            ],
            "text/html": [
              "<div style=\"max-width:800px; border: 1px solid var(--colab-border-color);\"><style>\n",
              "      pre.function-repr-contents {\n",
              "        overflow-x: auto;\n",
              "        padding: 8px 12px;\n",
              "        max-height: 500px;\n",
              "      }\n",
              "\n",
              "      pre.function-repr-contents.function-repr-contents-collapsed {\n",
              "        cursor: pointer;\n",
              "        max-height: 100px;\n",
              "      }\n",
              "    </style>\n",
              "    <pre style=\"white-space: initial; background:\n",
              "         var(--colab-secondary-surface-color); padding: 8px 12px;\n",
              "         border-bottom: 1px solid var(--colab-border-color);\"><b>matplotlib.pyplot.show</b><br/>def show(*args, **kwargs)</pre><pre class=\"function-repr-contents function-repr-contents-collapsed\" style=\"\"><a class=\"filepath\" style=\"display:none\" href=\"#\">/usr/local/lib/python3.10/dist-packages/matplotlib/pyplot.py</a>Display all open figures.\n",
              "\n",
              "Parameters\n",
              "----------\n",
              "block : bool, optional\n",
              "    Whether to wait for all figures to be closed before returning.\n",
              "\n",
              "    If `True` block and run the GUI main loop until all figure windows\n",
              "    are closed.\n",
              "\n",
              "    If `False` ensure that all figure windows are displayed and return\n",
              "    immediately.  In this case, you are responsible for ensuring\n",
              "    that the event loop is running to have responsive figures.\n",
              "\n",
              "    Defaults to True in non-interactive mode and to False in interactive\n",
              "    mode (see `.pyplot.isinteractive`).\n",
              "\n",
              "See Also\n",
              "--------\n",
              "ion : Enable interactive mode, which shows / updates the figure after\n",
              "      every plotting command, so that calling ``show()`` is not necessary.\n",
              "ioff : Disable interactive mode.\n",
              "savefig : Save the figure to an image file instead of showing it on screen.\n",
              "\n",
              "Notes\n",
              "-----\n",
              "**Saving figures to file and showing a window at the same time**\n",
              "\n",
              "If you want an image file as well as a user interface window, use\n",
              "`.pyplot.savefig` before `.pyplot.show`. At the end of (a blocking)\n",
              "``show()`` the figure is closed and thus unregistered from pyplot. Calling\n",
              "`.pyplot.savefig` afterwards would save a new and thus empty figure. This\n",
              "limitation of command order does not apply if the show is non-blocking or\n",
              "if you keep a reference to the figure and use `.Figure.savefig`.\n",
              "\n",
              "**Auto-show in jupyter notebooks**\n",
              "\n",
              "The jupyter backends (activated via ``%matplotlib inline``,\n",
              "``%matplotlib notebook``, or ``%matplotlib widget``), call ``show()`` at\n",
              "the end of every cell by default. Thus, you usually don&#x27;t have to call it\n",
              "explicitly there.</pre>\n",
              "      <script>\n",
              "      if (google.colab.kernel.accessAllowed && google.colab.files && google.colab.files.view) {\n",
              "        for (const element of document.querySelectorAll('.filepath')) {\n",
              "          element.style.display = 'block'\n",
              "          element.onclick = (event) => {\n",
              "            event.preventDefault();\n",
              "            event.stopPropagation();\n",
              "            google.colab.files.view(element.textContent, 401);\n",
              "          };\n",
              "        }\n",
              "      }\n",
              "      for (const element of document.querySelectorAll('.function-repr-contents')) {\n",
              "        element.onclick = (event) => {\n",
              "          event.preventDefault();\n",
              "          event.stopPropagation();\n",
              "          element.classList.toggle('function-repr-contents-collapsed');\n",
              "        };\n",
              "      }\n",
              "      </script>\n",
              "      </div>"
            ]
          },
          "metadata": {},
          "execution_count": 15
        },
        {
          "output_type": "display_data",
          "data": {
            "text/plain": [
              "<Figure size 400x300 with 1 Axes>"
            ],
            "image/png": "[encoded data removed]"
          },
          "metadata": {}
        }
      ]
    }
  ]
}