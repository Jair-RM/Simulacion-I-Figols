{
  "nbformat": 4,
  "nbformat_minor": 0,
  "metadata": {
    "colab": {
      "provenance": [],
      "authorship_tag": "ABX9TyOjx7w9u6whMeuatSwma38d",
      "include_colab_link": true
    },
    "kernelspec": {
      "name": "python3",
      "display_name": "Python 3"
    },
    "language_info": {
      "name": "python"
    }
  },
  "cells": [
    {
      "cell_type": "markdown",
      "metadata": {
        "id": "view-in-github",
        "colab_type": "text"
      },
      "source": [
        "<a href=\"https://colab.research.google.com/github/Jair-RM/Simulacion-I-Figols/blob/main/Proyecto_3er_parcial_.ipynb\" target=\"_parent\"><img src=\"https://colab.research.google.com/assets/colab-badge.svg\" alt=\"Open In Colab\"/></a>"
      ]
    },
    {
      "cell_type": "markdown",
      "source": [
        "# Proyecto.\n",
        "La integral\n",
        "$$\n",
        " \\int_0^1 \\frac{dx}{1+x^2}  =  \\frac{\\pi}{4} .\n",
        " $$\n",
        "Calcular dicha integral por simulacion de Montecarlo, es una manera de estimar el valor de π.\n",
        "\n",
        "Use reduccion de varianza por muestreo de importancia para reducir la varianza, usando la funcion de densidad\n",
        "\n",
        "$$\n",
        "h(x) =\n",
        "\\begin{cases}\n",
        "\\frac{a}{\\sqrt{2\\pi} \\sigma} e^{-\\frac{x^2}{2\\sigma^2}} & \\text{para } x \\in [0, 1] \\\\\n",
        "0 & \\text{en otro caso}\n",
        "\\end{cases}\n",
        "$$\n",
        "\n",
        " a) Calcule el valor de **a** para que h sea una funcion de densidad de probabilidad\n",
        "\n",
        "b) Encuentre el valor de σ con ***tres cifras decimales*** que maximice el porcentaje de reduccion de varianza ¿Cual es el porcentaje de reduccion de varianza para el σ encontrado?\n",
        "\n",
        "c) Grafique simultaneamente g(x)f(x) y h(x) usando una escala apropiada para cada funcion\n",
        "\n",
        "d) Trate de encontrar otra funcion de densidad de probabilidad que mejore el resultado\n",
        "\n",
        "$$\n",
        "g(x) =\n",
        "\\begin{cases}\n",
        "\\frac{1}{1+X^2} & \\text{si } x \\in [0, 1] \\\\\n",
        "0 & \\text{en otro caso}\n",
        "\\end{cases}\n",
        "$$\n",
        "\n",
        "\n",
        "$$\n",
        "f(x) =\n",
        "\\begin{cases}\n",
        "1 & \\text{si } x \\in [0, 1] \\\\\n",
        "0 & \\text{en otro caso}\n",
        "\\end{cases}\n",
        "$$\n",
        "\n",
        "Entrega: Martes 17 de dicmebre, 2024 ⚓ ⏰"
      ],
      "metadata": {
        "id": "oT-E_N7k4hm7"
      }
    },
    {
      "cell_type": "code",
      "source": [
        "import math\n",
        "from math import log, exp, sqrt, cos, acos, pi, sin, factorial\n",
        "from statistics import mean, stdev, variance, median\n",
        "from scipy.stats import norm, linregress, kstest, gaussian_kde\n",
        "from scipy.optimize import minimize\n",
        "import random as rnd\n",
        "from random import random, gauss, seed\n",
        "import numpy as np\n",
        "from numpy import random\n",
        "import matplotlib.pyplot as plt\n",
        "from time import time\n",
        "from scipy.optimize import minimize\n",
        "from numba import jit\n",
        "\n",
        "from statsmodels.sandbox.stats import runs\n",
        "from scipy.stats import kstest, uniform\n",
        "from statsmodels.stats.diagnostic import acorr_ljungbox\n",
        "# < > ∈ o ∉ | λ\n",
        "#@jit(nopython=True)"
      ],
      "metadata": {
        "id": "QifjEhzvBHUd"
      },
      "execution_count": 1,
      "outputs": []
    },
    {
      "cell_type": "code",
      "execution_count": 17,
      "metadata": {
        "colab": {
          "base_uri": "https://localhost:8080/",
          "height": 430
        },
        "id": "1QS5UC9H4hQ_",
        "outputId": "c964dd74-ce82-436b-91fd-2929b4c58abe"
      },
      "outputs": [
        {
          "output_type": "display_data",
          "data": {
            "text/plain": [
              "<Figure size 640x480 with 1 Axes>"
            ],
            "image/png": "[encoded data removed]"
          },
          "metadata": {}
        }
      ],
      "source": [
        "from random import random\n",
        "from math import exp, sqrt, pi\n",
        "\n",
        "def H(x):\n",
        "  p=a/(sqrt(2*pi)*sigma)\n",
        "  pa=exp(-(x**2)/(2*sigma**2))\n",
        "  p=p*pa\n",
        "  if x<1 and x>0:\n",
        "    return p\n",
        "  else:\n",
        "    return 0\n",
        "\n",
        "def G(x):\n",
        "  if x<1 and x>0:\n",
        "    return 1/(1+x**2)\n",
        "  else:\n",
        "    return 0\n",
        "\n",
        "def F(x):\n",
        "  if x<1 and x>0:\n",
        "    return 1\n",
        "  else:\n",
        "    return 0\n",
        "\n",
        "f=[]\n",
        "g=[]\n",
        "h=[]\n",
        "nr=100000\n",
        "sigma= 0.02\n",
        "a=1\n",
        "for i in range(10):\n",
        "  x=random()\n",
        "  g.append(G(x))\n",
        "  f.append(F(x))\n",
        "  h.append(H(x))\n",
        "\n",
        "plt.plot(f, color=\"red\")\n",
        "plt.plot(g, color=\"green\")\n",
        "plt.plot(h, color=\"pink\")\n",
        "plt.show()"
      ]
    },
    {
      "cell_type": "code",
      "source": [],
      "metadata": {
        "id": "OBTWPSBTDtmr"
      },
      "execution_count": null,
      "outputs": []
    }
  ]
}