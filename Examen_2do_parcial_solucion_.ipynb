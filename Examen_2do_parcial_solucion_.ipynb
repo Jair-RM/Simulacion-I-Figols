{
  "nbformat": 4,
  "nbformat_minor": 0,
  "metadata": {
    "colab": {
      "provenance": [],
      "authorship_tag": "ABX9TyN+JeTDPc68i5HMrTGpX+e+",
      "include_colab_link": true
    },
    "kernelspec": {
      "name": "python3",
      "display_name": "Python 3"
    },
    "language_info": {
      "name": "python"
    }
  },
  "cells": [
    {
      "cell_type": "markdown",
      "metadata": {
        "id": "view-in-github",
        "colab_type": "text"
      },
      "source": [
        "<a href=\"https://colab.research.google.com/github/Jair-RM/Simulacion-I-Figols/blob/main/Examen_2do_parcial_solucion_.ipynb\" target=\"_parent\"><img src=\"https://colab.research.google.com/assets/colab-badge.svg\" alt=\"Open In Colab\"/></a>"
      ]
    },
    {
      "cell_type": "markdown",
      "source": [
        "Ejercicio 1, incisos a y b"
      ],
      "metadata": {
        "id": "IN47-SHiAiFH"
      }
    },
    {
      "cell_type": "code",
      "execution_count": 7,
      "metadata": {
        "colab": {
          "base_uri": "https://localhost:8080/"
        },
        "id": "uDyTBvF_-ew8",
        "outputId": "d3f3b25c-5c78-44ff-8b67-ccc6fae4b05e"
      },
      "outputs": [
        {
          "output_type": "stream",
          "name": "stdout",
          "text": [
            "23.93963 18.88803\n"
          ]
        }
      ],
      "source": [
        "from math import log\n",
        "from random import random\n",
        "from numba import jit\n",
        "\n",
        "@jit(nopython=True)\n",
        "def f():\n",
        "  T=60\n",
        "  l_l=2\n",
        "  l_s=1.8\n",
        "  t=0\n",
        "  infi=1000000000\n",
        "  ts=infi\n",
        "  tl=0\n",
        "  l=0\n",
        "  maxi=0\n",
        "  while min(tl,ts)<T:\n",
        "    if l>maxi:\n",
        "      maxi=l\n",
        "    t=min(tl,ts)\n",
        "    if t==tl:\n",
        "      l=l+1\n",
        "      tl=t-(1/l_l)*log(random())\n",
        "      if l==1:\n",
        "        ts=t-(1/l_s)*log(random())\n",
        "    else:\n",
        "      l=l-1\n",
        "      if l==0:\n",
        "        ts=infi\n",
        "      else:\n",
        "        ts=t-(1/l_s)*log(random())\n",
        "  return maxi, l\n",
        "\n",
        "nr=100000\n",
        "suma1=0\n",
        "suma2=0\n",
        "for i in range(nr):\n",
        "  maxi,l=f()\n",
        "  suma1=suma1+maxi\n",
        "  suma2=suma2+l\n",
        "print(suma1/nr, suma2/nr)"
      ]
    },
    {
      "cell_type": "markdown",
      "source": [
        "Ejercicio 1, inciso c"
      ],
      "metadata": {
        "id": "8JIzG1jKAk3R"
      }
    },
    {
      "cell_type": "code",
      "source": [
        "from math import log\n",
        "from random import random\n",
        "from numba import jit\n",
        "\n",
        "@jit(nopython=True)\n",
        "def f():\n",
        "  T=60\n",
        "  l_l=2\n",
        "  l_s=1.8\n",
        "  tl=0\n",
        "  tis=0\n",
        "  ts=tis - (1/l_s)*log(random())\n",
        "  suma=ts - tl\n",
        "  i=1\n",
        "  while ts<T:\n",
        "    tl=tl - (1/l_l)*log(random())\n",
        "    tis=max(tl,ts)\n",
        "    ts=tis - (1/l_s)*log(random())\n",
        "    suma=suma+ts - tl\n",
        "    i=i+1\n",
        "  return suma/i\n",
        "suma=0\n",
        "nr=1000000\n",
        "for i in range(nr):\n",
        "  suma=suma+f()\n",
        "print(suma/nr)"
      ],
      "metadata": {
        "colab": {
          "base_uri": "https://localhost:8080/"
        },
        "id": "3Ta5_fPPBOg0",
        "outputId": "cd1ace90-a9a0-42ec-f48c-851a9bfcb320"
      },
      "execution_count": 10,
      "outputs": [
        {
          "output_type": "stream",
          "name": "stdout",
          "text": [
            "5.536089831617627\n"
          ]
        }
      ]
    },
    {
      "cell_type": "markdown",
      "source": [
        "Ejercicio 2"
      ],
      "metadata": {
        "id": "FGueGbBTDl0f"
      }
    },
    {
      "cell_type": "code",
      "source": [
        "from random import random\n",
        "from math import log, sqrt\n",
        "from scipy.stats import pearsonr\n",
        "\n",
        "l1=[]\n",
        "l2=[]\n",
        "nr=100000\n",
        "for i in range(nr):\n",
        "  x=(-1/2)*log(random())\n",
        "  l1. append(sqrt(x))\n",
        "  l2. append(x)\n",
        "r=100*pearsonr(l1,l2)[0]**2\n",
        "print(r)"
      ],
      "metadata": {
        "colab": {
          "base_uri": "https://localhost:8080/"
        },
        "id": "JRzCOnI6Dnnh",
        "outputId": "6cd9f5a8-d8ef-4509-d803-e5bbdc2e6f27"
      },
      "execution_count": 11,
      "outputs": [
        {
          "output_type": "stream",
          "name": "stdout",
          "text": [
            "91.49564432737851\n"
          ]
        }
      ]
    }
  ]
}