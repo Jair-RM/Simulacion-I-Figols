{
  "nbformat": 4,
  "nbformat_minor": 0,
  "metadata": {
    "colab": {
      "provenance": [],
      "authorship_tag": "ABX9TyMYXc6E0eLV1HE32L8mBviX",
      "include_colab_link": true
    },
    "kernelspec": {
      "name": "python3",
      "display_name": "Python 3"
    },
    "language_info": {
      "name": "python"
    }
  },
  "cells": [
    {
      "cell_type": "markdown",
      "metadata": {
        "id": "view-in-github",
        "colab_type": "text"
      },
      "source": [
        "<a href=\"https://colab.research.google.com/github/Jair-RM/Simulacion-I-Figols/blob/main/EXAMEN_2DO_PARCIAL_.ipynb\" target=\"_parent\"><img src=\"https://colab.research.google.com/assets/colab-badge.svg\" alt=\"Open In Colab\"/></a>"
      ]
    },
    {
      "cell_type": "markdown",
      "source": [
        "1. Considere una linea de espera de un solo servidor, en la que os usuarios llegan siguiendo un proceso de Poisson con parameto 2 usurios/minuto, los tiempos de atencion a los uuarios en el servidor siguen una distribucion exponencial con parametro 1.8 usuarios/minuto. Y se cumple \"primero en llegar, primero en salir\"\n",
        "\n",
        "a) Estime por simulacion, el valor esperdo del maximo numero de personas en el sistema en el intervalo [0,60]\n",
        "\n",
        "b) Estime por simulacion, el valor esperado del numero de personas en T=60 minutos\n",
        "\n",
        "c) Estime por simulacion, el valor esperdo del promedio del tiempo de permanencia en el sistema por parte de los usuarios en el intervalo [0,60]"
      ],
      "metadata": {
        "id": "Rhjp7ae91pCC"
      }
    },
    {
      "cell_type": "code",
      "source": [
        "from random import expovariate\n",
        "\n",
        "def simulacion_linea_espera(tasa_llegada, tasa_servicio, tiempo_simulacion):\n",
        "    infinito = 2 * tiempo_simulacion  # Valor suficientemente grande\n",
        "    t = 0  # Tiempo actual\n",
        "    num_personas_sistema = 0\n",
        "    tiempo_llegada = expovariate(tasa_llegada)  # Tiempo de la próxima llegada\n",
        "    tiempo_salida = infinito  # Inicialmente no hay salidas\n",
        "    max_personas_sistema = 0\n",
        "    tiempos_permanencia = []\n",
        "    tiempos_entrada = []  # Registro del tiempo de llegada de cada usuario\n",
        "\n",
        "    while t < tiempo_simulacion:\n",
        "        if tiempo_llegada < tiempo_salida:  # Evento: llega una persona\n",
        "            t = tiempo_llegada\n",
        "            num_personas_sistema += 1\n",
        "            tiempos_entrada.append(t)\n",
        "            max_personas_sistema = max(max_personas_sistema, num_personas_sistema)\n",
        "            tiempo_llegada += expovariate(tasa_llegada)\n",
        "\n",
        "            # Si el servidor está libre, comienza a atender\n",
        "            if num_personas_sistema == 1:\n",
        "                tiempo_salida = t + expovariate(tasa_servicio)\n",
        "        else:  # Evento: sale una persona\n",
        "            t = tiempo_salida\n",
        "            num_personas_sistema -= 1\n",
        "            tiempo_salida = t + expovariate(tasa_servicio) if num_personas_sistema > 0 else infinito\n",
        "            tiempos_permanencia.append(t - tiempos_entrada.pop(0))  # Tiempo de permanencia del usuario atendido\n",
        "\n",
        "    # Resultados\n",
        "    promedio_tiempo_permanencia = sum(tiempos_permanencia) / len(tiempos_permanencia) if tiempos_permanencia else 0\n",
        "    return max_personas_sistema, num_personas_sistema, promedio_tiempo_permanencia\n",
        "\n",
        "# Parámetros del problema\n",
        "tasa_llegada = 2  # usuarios/minuto\n",
        "tasa_servicio = 1.8  # usuarios/minuto\n",
        "tiempo_simulacion = 60  # minutos\n",
        "\n",
        "# Simulación\n",
        "max_personas, personas_en_t, promedio_tiempo = simulacion_linea_espera(tasa_llegada, tasa_servicio, tiempo_simulacion)\n",
        "\n",
        "# Resultados\n",
        "print(f\"Valor esperado del máximo número de personas en el sistema: {max_personas}\")\n",
        "print(f\"Valor esperado del número de personas en el sistema en T=60 minutos: {personas_en_t}\")\n",
        "print(f\"Valor esperado del promedio del tiempo de permanencia en el sistema: {promedio_tiempo:.2f} minutos\")\n"
      ],
      "metadata": {
        "colab": {
          "base_uri": "https://localhost:8080/"
        },
        "id": "JPc5p3jd3LZU",
        "outputId": "53f57175-b6c2-4ac8-b3a3-8924ee4b68b2"
      },
      "execution_count": 19,
      "outputs": [
        {
          "output_type": "stream",
          "name": "stdout",
          "text": [
            "Valor esperado del máximo número de personas en el sistema: 25\n",
            "Valor esperado del número de personas en el sistema en T=60 minutos: 15\n",
            "Valor esperado del promedio del tiempo de permanencia en el sistema: 3.08 minutos\n"
          ]
        }
      ]
    },
    {
      "cell_type": "code",
      "source": [
        "from random import expovariate\n",
        "from statistics import mean\n",
        "\n",
        "def simulacion_linea_espera(tasa_llegada, tasa_servicio, tiempo_simulacion):\n",
        "    infinito = 2 * tiempo_simulacion  # Valor suficientemente grande\n",
        "    t = 0  # Tiempo actual\n",
        "    num_personas_sistema = 0\n",
        "    tiempo_llegada = expovariate(tasa_llegada)  # Tiempo de la próxima llegada\n",
        "    tiempo_salida = infinito  # Inicialmente no hay salidas\n",
        "    max_personas_sistema = 0\n",
        "    tiempos_permanencia = []\n",
        "    tiempos_entrada = []  # Registro del tiempo de llegada de cada usuario\n",
        "\n",
        "    while t < tiempo_simulacion:\n",
        "        if tiempo_llegada < tiempo_salida:  # Evento: llega una persona\n",
        "            t = tiempo_llegada\n",
        "            num_personas_sistema += 1\n",
        "            tiempos_entrada.append(t)\n",
        "            max_personas_sistema = max(max_personas_sistema, num_personas_sistema)\n",
        "            tiempo_llegada += expovariate(tasa_llegada)\n",
        "\n",
        "            # Si el servidor está libre, comienza a atender\n",
        "            if num_personas_sistema == 1:\n",
        "                tiempo_salida = t + expovariate(tasa_servicio)\n",
        "        else:  # Evento: sale una persona\n",
        "            t = tiempo_salida\n",
        "            num_personas_sistema -= 1\n",
        "            tiempo_salida = t + expovariate(tasa_servicio) if num_personas_sistema > 0 else infinito\n",
        "            tiempos_permanencia.append(t - tiempos_entrada.pop(0))  # Tiempo de permanencia del usuario atendido\n",
        "\n",
        "    # Resultados\n",
        "    promedio_tiempo_permanencia = sum(tiempos_permanencia) / len(tiempos_permanencia) if tiempos_permanencia else 0\n",
        "    return max_personas_sistema, num_personas_sistema, promedio_tiempo_permanencia\n",
        "\n",
        "# Parámetros del problema\n",
        "tasa_llegada = 2  # usuarios/minuto\n",
        "tasa_servicio = 1.8  # usuarios/minuto\n",
        "tiempo_simulacion = 60  # minutos\n",
        "\n",
        "# Simulación\n",
        "maxper=[]\n",
        "perti=[]\n",
        "tiem=[]\n",
        "\n",
        "for i in range(100000):\n",
        "  max_personas, personas_en_t, promedio_tiempo = simulacion_linea_espera(tasa_llegada, tasa_servicio, tiempo_simulacion)\n",
        "  maxper. append(max_personas)\n",
        "  perti. append(personas_en_t)\n",
        "  tiem. append(promedio_tiempo)\n",
        "\n",
        "m_max=mean(maxper)\n",
        "per_t=mean(perti)\n",
        "ti_prom=mean(tiem)\n",
        "\n",
        "# Resultados\n",
        "print(f\"Valor esperado del máximo número de personas en el sistema: {m_max}\")\n",
        "print(f\"Valor esperado del número de personas en el sistema en T=60 minutos: {per_t}\")\n",
        "print(f\"Valor esperado del promedio del tiempo de permanencia en el sistema: {ti_prom:.2f} minutos\")\n"
      ],
      "metadata": {
        "colab": {
          "base_uri": "https://localhost:8080/"
        },
        "id": "cT_K2DML8fiY",
        "outputId": "d5e5a754-1b55-4a63-90c7-82ad0d00c480"
      },
      "execution_count": 20,
      "outputs": [
        {
          "output_type": "stream",
          "name": "stdout",
          "text": [
            "Valor esperado del máximo número de personas en el sistema: 23.92991\n",
            "Valor esperado del número de personas en el sistema en T=60 minutos: 18.80207\n",
            "Valor esperado del promedio del tiempo de permanencia en el sistema: 5.48 minutos\n"
          ]
        }
      ]
    },
    {
      "cell_type": "markdown",
      "source": [
        "2. Sea X una variable aleatoria con funcion de densidad de probabilidad dada por\n",
        "\n",
        "$$\n",
        "f(x) =\n",
        "\\begin{cases}\n",
        "2e^{-2x} & \\text{si } x > 0, \\\\\n",
        "0 & \\text{en otro caso.}\n",
        "\\end{cases}\n",
        "$$\n",
        "\n",
        "Supongase que se requiere estimar por simulacion el valor esperado de\n",
        "$$\n",
        "\\sqrt{x}\n",
        "$$\n",
        "y que se usa la tecnica de variables de control\n",
        "\n",
        "a) Estime por simulacion de Montecarlo el pocentaje de reduccion de varianza\n",
        "\n",
        "b) Calcule analiticamente el porcentaje de reduccion de varianza obtenido en el inciso a"
      ],
      "metadata": {
        "id": "RduISR_L5DOb"
      }
    },
    {
      "cell_type": "code",
      "source": [
        "from random import random\n",
        "from math import sqrt, log, pi\n",
        "\n",
        "def generar_exponencial(lambda_exp, n):\n",
        "    \"\"\"Genera n valores de una distribución exponencial con parámetro lambda_exp.\"\"\"\n",
        "    return [-log(1 - random()) / lambda_exp for _ in range(n)]\n",
        "\n",
        "def simulacion_variable_control(n, lambda_exp):\n",
        "    # Generar datos simulados\n",
        "    x_vals = generar_exponencial(lambda_exp, n)\n",
        "    raiz_x = [sqrt(x) for x in x_vals]\n",
        "\n",
        "    # Variable de control: X\n",
        "    media_x = 1 / lambda_exp  # E[X]\n",
        "    control = x_vals\n",
        "\n",
        "    # Estimación simple\n",
        "    media_raiz_x = sum(raiz_x) / n\n",
        "\n",
        "    # Estimación usando variables de control\n",
        "    beta_opt = sum((raiz_x[i] - media_raiz_x) * (control[i] - media_x) for i in range(n)) / \\\n",
        "               sum((control[i] - media_x) ** 2 for i in range(n))\n",
        "\n",
        "    estimacion_corregida = media_raiz_x - beta_opt * (sum(control) / n - media_x)\n",
        "\n",
        "    # Calcular varianzas\n",
        "    var_raiz_x = sum((raiz_x[i] - media_raiz_x) ** 2 for i in range(n)) / (n - 1)\n",
        "    var_control = sum((raiz_x[i] - estimacion_corregida) ** 2 for i in range(n)) / (n - 1)\n",
        "\n",
        "    # Porcentaje de reducción de varianza\n",
        "    reduccion_varianza = 100 * (1 - var_control / var_raiz_x)\n",
        "\n",
        "    return estimacion_corregida, reduccion_varianza\n",
        "\n",
        "def calculo_analitico(lambda_exp):\n",
        "    # E[sqrt(X)] = integral de sqrt(x) * f(x)\n",
        "    esperanza_raiz_x = sqrt(2) * sqrt(pi) / 4\n",
        "\n",
        "    # Varianza de X\n",
        "    esperanza_x2 = 2 / lambda_exp**2\n",
        "    esperanza_x = 1 / lambda_exp\n",
        "    var_x = esperanza_x2 - esperanza_x**2\n",
        "\n",
        "    # Varianza de sqrt(X)\n",
        "    esperanza_sqrt_x2 = 1 / (2 * lambda_exp)\n",
        "    var_sqrt_x = esperanza_sqrt_x2 - esperanza_raiz_x**2\n",
        "\n",
        "    # Covarianza y correlación\n",
        "    esperanza_x_sqrt_x = 3 / (2 * lambda_exp**2)\n",
        "    cov_sqrt_x_x = esperanza_x_sqrt_x - esperanza_raiz_x * esperanza_x\n",
        "    rho = cov_sqrt_x_x / (sqrt(var_x * var_sqrt_x))\n",
        "\n",
        "    # Reducción de varianza\n",
        "    reduccion_varianza = rho**2 * 100\n",
        "\n",
        "    return float(esperanza_raiz_x), float(var_x), float(var_sqrt_x), float(rho), float(reduccion_varianza)\n",
        "\n",
        "# Parámetros\n",
        "lambda_exp = 2  # Parámetro de la distribución exponencial\n",
        "n_simulaciones = 10000  # Número de simulaciones\n",
        "\n",
        "# Simulación\n",
        "estimacion, reduccion_var_simulada = simulacion_variable_control(n_simulaciones, lambda_exp)\n",
        "\n",
        "# Cálculo analítico\n",
        "esperanza_raiz_x, var_x, var_sqrt_x, rho, reduccion_var_analitica = calculo_analitico(lambda_exp)\n",
        "\n",
        "# Resultados\n",
        "print(\"Resultados de la simulación:\")\n",
        "print(f\"Estimación corregida de E[sqrt(X)]: {estimacion:.4f}\")\n",
        "print(f\"Porcentaje de reducción de varianza (simulado): {reduccion_var_simulada:.2f}%\\n\")\n",
        "\n",
        "print(\"Resultados analíticos:\")\n",
        "print(f\"Valor esperado de sqrt(X): {esperanza_raiz_x:.4f}\")\n",
        "print(f\"Varianza de X: {var_x:.4f}\")\n",
        "print(f\"Varianza de sqrt(X): {var_sqrt_x:.4f}\")\n",
        "print(f\"Coeficiente de correlación (rho): {rho:.4f}\")\n",
        "print(f\"Porcentaje de reducción de varianza (analítico): {reduccion_var_analitica:.2f}%\")\n"
      ],
      "metadata": {
        "colab": {
          "base_uri": "https://localhost:8080/",
          "height": 392
        },
        "id": "Usw7E_TG1nwm",
        "outputId": "b50a3eb0-4468-43c8-a65c-f5eb7864c0f2"
      },
      "execution_count": 35,
      "outputs": [
        {
          "output_type": "error",
          "ename": "ValueError",
          "evalue": "math domain error",
          "traceback": [
            "\u001b[0;31m---------------------------------------------------------------------------\u001b[0m",
            "\u001b[0;31mValueError\u001b[0m                                Traceback (most recent call last)",
            "\u001b[0;32m<ipython-input-35-cc6b38aec83a>\u001b[0m in \u001b[0;36m<cell line: 66>\u001b[0;34m()\u001b[0m\n\u001b[1;32m     64\u001b[0m \u001b[0;34m\u001b[0m\u001b[0m\n\u001b[1;32m     65\u001b[0m \u001b[0;31m# Cálculo analítico\u001b[0m\u001b[0;34m\u001b[0m\u001b[0;34m\u001b[0m\u001b[0m\n\u001b[0;32m---> 66\u001b[0;31m \u001b[0mesperanza_raiz_x\u001b[0m\u001b[0;34m,\u001b[0m \u001b[0mvar_x\u001b[0m\u001b[0;34m,\u001b[0m \u001b[0mvar_sqrt_x\u001b[0m\u001b[0;34m,\u001b[0m \u001b[0mrho\u001b[0m\u001b[0;34m,\u001b[0m \u001b[0mreduccion_var_analitica\u001b[0m \u001b[0;34m=\u001b[0m \u001b[0mcalculo_analitico\u001b[0m\u001b[0;34m(\u001b[0m\u001b[0mlambda_exp\u001b[0m\u001b[0;34m)\u001b[0m\u001b[0;34m\u001b[0m\u001b[0;34m\u001b[0m\u001b[0m\n\u001b[0m\u001b[1;32m     67\u001b[0m \u001b[0;34m\u001b[0m\u001b[0m\n\u001b[1;32m     68\u001b[0m \u001b[0;31m# Resultados\u001b[0m\u001b[0;34m\u001b[0m\u001b[0;34m\u001b[0m\u001b[0m\n",
            "\u001b[0;32m<ipython-input-35-cc6b38aec83a>\u001b[0m in \u001b[0;36mcalculo_analitico\u001b[0;34m(lambda_exp)\u001b[0m\n\u001b[1;32m     49\u001b[0m     \u001b[0mesperanza_x_sqrt_x\u001b[0m \u001b[0;34m=\u001b[0m \u001b[0;36m3\u001b[0m \u001b[0;34m/\u001b[0m \u001b[0;34m(\u001b[0m\u001b[0;36m2\u001b[0m \u001b[0;34m*\u001b[0m \u001b[0mlambda_exp\u001b[0m\u001b[0;34m**\u001b[0m\u001b[0;36m2\u001b[0m\u001b[0;34m)\u001b[0m\u001b[0;34m\u001b[0m\u001b[0;34m\u001b[0m\u001b[0m\n\u001b[1;32m     50\u001b[0m     \u001b[0mcov_sqrt_x_x\u001b[0m \u001b[0;34m=\u001b[0m \u001b[0mesperanza_x_sqrt_x\u001b[0m \u001b[0;34m-\u001b[0m \u001b[0mesperanza_raiz_x\u001b[0m \u001b[0;34m*\u001b[0m \u001b[0mesperanza_x\u001b[0m\u001b[0;34m\u001b[0m\u001b[0;34m\u001b[0m\u001b[0m\n\u001b[0;32m---> 51\u001b[0;31m     \u001b[0mrho\u001b[0m \u001b[0;34m=\u001b[0m \u001b[0mcov_sqrt_x_x\u001b[0m \u001b[0;34m/\u001b[0m \u001b[0;34m(\u001b[0m\u001b[0msqrt\u001b[0m\u001b[0;34m(\u001b[0m\u001b[0mvar_x\u001b[0m \u001b[0;34m*\u001b[0m \u001b[0mvar_sqrt_x\u001b[0m\u001b[0;34m)\u001b[0m\u001b[0;34m)\u001b[0m\u001b[0;34m\u001b[0m\u001b[0;34m\u001b[0m\u001b[0m\n\u001b[0m\u001b[1;32m     52\u001b[0m \u001b[0;34m\u001b[0m\u001b[0m\n\u001b[1;32m     53\u001b[0m     \u001b[0;31m# Reducción de varianza\u001b[0m\u001b[0;34m\u001b[0m\u001b[0;34m\u001b[0m\u001b[0m\n",
            "\u001b[0;31mValueError\u001b[0m: math domain error"
          ]
        }
      ]
    }
  ]
}