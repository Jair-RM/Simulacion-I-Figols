{
  "nbformat": 4,
  "nbformat_minor": 0,
  "metadata": {
    "colab": {
      "provenance": [],
      "authorship_tag": "ABX9TyPB4Q7PhPq4XUD44PRq2Dtw",
      "include_colab_link": true
    },
    "kernelspec": {
      "name": "python3",
      "display_name": "Python 3"
    },
    "language_info": {
      "name": "python"
    }
  },
  "cells": [
    {
      "cell_type": "markdown",
      "metadata": {
        "id": "view-in-github",
        "colab_type": "text"
      },
      "source": [
        "<a href=\"https://colab.research.google.com/github/Jair-RM/Simulacion-I-Figols/blob/main/Ejercicio_05_Nov_(media_y_varianza_).ipynb\" target=\"_parent\"><img src=\"https://colab.research.google.com/assets/colab-badge.svg\" alt=\"Open In Colab\"/></a>"
      ]
    },
    {
      "cell_type": "code",
      "execution_count": null,
      "metadata": {
        "colab": {
          "base_uri": "https://localhost:8080/",
          "height": 326
        },
        "id": "R8bpahMWymxP",
        "outputId": "428abcc0-3179-4894-a419-f9fc37e920ee"
      },
      "outputs": [
        {
          "output_type": "stream",
          "name": "stdout",
          "text": [
            "intervalo de confianza [ 0.20145172719855506 , 0.2692826285799478 ]\n",
            "\n"
          ]
        },
        {
          "output_type": "display_data",
          "data": {
            "text/plain": [
              "<Figure size 400x300 with 1 Axes>"
            ],
            "image/png": "[encoded data removed]"
          },
          "metadata": {}
        }
      ],
      "source": [
        "from random import expovariate, choices\n",
        "import matplotlib.pyplot as plt\n",
        "import numpy as np\n",
        "\n",
        "def s2(l):    # lista de datos l\n",
        "  n=len(l)\n",
        "  suma=0\n",
        "  for i in range(n):\n",
        "    suma=suma+l[i]\n",
        "  mu=suma/n\n",
        "  suma=0\n",
        "  for i in range(n):\n",
        "    suma=suma+(l[i]-  mu)**2\n",
        "  return suma/(n -1)\n",
        "\n",
        "dat=[]\n",
        "n=1000\n",
        "for i in range(n):                 # muestra\n",
        "  dat.append(expovariate(2))\n",
        "\n",
        "m=500\n",
        "ls=[]\n",
        "for i in range(m):        # muestra de una lista con reemplazo\n",
        "  l1=choices(dat, k=n)\n",
        "  s=s2(l1)\n",
        "  ls.append(s)\n",
        "\n",
        "print(\"intervalo de confianza [\", np.quantile(ls, 0.05), \",\", np.quantile(ls, 0.95), \"]\")\n",
        "print(\"\")\n",
        "plt. figure(figsize=(4,3))\n",
        "plt. hist(ls, density=1, color=\"grey\", edgecolor=\"black\")\n",
        "plt. show()"
      ]
    },
    {
      "cell_type": "code",
      "source": [
        "# Distribucion de la mediana\n",
        "\n",
        "from random import expovariate, choices\n",
        "import matplotlib.pyplot as plt\n",
        "from statistics import median\n",
        "import numpy as np\n",
        "\n",
        "def s2(l):\n",
        "  n=len(l)\n",
        "  suma=0\n",
        "  for i in range(n):\n",
        "    suma=suma+l[i]\n",
        "  mu=suma/n\n",
        "  suma=0\n",
        "  for i in range(n):\n",
        "    suma=suma+(l[i]- mu)**2\n",
        "  return suma/(n-1)\n",
        "\n",
        "dat=[]\n",
        "n=1000\n",
        "for i in range(n):                 # muestra\n",
        "  dat.append(expovariate(2))\n",
        "\n",
        "m=500\n",
        "ls=[]\n",
        "for i in range(m):        # muestra de una lista con reemplazo\n",
        "  l1=choices(dat, k=n)\n",
        "  ss2=median(l1)\n",
        "  ls.append(ss2)\n",
        "\n",
        "print(\"intervalo de confianza [\", np.quantile(ls, 0.05), \",\", np.quantile(ls, 0.95), \"]\")\n",
        "print(\"\")\n",
        "#plt.figure(figsize=(3,2.5))\n",
        "plt.hist(ls, density=1, color=\"grey\", edgecolor=\"black\")\n",
        "plt.show()"
      ],
      "metadata": {
        "colab": {
          "base_uri": "https://localhost:8080/",
          "height": 465
        },
        "id": "WvBamz6a_EcY",
        "outputId": "1f96f06a-d79c-4e13-dbbe-791803d6a0f3"
      },
      "execution_count": 9,
      "outputs": [
        {
          "output_type": "stream",
          "name": "stdout",
          "text": [
            "intervalo de confianza [ 0.3258046965191561 , 0.3742538084876017 ]\n",
            "\n"
          ]
        },
        {
          "output_type": "display_data",
          "data": {
            "text/plain": [
              "<Figure size 640x480 with 1 Axes>"
            ],
            "image/png": "[encoded data removed]"
          },
          "metadata": {}
        }
      ]
    }
  ]
}