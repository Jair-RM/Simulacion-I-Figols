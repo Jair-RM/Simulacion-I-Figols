{
  "nbformat": 4,
  "nbformat_minor": 0,
  "metadata": {
    "colab": {
      "provenance": [],
      "authorship_tag": "ABX9TyNd3NlHCpEvwvbezunaWV6r",
      "include_colab_link": true
    },
    "kernelspec": {
      "name": "python3",
      "display_name": "Python 3"
    },
    "language_info": {
      "name": "python"
    }
  },
  "cells": [
    {
      "cell_type": "markdown",
      "metadata": {
        "id": "view-in-github",
        "colab_type": "text"
      },
      "source": [
        "<a href=\"https://colab.research.google.com/github/Jair-RM/Simulacion-I-Figols/blob/main/Ejercicio_05_Nov_(media_y_varianza_).ipynb\" target=\"_parent\"><img src=\"https://colab.research.google.com/assets/colab-badge.svg\" alt=\"Open In Colab\"/></a>"
      ]
    },
    {
      "cell_type": "code",
      "execution_count": 9,
      "metadata": {
        "colab": {
          "base_uri": "https://localhost:8080/",
          "height": 326
        },
        "id": "R8bpahMWymxP",
        "outputId": "91053d8b-6f19-404c-c136-1b87516ae334"
      },
      "outputs": [
        {
          "output_type": "stream",
          "name": "stdout",
          "text": [
            "intervalo de confianza [ 0.18932747129331343 , 0.2996194899992008 ]\n",
            "\n"
          ]
        },
        {
          "output_type": "display_data",
          "data": {
            "text/plain": [
              "<Figure size 400x300 with 1 Axes>"
            ],
            "image/png": "[encoded data removed]"
          },
          "metadata": {}
        }
      ],
      "source": [
        "from random import expovariate, choices\n",
        "import matplotlib.pyplot as plt\n",
        "\n",
        "def s2(l):    # lista de datos l\n",
        "  n=len(l)\n",
        "  suma=0\n",
        "  for i in range(n):\n",
        "    suma=suma+l[i]\n",
        "  mu=suma/n\n",
        "  suma=0\n",
        "  for i in range(n):\n",
        "    suma=suma+(l[i]-  mu)**2\n",
        "  return suma/(n -1)\n",
        "\n",
        "dat=[]\n",
        "n=1000\n",
        "for i in range(n):                 # muestra\n",
        "  dat.append(expovariate(2))\n",
        "\n",
        "n=500\n",
        "ls=[]\n",
        "for i in range(n):        # muestra de una lista con reemplazo\n",
        "  l1=choices(dat, k=n)\n",
        "  s=s2(l1)\n",
        "  ls.append(s)\n",
        "\n",
        "print(\"intervalo de confianza [\", np.quantile(ls, 0.05), \",\", np.quantile(ls, 0.95), \"]\")\n",
        "print(\"\")\n",
        "plt. figure(figsize=(4,3))\n",
        "plt. hist(ls, density=1, color=\"grey\", edgecolor=\"black\")\n",
        "plt. show()"
      ]
    },
    {
      "cell_type": "code",
      "source": [
        "from random import expovariate, choices\n",
        "import matplotlib.pyplot as plt\n",
        "import numpy as np\n",
        "\n",
        "def s2(l):    # lista de datos l\n",
        "  n=len(l)\n",
        "  suma=0\n",
        "  for i in range(n):\n",
        "    suma=suma+l[i]\n",
        "  mu=suma/n\n",
        "  suma=0\n",
        "  for i in range(n):\n",
        "    suma=suma+(l[i]-  mu)**2\n",
        "  return suma/(n -1)\n",
        "\n",
        "dat=[]\n",
        "n=1000\n",
        "for i in range(n):                 # muestra\n",
        "  dat.append(expovariate(2))\n",
        "\n",
        "n=500\n",
        "ls=[]\n",
        "for i in range(n):        # muestra de una lista con reemplazo\n",
        "  l1=choices(dat, k=n)\n",
        "  s=s2(l1)\n",
        "  ls.append(s)\n",
        "\n",
        "print(\"intervalo de confianza [\", np.quantile(ls, 0.05), \",\", np.quantile(ls, 0.95), \"]\")\n",
        "print(\"\")\n",
        "plt. figure(figsize=(4,3))\n",
        "plt. hist(ls, density=1, color=\"grey\", edgecolor=\"black\")\n",
        "plt. show()"
      ],
      "metadata": {
        "colab": {
          "base_uri": "https://localhost:8080/",
          "height": 326
        },
        "id": "WvBamz6a_EcY",
        "outputId": "be9c9c73-1221-4c62-97f8-b05cd569881d"
      },
      "execution_count": 8,
      "outputs": [
        {
          "output_type": "stream",
          "name": "stdout",
          "text": [
            "intervalo de confianza [ 0.2103091447009274 , 0.3029351520350118 ]\n",
            "\n"
          ]
        },
        {
          "output_type": "display_data",
          "data": {
            "text/plain": [
              "<Figure size 400x300 with 1 Axes>"
            ],
            "image/png": "[encoded data removed]"
          },
          "metadata": {}
        }
      ]
    }
  ]
}