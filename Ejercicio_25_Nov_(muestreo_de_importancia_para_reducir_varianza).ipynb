{
  "nbformat": 4,
  "nbformat_minor": 0,
  "metadata": {
    "colab": {
      "provenance": [],
      "authorship_tag": "ABX9TyMvOD/mU6g5I3arhOJb38Md",
      "include_colab_link": true
    },
    "kernelspec": {
      "name": "python3",
      "display_name": "Python 3"
    },
    "language_info": {
      "name": "python"
    }
  },
  "cells": [
    {
      "cell_type": "markdown",
      "metadata": {
        "id": "view-in-github",
        "colab_type": "text"
      },
      "source": [
        "<a href=\"https://colab.research.google.com/github/Jair-RM/Simulacion-I-Figols/blob/main/Ejercicio_25_Nov_(muestreo_de_importancia_para_reducir_varianza).ipynb\" target=\"_parent\"><img src=\"https://colab.research.google.com/assets/colab-badge.svg\" alt=\"Open In Colab\"/></a>"
      ]
    },
    {
      "cell_type": "markdown",
      "source": [
        "Use la tecnica de muestreo de importancia para redcucir la varianza en la estimacion de la integral\n",
        "\n",
        "$\\int_0^1 \\frac{dx}{1+x}$\n",
        "\n",
        "¿En que porcentaje se redujo la varianza?"
      ],
      "metadata": {
        "id": "QqcGCKyy1HKj"
      }
    },
    {
      "cell_type": "code",
      "execution_count": 22,
      "metadata": {
        "colab": {
          "base_uri": "https://localhost:8080/"
        },
        "id": "-vOWMfZR1F9s",
        "outputId": "6918a173-7f1c-49fa-99d0-145a320df473"
      },
      "outputs": [
        {
          "output_type": "stream",
          "name": "stdout",
          "text": [
            "0.6931588633808433 0.019547730152683632 0.6931471805599453\n",
            "0.6931477517385219 0.00015236309150716052 0.6931471805599453\n",
            "99.22055865147982\n",
            "0.0016854747773180497 8.240365000068403e-05\n"
          ]
        }
      ],
      "source": [
        "from random import random\n",
        "from math import exp, log\n",
        "from statistics import mean, variance\n",
        "\n",
        "def f(z):\n",
        "  if z>0 and z<1:\n",
        "    return 1\n",
        "  else:\n",
        "    return 0\n",
        "\n",
        "def g(z):\n",
        "  if z>0 and z<1:\n",
        "    return 1/(z+1)\n",
        "  else:\n",
        "    return 0\n",
        "\n",
        "def h(z,a):\n",
        "  if z>0 and z<1:\n",
        "    return a*exp(-a*z)/(1-exp(-a))\n",
        "  else:\n",
        "    return 0\n",
        "\n",
        "l=[]\n",
        "l1=[]\n",
        "nr=10000000\n",
        "a=0.695\n",
        "for i in range(nr):\n",
        "  u=random()\n",
        "  l.append(g(u))\n",
        "  z=(-1/a)*log(1-u*(1-exp(-a)))\n",
        "  #print(z, g(z), f(z), h(z,a), g(z)*f(z)/h(z,a))\n",
        "  l1.append(g(z)*f(z)/h(z,a))\n",
        "\n",
        "m=mean(l)\n",
        "v=variance(l)\n",
        "print(m,v,log(2))\n",
        "m1=mean(l1)\n",
        "v1=variance(l1)\n",
        "ve=log(2)\n",
        "print(m1,v1,log(2))\n",
        "print(100*(v-v1)/v)\n",
        "print(100*abs(m-ve)/ve, 100*abs(m1-ve)/ve)"
      ]
    },
    {
      "cell_type": "code",
      "source": [],
      "metadata": {
        "id": "3DGQnBP-_Wt7"
      },
      "execution_count": null,
      "outputs": []
    }
  ]
}