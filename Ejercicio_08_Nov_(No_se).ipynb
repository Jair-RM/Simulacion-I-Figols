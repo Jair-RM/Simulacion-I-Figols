{
  "nbformat": 4,
  "nbformat_minor": 0,
  "metadata": {
    "colab": {
      "provenance": [],
      "authorship_tag": "ABX9TyOGGsZKvSRZZhsxAiXN+Q6z",
      "include_colab_link": true
    },
    "kernelspec": {
      "name": "python3",
      "display_name": "Python 3"
    },
    "language_info": {
      "name": "python"
    }
  },
  "cells": [
    {
      "cell_type": "markdown",
      "metadata": {
        "id": "view-in-github",
        "colab_type": "text"
      },
      "source": [
        "<a href=\"https://colab.research.google.com/github/Jair-RM/Simulacion-I-Figols/blob/main/Ejercicio_08_Nov_(No_se).ipynb\" target=\"_parent\"><img src=\"https://colab.research.google.com/assets/colab-badge.svg\" alt=\"Open In Colab\"/></a>"
      ]
    },
    {
      "cell_type": "code",
      "execution_count": 9,
      "metadata": {
        "colab": {
          "base_uri": "https://localhost:8080/",
          "height": 482
        },
        "id": "OucV7-wFP79c",
        "outputId": "eb0db21c-97e1-452b-bcc0-e4e1f3d4da17"
      },
      "outputs": [
        {
          "output_type": "display_data",
          "data": {
            "text/plain": [
              "<Figure size 640x480 with 1 Axes>"
            ],
            "image/png": "[encoded data removed]"
          },
          "metadata": {}
        },
        {
          "output_type": "stream",
          "name": "stdout",
          "text": [
            "bootstrap 0.9479418854297712 1.0889374251058557 1.036736522348546\n",
            "TCL 0.9479418854297712 1.0522187548794995 0.9992022504576024\n",
            "0.18669162591298422\n"
          ]
        }
      ],
      "source": [
        "from random import choices, random, gauss\n",
        "from statistics import mean, median\n",
        "from math import log, sqrt\n",
        "import matplotlib.pyplot as plt\n",
        "from numba import jit\n",
        "from time import time\n",
        "import numpy as np\n",
        "\n",
        "# < > ∈ o ∉ | λ\n",
        "#@jit(nopython=True)\n",
        "\n",
        "@jit(nopython=True)\n",
        "def gen(n):\n",
        "  l=[]\n",
        "  for i in range(n):\n",
        "    l.append(- log(random()))\n",
        "  return l\n",
        "t1=time()\n",
        "n=1000\n",
        "m=10000\n",
        "l=gen(n)\n",
        "lm=[]\n",
        "for i in range(m):\n",
        "  l1=choices(l, k=n)\n",
        "  lm.append(mean(l1))\n",
        "lm1=[]\n",
        "o=1/sqrt(n)\n",
        "for i in range(m):\n",
        "  lm1.append(gauss(1,o))\n",
        "mi=min(min(lm), min(lm1))\n",
        "ma=max(max(lm), max(lm1))\n",
        "b=[]\n",
        "x=mi\n",
        "while x<ma:\n",
        "  b.append(x)\n",
        "  x=x+ (ma - mi)/20\n",
        "#plt. figure(figsize=(4,3))\n",
        "plt. hist(lm, density=1, bins=b, color=\"blue\",edgecolor=\"black\", alpha=0.5, label=\"Bootstrap\")\n",
        "plt. hist(lm1, density=1, bins=b, color=\"red\",edgecolor=\"black\", alpha=0.5, label=\"TCL\")\n",
        "plt. legend()\n",
        "plt. show()\n",
        "print(\"bootstrap\", np.quantile(lm1, 0.05), np.quantile(lm, 0.95), median(lm))\n",
        "print(\"TCL\", np.quantile(lm1, 0.05), np.quantile(lm1, 0.95), median(lm1))\n",
        "t2=time()\n",
        "print((t2-t1)/60)"
      ]
    }
  ]
}