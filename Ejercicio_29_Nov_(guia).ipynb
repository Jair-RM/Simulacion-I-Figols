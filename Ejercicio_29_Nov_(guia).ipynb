{
  "nbformat": 4,
  "nbformat_minor": 0,
  "metadata": {
    "colab": {
      "provenance": [],
      "authorship_tag": "ABX9TyOkgY8V24AlfRLqjn5bULIM",
      "include_colab_link": true
    },
    "kernelspec": {
      "name": "python3",
      "display_name": "Python 3"
    },
    "language_info": {
      "name": "python"
    }
  },
  "cells": [
    {
      "cell_type": "markdown",
      "metadata": {
        "id": "view-in-github",
        "colab_type": "text"
      },
      "source": [
        "<a href=\"https://colab.research.google.com/github/Jair-RM/Simulacion-I-Figols/blob/main/Ejercicio_29_Nov_(guia).ipynb\" target=\"_parent\"><img src=\"https://colab.research.google.com/assets/colab-badge.svg\" alt=\"Open In Colab\"/></a>"
      ]
    },
    {
      "cell_type": "code",
      "execution_count": 1,
      "metadata": {
        "colab": {
          "base_uri": "https://localhost:8080/",
          "height": 349
        },
        "id": "aFfAq3qmbYox",
        "outputId": "19d0a81c-cdaa-424c-8a01-a4403b301e8b"
      },
      "outputs": [
        {
          "output_type": "stream",
          "name": "stdout",
          "text": [
            "122.10931269661326 122.32602479358236 122.54273689055147\n"
          ]
        },
        {
          "output_type": "error",
          "ename": "AttributeError",
          "evalue": "module 'numpy' has no attribute 'quiantile'",
          "traceback": [
            "\u001b[0;31m---------------------------------------------------------------------------\u001b[0m",
            "\u001b[0;31mAttributeError\u001b[0m                            Traceback (most recent call last)",
            "\u001b[0;32m<ipython-input-1-9632e7616467>\u001b[0m in \u001b[0;36m<cell line: 74>\u001b[0;34m()\u001b[0m\n\u001b[1;32m     72\u001b[0m \u001b[0mxd\u001b[0m\u001b[0;34m=\u001b[0m\u001b[0mm\u001b[0m \u001b[0;34m+\u001b[0m\u001b[0;36m1.96\u001b[0m\u001b[0;34m*\u001b[0m\u001b[0msqrt\u001b[0m\u001b[0;34m(\u001b[0m\u001b[0mvar\u001b[0m\u001b[0;34m/\u001b[0m\u001b[0mnr\u001b[0m\u001b[0;34m)\u001b[0m\u001b[0;34m\u001b[0m\u001b[0;34m\u001b[0m\u001b[0m\n\u001b[1;32m     73\u001b[0m \u001b[0mprint\u001b[0m\u001b[0;34m(\u001b[0m\u001b[0mxi\u001b[0m\u001b[0;34m,\u001b[0m \u001b[0mm\u001b[0m\u001b[0;34m,\u001b[0m \u001b[0mxd\u001b[0m\u001b[0;34m)\u001b[0m\u001b[0;34m\u001b[0m\u001b[0;34m\u001b[0m\u001b[0m\n\u001b[0;32m---> 74\u001b[0;31m \u001b[0mprint\u001b[0m\u001b[0;34m(\u001b[0m\u001b[0mnp\u001b[0m\u001b[0;34m.\u001b[0m\u001b[0mquiantile\u001b[0m\u001b[0;34m(\u001b[0m\u001b[0ml\u001b[0m\u001b[0;34m,\u001b[0m \u001b[0;36m0.025\u001b[0m\u001b[0;34m)\u001b[0m\u001b[0;34m,\u001b[0m \u001b[0mnp\u001b[0m\u001b[0;34m.\u001b[0m\u001b[0mquiantile\u001b[0m\u001b[0;34m(\u001b[0m\u001b[0ml\u001b[0m\u001b[0;34m,\u001b[0m \u001b[0;36m0.975\u001b[0m\u001b[0;34m)\u001b[0m\u001b[0;34m)\u001b[0m\u001b[0;34m\u001b[0m\u001b[0;34m\u001b[0m\u001b[0m\n\u001b[0m\u001b[1;32m     75\u001b[0m \u001b[0mplt\u001b[0m\u001b[0;34m.\u001b[0m\u001b[0mhist\u001b[0m\u001b[0;34m(\u001b[0m\u001b[0ml\u001b[0m\u001b[0;34m,\u001b[0m \u001b[0mdensity\u001b[0m\u001b[0;34m=\u001b[0m\u001b[0;36m1\u001b[0m\u001b[0;34m,\u001b[0m \u001b[0mcolor\u001b[0m\u001b[0;34m=\u001b[0m\u001b[0;34m\"white\"\u001b[0m\u001b[0;34m,\u001b[0m \u001b[0medgecolor\u001b[0m\u001b[0;34m=\u001b[0m\u001b[0;34m\"black\"\u001b[0m\u001b[0;34m)\u001b[0m\u001b[0;34m\u001b[0m\u001b[0;34m\u001b[0m\u001b[0m\n\u001b[1;32m     76\u001b[0m \u001b[0mplt\u001b[0m\u001b[0;34m.\u001b[0m\u001b[0mshow\u001b[0m\u001b[0;34m(\u001b[0m\u001b[0;34m)\u001b[0m\u001b[0;34m\u001b[0m\u001b[0;34m\u001b[0m\u001b[0m\n",
            "\u001b[0;32m/usr/local/lib/python3.10/dist-packages/numpy/__init__.py\u001b[0m in \u001b[0;36m__getattr__\u001b[0;34m(attr)\u001b[0m\n\u001b[1;32m    331\u001b[0m             \u001b[0;32mraise\u001b[0m \u001b[0mRuntimeError\u001b[0m\u001b[0;34m(\u001b[0m\u001b[0;34m\"Tester was removed in NumPy 1.25.\"\u001b[0m\u001b[0;34m)\u001b[0m\u001b[0;34m\u001b[0m\u001b[0;34m\u001b[0m\u001b[0m\n\u001b[1;32m    332\u001b[0m \u001b[0;34m\u001b[0m\u001b[0m\n\u001b[0;32m--> 333\u001b[0;31m         raise AttributeError(\"module {!r} has no attribute \"\n\u001b[0m\u001b[1;32m    334\u001b[0m                              \"{!r}\".format(__name__, attr))\n\u001b[1;32m    335\u001b[0m \u001b[0;34m\u001b[0m\u001b[0m\n",
            "\u001b[0;31mAttributeError\u001b[0m: module 'numpy' has no attribute 'quiantile'"
          ]
        }
      ],
      "source": [
        "from random import random\n",
        "from math import log, sqrt\n",
        "import matplotlib.pyplot as plt\n",
        "from statistics import mean, stdev\n",
        "from numba import jit\n",
        "import numpy as np\n",
        "\n",
        "@jit(nopython=True)\n",
        "def F(alfa):\n",
        "  return (-1/alfa)*log(random())\n",
        "\n",
        "@jit(nopython=True)\n",
        "def f():\n",
        "  infi=100000000\n",
        "  alfa=1/50\n",
        "  beta=1/6\n",
        "  n=6\n",
        "  s=3\n",
        "  infi=100000000\n",
        "  disp=s\n",
        "  td=[]\n",
        "  for i in range(n):\n",
        "    td.append(F(alfa))\n",
        "  tdp=min(td)\n",
        "  tsp=infi\n",
        "  l=0\n",
        "  indicador=0\n",
        "  cuenta=0\n",
        "  while indicador==0:\n",
        "    t=min(tdp, tsp)\n",
        "    if t==tdp:\n",
        "      cuenta=cuenta+1\n",
        "      if disp==0:\n",
        "        indicador=1\n",
        "        k=td.index(tdp)\n",
        "      else:\n",
        "        disp=disp -1\n",
        "        l=l+1\n",
        "        k=td.index(tdp)\n",
        "        td[k]=t+F(alfa)\n",
        "        if l==1:\n",
        "          tsp=t+F(beta)\n",
        "        tdp=min(td)\n",
        "      #print(\"Des \", \"%8.3F\"%t, \" Maq \", k, disp, l)\n",
        "    else:\n",
        "      l=l-1\n",
        "      disp=disp+1\n",
        "      if l > 0:\n",
        "        tsp=t+F(beta)\n",
        "      else:\n",
        "        tsp=infi\n",
        "  return t, cuenta\n",
        "\n",
        "@jit(nopython=True)\n",
        "def ff(nr):\n",
        "  suma=0\n",
        "  sumac=0\n",
        "  suma1=0\n",
        "  l=[]\n",
        "  for i in range(nr):\n",
        "    x, nn=f()\n",
        "    l.append(x)\n",
        "    suma=suma+x\n",
        "    sumac=sumac + x**2\n",
        "    suma1=suma1+nn\n",
        "  m=suma/nr\n",
        "  var=((sumac/nr)- m**2)*(nr/(nr - 1))\n",
        "  return m, var, l, suma1/nr\n",
        "nr=1000000\n",
        "m, var, l, nu=ff(nr)\n",
        "xi=m -1.96*sqrt(var/nr)\n",
        "xd=m +1.96*sqrt(var/nr)\n",
        "print(xi, m, xd)\n",
        "print(np.quiantile(l, 0.025), np.quiantile(l, 0.975))\n",
        "plt.hist(l, density=1, color=\"white\", edgecolor=\"black\")\n",
        "plt.show()\n",
        "print(nu)"
      ]
    }
  ]
}