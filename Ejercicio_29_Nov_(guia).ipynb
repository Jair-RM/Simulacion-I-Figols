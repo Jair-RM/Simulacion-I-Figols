{
  "nbformat": 4,
  "nbformat_minor": 0,
  "metadata": {
    "colab": {
      "provenance": [],
      "authorship_tag": "ABX9TyMMu7RQWUSIDFyVXrwpyBE5",
      "include_colab_link": true
    },
    "kernelspec": {
      "name": "python3",
      "display_name": "Python 3"
    },
    "language_info": {
      "name": "python"
    }
  },
  "cells": [
    {
      "cell_type": "markdown",
      "metadata": {
        "id": "view-in-github",
        "colab_type": "text"
      },
      "source": [
        "<a href=\"https://colab.research.google.com/github/Jair-RM/Simulacion-I-Figols/blob/main/Ejercicio_29_Nov_(guia).ipynb\" target=\"_parent\"><img src=\"https://colab.research.google.com/assets/colab-badge.svg\" alt=\"Open In Colab\"/></a>"
      ]
    },
    {
      "cell_type": "code",
      "execution_count": 6,
      "metadata": {
        "colab": {
          "base_uri": "https://localhost:8080/",
          "height": 1000
        },
        "id": "aFfAq3qmbYox",
        "outputId": "0e49e22c-51b3-4df2-cb4f-945daf44cfe3"
      },
      "outputs": [
        {
          "output_type": "error",
          "ename": "TypingError",
          "evalue": "Failed in nopython mode pipeline (step: nopython frontend)\nFailed in nopython mode pipeline (step: nopython frontend)\nNo implementation of function Function(<built-in function mod>) found for signature:\n \n >>> mod(Literal[str](%8.3F), float64)\n \nThere are 6 candidate implementations:\n      - Of which 4 did not match due to:\n      Overload of function 'mod': File: <numerous>: Line N/A.\n        With argument(s): '(unicode_type, float64)':\n       No match.\n      - Of which 2 did not match due to:\n      Operator Overload in function 'mod': File: unknown: Line unknown.\n        With argument(s): '(unicode_type, float64)':\n       No match for registered cases:\n        * (int64, int64) -> int64\n        * (int64, uint64) -> int64\n        * (uint64, int64) -> int64\n        * (uint64, uint64) -> uint64\n        * (float32, float32) -> float32\n        * (float64, float64) -> float64\n\nDuring: typing of intrinsic-call at <ipython-input-6-4fedc8d08ce2> (41)\n\nFile \"<ipython-input-6-4fedc8d08ce2>\", line 41:\ndef f():\n    <source elided>\n        tdp=min(td)\n      print(\"Des \", \"%8.3F\"%t, \" Maq \", k, disp, l)\n      ^\n\nDuring: resolving callee type: type(CPUDispatcher(<function f at 0x7c3cd8bafc70>))\nDuring: typing of call at <ipython-input-6-4fedc8d08ce2> (56)\n\nDuring: resolving callee type: type(CPUDispatcher(<function f at 0x7c3cd8bafc70>))\nDuring: typing of call at <ipython-input-6-4fedc8d08ce2> (56)\n\n\nFile \"<ipython-input-6-4fedc8d08ce2>\", line 56:\ndef ff(nr):\n    <source elided>\n  for i in range(nr):\n    x=f()\n    ^\n",
          "traceback": [
            "\u001b[0;31m---------------------------------------------------------------------------\u001b[0m",
            "\u001b[0;31mTypingError\u001b[0m                               Traceback (most recent call last)",
            "\u001b[0;32m<ipython-input-6-4fedc8d08ce2>\u001b[0m in \u001b[0;36m<cell line: 63>\u001b[0;34m()\u001b[0m\n\u001b[1;32m     61\u001b[0m   \u001b[0;32mreturn\u001b[0m \u001b[0mm\u001b[0m\u001b[0;34m,\u001b[0m \u001b[0mvar\u001b[0m\u001b[0;34m\u001b[0m\u001b[0;34m\u001b[0m\u001b[0m\n\u001b[1;32m     62\u001b[0m \u001b[0mnr\u001b[0m\u001b[0;34m=\u001b[0m\u001b[0;36m1000000\u001b[0m\u001b[0;34m\u001b[0m\u001b[0;34m\u001b[0m\u001b[0m\n\u001b[0;32m---> 63\u001b[0;31m \u001b[0mm\u001b[0m\u001b[0;34m,\u001b[0m \u001b[0mvar\u001b[0m\u001b[0;34m=\u001b[0m\u001b[0mff\u001b[0m\u001b[0;34m(\u001b[0m\u001b[0mnr\u001b[0m\u001b[0;34m)\u001b[0m\u001b[0;34m\u001b[0m\u001b[0;34m\u001b[0m\u001b[0m\n\u001b[0m\u001b[1;32m     64\u001b[0m \u001b[0mxi\u001b[0m\u001b[0;34m=\u001b[0m\u001b[0mm\u001b[0m \u001b[0;34m-\u001b[0m\u001b[0;36m1.96\u001b[0m\u001b[0;34m*\u001b[0m\u001b[0msqrt\u001b[0m\u001b[0;34m(\u001b[0m\u001b[0mvar\u001b[0m\u001b[0;34m/\u001b[0m\u001b[0mnr\u001b[0m\u001b[0;34m)\u001b[0m\u001b[0;34m\u001b[0m\u001b[0;34m\u001b[0m\u001b[0m\n\u001b[1;32m     65\u001b[0m \u001b[0mxd\u001b[0m\u001b[0;34m=\u001b[0m\u001b[0mm\u001b[0m \u001b[0;34m+\u001b[0m\u001b[0;36m1.96\u001b[0m\u001b[0;34m*\u001b[0m\u001b[0msqrt\u001b[0m\u001b[0;34m(\u001b[0m\u001b[0mvar\u001b[0m\u001b[0;34m/\u001b[0m\u001b[0mnr\u001b[0m\u001b[0;34m)\u001b[0m\u001b[0;34m\u001b[0m\u001b[0;34m\u001b[0m\u001b[0m\n",
            "\u001b[0;32m/usr/local/lib/python3.10/dist-packages/numba/core/dispatcher.py\u001b[0m in \u001b[0;36m_compile_for_args\u001b[0;34m(self, *args, **kws)\u001b[0m\n\u001b[1;32m    421\u001b[0m                 \u001b[0me\u001b[0m\u001b[0;34m.\u001b[0m\u001b[0mpatch_message\u001b[0m\u001b[0;34m(\u001b[0m\u001b[0mmsg\u001b[0m\u001b[0;34m)\u001b[0m\u001b[0;34m\u001b[0m\u001b[0;34m\u001b[0m\u001b[0m\n\u001b[1;32m    422\u001b[0m \u001b[0;34m\u001b[0m\u001b[0m\n\u001b[0;32m--> 423\u001b[0;31m             \u001b[0merror_rewrite\u001b[0m\u001b[0;34m(\u001b[0m\u001b[0me\u001b[0m\u001b[0;34m,\u001b[0m \u001b[0;34m'typing'\u001b[0m\u001b[0;34m)\u001b[0m\u001b[0;34m\u001b[0m\u001b[0;34m\u001b[0m\u001b[0m\n\u001b[0m\u001b[1;32m    424\u001b[0m         \u001b[0;32mexcept\u001b[0m \u001b[0merrors\u001b[0m\u001b[0;34m.\u001b[0m\u001b[0mUnsupportedError\u001b[0m \u001b[0;32mas\u001b[0m \u001b[0me\u001b[0m\u001b[0;34m:\u001b[0m\u001b[0;34m\u001b[0m\u001b[0;34m\u001b[0m\u001b[0m\n\u001b[1;32m    425\u001b[0m             \u001b[0;31m# Something unsupported is present in the user code, add help info\u001b[0m\u001b[0;34m\u001b[0m\u001b[0;34m\u001b[0m\u001b[0m\n",
            "\u001b[0;32m/usr/local/lib/python3.10/dist-packages/numba/core/dispatcher.py\u001b[0m in \u001b[0;36merror_rewrite\u001b[0;34m(e, issue_type)\u001b[0m\n\u001b[1;32m    362\u001b[0m                 \u001b[0;32mraise\u001b[0m \u001b[0me\u001b[0m\u001b[0;34m\u001b[0m\u001b[0;34m\u001b[0m\u001b[0m\n\u001b[1;32m    363\u001b[0m             \u001b[0;32melse\u001b[0m\u001b[0;34m:\u001b[0m\u001b[0;34m\u001b[0m\u001b[0;34m\u001b[0m\u001b[0m\n\u001b[0;32m--> 364\u001b[0;31m                 \u001b[0;32mraise\u001b[0m \u001b[0me\u001b[0m\u001b[0;34m.\u001b[0m\u001b[0mwith_traceback\u001b[0m\u001b[0;34m(\u001b[0m\u001b[0;32mNone\u001b[0m\u001b[0;34m)\u001b[0m\u001b[0;34m\u001b[0m\u001b[0;34m\u001b[0m\u001b[0m\n\u001b[0m\u001b[1;32m    365\u001b[0m \u001b[0;34m\u001b[0m\u001b[0m\n\u001b[1;32m    366\u001b[0m         \u001b[0margtypes\u001b[0m \u001b[0;34m=\u001b[0m \u001b[0;34m[\u001b[0m\u001b[0;34m]\u001b[0m\u001b[0;34m\u001b[0m\u001b[0;34m\u001b[0m\u001b[0m\n",
            "\u001b[0;31mTypingError\u001b[0m: Failed in nopython mode pipeline (step: nopython frontend)\nFailed in nopython mode pipeline (step: nopython frontend)\nNo implementation of function Function(<built-in function mod>) found for signature:\n \n >>> mod(Literal[str](%8.3F), float64)\n \nThere are 6 candidate implementations:\n      - Of which 4 did not match due to:\n      Overload of function 'mod': File: <numerous>: Line N/A.\n        With argument(s): '(unicode_type, float64)':\n       No match.\n      - Of which 2 did not match due to:\n      Operator Overload in function 'mod': File: unknown: Line unknown.\n        With argument(s): '(unicode_type, float64)':\n       No match for registered cases:\n        * (int64, int64) -> int64\n        * (int64, uint64) -> int64\n        * (uint64, int64) -> int64\n        * (uint64, uint64) -> uint64\n        * (float32, float32) -> float32\n        * (float64, float64) -> float64\n\nDuring: typing of intrinsic-call at <ipython-input-6-4fedc8d08ce2> (41)\n\nFile \"<ipython-input-6-4fedc8d08ce2>\", line 41:\ndef f():\n    <source elided>\n        tdp=min(td)\n      print(\"Des \", \"%8.3F\"%t, \" Maq \", k, disp, l)\n      ^\n\nDuring: resolving callee type: type(CPUDispatcher(<function f at 0x7c3cd8bafc70>))\nDuring: typing of call at <ipython-input-6-4fedc8d08ce2> (56)\n\nDuring: resolving callee type: type(CPUDispatcher(<function f at 0x7c3cd8bafc70>))\nDuring: typing of call at <ipython-input-6-4fedc8d08ce2> (56)\n\n\nFile \"<ipython-input-6-4fedc8d08ce2>\", line 56:\ndef ff(nr):\n    <source elided>\n  for i in range(nr):\n    x=f()\n    ^\n"
          ]
        }
      ],
      "source": [
        "from random import random\n",
        "from math import log, sqrt\n",
        "import matplotlib.pyplot as plt\n",
        "from statistics import mean, stdev\n",
        "from numba import jit\n",
        "\n",
        "@jit(nopython=True)\n",
        "def F(alfa):\n",
        "  return (-1/alfa)*log(random())\n",
        "\n",
        "@jit(nopython=True)\n",
        "def f():\n",
        "  infi=100000000\n",
        "  alfa=1/50\n",
        "  beta=1/6\n",
        "  n=6\n",
        "  s=3\n",
        "  infi=100000000\n",
        "  disp=s\n",
        "  td=[]\n",
        "  for i in range(n):\n",
        "    td. append(F(alfa))\n",
        "  tdp=min(td)\n",
        "  tsp=infi\n",
        "  l=0\n",
        "  indicador=0\n",
        "  while indicador==0:\n",
        "    t=min(tdp, tsp)\n",
        "    if t==tdp:\n",
        "      if disp==0:\n",
        "        indicador=1\n",
        "        k=td. index(tdp)\n",
        "      else:\n",
        "        disp=disp -1\n",
        "        l=l+1\n",
        "        k=td. index(tdp)\n",
        "        td[k]=t+F(alfa)\n",
        "        if l==1:\n",
        "          tsp=t+F(beta)\n",
        "        tdp=min(td)\n",
        "      print(\"Des \", \"%8.3F\"%t, \" Maq \", k, disp, l)\n",
        "    else:\n",
        "      l=l-1\n",
        "      disp=disp+1\n",
        "      if l > 0:\n",
        "        tsp=t+F(beta)\n",
        "      else:\n",
        "        tsp=infi\n",
        "  return t\n",
        "\n",
        "@jit(nopython=True)\n",
        "def ff(nr):\n",
        "  suma=0\n",
        "  sumac=0\n",
        "  for i in range(nr):\n",
        "    x=f()\n",
        "    suma=suma+x\n",
        "    sumac=sumac + x**2\n",
        "  m=suma/nr\n",
        "  var=((sumac/nr)- m**2)*(nr/(nr - 1))\n",
        "  return m, var\n",
        "nr=1000000\n",
        "m, var=ff(nr)\n",
        "xi=m -1.96*sqrt(var/nr)\n",
        "xd=m +1.96*sqrt(var/nr)\n",
        "print(xi, m, xd)"
      ]
    }
  ]
}