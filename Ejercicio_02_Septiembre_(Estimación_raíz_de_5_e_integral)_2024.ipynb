{
  "nbformat": 4,
  "nbformat_minor": 0,
  "metadata": {
    "colab": {
      "private_outputs": true,
      "provenance": [],
      "toc_visible": true,
      "authorship_tag": "ABX9TyOTtr14nypC5lvZ/27hEVEq",
      "include_colab_link": true
    },
    "kernelspec": {
      "name": "python3",
      "display_name": "Python 3"
    },
    "language_info": {
      "name": "python"
    }
  },
  "cells": [
    {
      "cell_type": "markdown",
      "metadata": {
        "id": "view-in-github",
        "colab_type": "text"
      },
      "source": [
        "<a href=\"https://colab.research.google.com/github/Jair-RM/Simulacion-I-Figols/blob/main/Ejercicio_02_Septiembre_(Estimaci%C3%B3n_ra%C3%ADz_de_5_e_integral)_2024.ipynb\" target=\"_parent\"><img src=\"https://colab.research.google.com/assets/colab-badge.svg\" alt=\"Open In Colab\"/></a>"
      ]
    },
    {
      "cell_type": "code",
      "execution_count": null,
      "metadata": {
        "id": "JkIaXejcNOLv"
      },
      "outputs": [],
      "source": [
        "#  a) Estimar por simulacion de Montecarlo el valor de raiz(5)\n",
        "#  b) ¿Cuantas simulaciones hay que realizar para que la probabilidad de tener un error mayor que 0.1 sea nabir que 0.05\n",
        "#  c) Estimar por simulacion de Montecarlo el valor de la integral de [2,infinito] e^(-x^2)dx"
      ]
    },
    {
      "cell_type": "code",
      "source": [
        "from random import gauss\n",
        "from random import random\n",
        "from math import sqrt\n",
        "from math import exp\n",
        "import matplotlib.pyplot as plt\n",
        "import numpy as np"
      ],
      "metadata": {
        "id": "V2Uf--P_OkWR"
      },
      "execution_count": null,
      "outputs": []
    },
    {
      "cell_type": "code",
      "source": [
        "#  a) Estimar por simulacion de Montecarlo el valor de raiz(5)\n",
        "print(\"El valor real es de :\", sqrt(5)) #Valor real\n",
        "\n",
        "N=1000000\n",
        "n=0\n",
        "lx=[]\n",
        "ly=[]\n",
        "lc=[]\n",
        "for i in range(N):\n",
        "  r=3*random()\n",
        "  if r**2 < 5:\n",
        "    n=n+1\n",
        "  if i>10000 and i&1000==0:\n",
        "    lx.append(i)\n",
        "    ly.append(3*n/(i+1))\n",
        "    lc.append(sqrt(5))\n",
        "x=3*n/N\n",
        "print(\"Nuestra estimacion es de:\", x)\n",
        "print(\"El cuadrado de ese numero es: \", x**2)\n",
        "plt.plot(lx, ly)\n",
        "plt.plot(lx, lc)\n",
        "plt.show()\n"
      ],
      "metadata": {
        "id": "HpA-WbGzO69o"
      },
      "execution_count": null,
      "outputs": []
    },
    {
      "cell_type": "code",
      "source": [
        "#  b) ¿Cuantas simulaciones hay que realizar para que la probabilidad de tener un error mayor que 0.1 sea nabir que 0.05\n",
        "\n"
      ],
      "metadata": {
        "id": "1LGnK86ad30A"
      },
      "execution_count": null,
      "outputs": []
    },
    {
      "cell_type": "code",
      "source": [
        "#  c) Estimar por simulacion de Montecarlo el valor de la integral de [2,infinito] e^(-x^2)dx\n",
        "\n",
        "N=1000000\n",
        "suma=0\n",
        "for i in range(N):\n",
        "  y=random()\n",
        "  suma=suma+exp(-(3/y -1)**2)/(y**2)\n",
        "print(3*suma/N)"
      ],
      "metadata": {
        "id": "4MdKwUqicp03"
      },
      "execution_count": null,
      "outputs": []
    }
  ]
}