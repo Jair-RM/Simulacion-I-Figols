{
  "nbformat": 4,
  "nbformat_minor": 0,
  "metadata": {
    "colab": {
      "provenance": [],
      "authorship_tag": "ABX9TyNLutjMcA1mXAsR3PKK7OH8",
      "include_colab_link": true
    },
    "kernelspec": {
      "name": "python3",
      "display_name": "Python 3"
    },
    "language_info": {
      "name": "python"
    }
  },
  "cells": [
    {
      "cell_type": "markdown",
      "metadata": {
        "id": "view-in-github",
        "colab_type": "text"
      },
      "source": [
        "<a href=\"https://colab.research.google.com/github/Jair-RM/Simulacion-I-Figols/blob/main/Ejercicio_26_Nov(Guia).ipynb\" target=\"_parent\"><img src=\"https://colab.research.google.com/assets/colab-badge.svg\" alt=\"Open In Colab\"/></a>"
      ]
    },
    {
      "cell_type": "code",
      "execution_count": 6,
      "metadata": {
        "colab": {
          "base_uri": "https://localhost:8080/"
        },
        "id": "Db_KIgE47gQX",
        "outputId": "abe1d64f-2036-4c08-bd3a-aa88763f92de"
      },
      "outputs": [
        {
          "output_type": "stream",
          "name": "stdout",
          "text": [
            "0.008537349989794876 0.005725869675586882\n",
            "0.008492296553067564 0.0028267795114524687\n",
            "50.631438163797654\n",
            "71.99117655036325\n"
          ]
        }
      ],
      "source": [
        "# Ejercicio 1\n",
        "from random import gauss\n",
        "from statistics import mean, variance\n",
        "from scipy.stats import pearsonr\n",
        "from math import exp\n",
        "# < > ∈ o ∉ | λ\n",
        "#@jit(nopython=True)\n",
        "\n",
        "def g(x):\n",
        "  if x > 2:\n",
        "    return x -2\n",
        "  else:\n",
        "    return 0\n",
        "nr=100000\n",
        "l=[]\n",
        "l1=[]\n",
        "lc=[]\n",
        "for i in range(nr):\n",
        "  z=gauss(0,1)\n",
        "  l.append(g(z))\n",
        "  l1.append((g(z)+g(- z))/2)\n",
        "  lc. append(g(exp(z)))\n",
        "m=mean(l)\n",
        "v=variance(l)\n",
        "print(m,v)\n",
        "m1=mean(l1)\n",
        "v1=variance(l1)\n",
        "print(m1,v1)\n",
        "print(100*(v- v1)/v)\n",
        "r=pearsonr(l,lc)[0]\n",
        "print(100*r**2)"
      ]
    },
    {
      "cell_type": "code",
      "source": [
        "# Ejercicio 7\n",
        "from random import gauss\n",
        "from math import exp, sqrt\n",
        "from statistics import mean, variance\n",
        "from scipy.stats import pearsonr\n",
        "from numpy import cov\n",
        "\n",
        "def precio(p0,u,o,t):\n",
        "  z=gauss(0,1)\n",
        "  return p0*exp((u - o**2/2)*t + o*sqrt(t)*z), z\n",
        "nr=100000\n",
        "u=0.001\n",
        "o=0.02\n",
        "p0=10\n",
        "t=30\n",
        "l=[]\n",
        "lz=[]\n",
        "for i in range(nr):\n",
        "  p,z=precio(p0,u,o,t)\n",
        "  l.append(p)\n",
        "  lz. append(z)\n",
        "\n",
        "m=mean(l)\n",
        "v=variance(l)\n",
        "print(m,v)\n",
        "r=pearsonr(l, lz)[0]\n",
        "por=100*r**2\n",
        "print(por)\n",
        "v1=v*(1 - por/100)\n",
        "print(v1)\n",
        "p_ver=p0*exp(u*t)\n",
        "print(p_ver)\n",
        "e1=100*(m - p_ver)/p_ver\n",
        "print(e1)\n",
        "co=cov(l,lz)\n",
        "print(co)\n",
        "cova=co[0,1]\n",
        "vy=co[1,1]\n",
        "c= - cova/vy\n",
        "print(c)\n",
        "ll=[]\n",
        "for i in range(nr):\n",
        "  ll. append(l[i]+c*lz[i])\n",
        "m1=mean(ll)\n",
        "print(m1)\n",
        "e2=100*(m1 - p_ver)/p_ver\n",
        "print(e2)"
      ],
      "metadata": {
        "colab": {
          "base_uri": "https://localhost:8080/"
        },
        "id": "Ce_vyyPR80M3",
        "outputId": "345110a8-fad7-4570-f5a6-67b73d5f81fd"
      },
      "execution_count": 7,
      "outputs": [
        {
          "output_type": "stream",
          "name": "stdout",
          "text": [
            "10.302976413207627 1.285477806094893\n",
            "99.40286366028684\n",
            "0.007676055119140022\n",
            "10.304545339535169\n",
            "-0.015225575470293856\n",
            "[[1.28547781 1.13234208]\n",
            " [1.13234208 1.00344094]]\n",
            "-1.1284591218395164\n",
            "10.304750838280567\n",
            "0.0019942533962141085\n"
          ]
        }
      ]
    },
    {
      "cell_type": "code",
      "source": [
        "# EJercicio 5\n",
        "from random import gauss\n",
        "from scipy.stats import norm\n",
        "from statistics import mean, variance\n",
        "\n",
        "def I(x,y):\n",
        "  if x+y > 2:\n",
        "    return 1\n",
        "  else:\n",
        "    return 0\n",
        "\n",
        "nr=100000\n",
        "l=[]\n",
        "l1=[]\n",
        "for i in range(nr):\n",
        "  x=gauss(0,1)\n",
        "  y=gauss(1,1)\n",
        "  l. append(I(x,y))\n",
        "  q=2 - y\n",
        "  l1. append(1 - norm.cdf(q,0,1))\n",
        "m=mean(l)\n",
        "v=variance(l)\n",
        "print(m,v)\n",
        "m1=mean(l1)\n",
        "v1=variance(l1)\n",
        "print(m1,v1)\n",
        "print(100*(v - v1)/v)"
      ],
      "metadata": {
        "colab": {
          "base_uri": "https://localhost:8080/"
        },
        "id": "Z6gt-OsdLkdr",
        "outputId": "9c3e1677-5702-493a-d24b-48f7a79361bc"
      },
      "execution_count": 8,
      "outputs": [
        {
          "output_type": "stream",
          "name": "stdout",
          "text": [
            "0.24296 0.18393227772277723\n",
            "0.2410027871727161 0.056246156400931994\n",
            "69.42018165745426\n"
          ]
        }
      ]
    }
  ]
}