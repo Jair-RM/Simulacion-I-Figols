{
  "nbformat": 4,
  "nbformat_minor": 0,
  "metadata": {
    "colab": {
      "provenance": [],
      "authorship_tag": "ABX9TyO0CiCZBwjJM3qnl8iFiZ0V",
      "include_colab_link": true
    },
    "kernelspec": {
      "name": "python3",
      "display_name": "Python 3"
    },
    "language_info": {
      "name": "python"
    }
  },
  "cells": [
    {
      "cell_type": "markdown",
      "metadata": {
        "id": "view-in-github",
        "colab_type": "text"
      },
      "source": [
        "<a href=\"https://colab.research.google.com/github/Jair-RM/Simulacion-I-Figols/blob/main/Ejerciico_12_Nov_(Reduccion_de_varianza).ipynb\" target=\"_parent\"><img src=\"https://colab.research.google.com/assets/colab-badge.svg\" alt=\"Open In Colab\"/></a>"
      ]
    },
    {
      "cell_type": "code",
      "execution_count": 3,
      "metadata": {
        "colab": {
          "base_uri": "https://localhost:8080/"
        },
        "id": "snmoOTxz4eKI",
        "outputId": "acc958f9-ce21-4ec3-d1f8-c47e57ec4cec"
      },
      "outputs": [
        {
          "output_type": "stream",
          "name": "stdout",
          "text": [
            "2.717246 2.718049 2.718281828459045\n",
            "0.7641569396409397 0.12443275803175803 83.7163347505257\n"
          ]
        }
      ],
      "source": [
        "from random import random\n",
        "from statistics import mean, variance\n",
        "from math import exp\n",
        "from numba import jit\n",
        "# < > ∈ o ∉ | λ\n",
        "\n",
        "@jit(nopython=True)\n",
        "def gen():\n",
        "  l1=[]\n",
        "  l2=[]\n",
        "  for i in range(nr):\n",
        "    i1=0\n",
        "    s1=0\n",
        "    i2=0\n",
        "    s2=0\n",
        "    while s1 <=1 or s2 <=1:\n",
        "      u=random()\n",
        "      v=1 - u\n",
        "      if s1 <=1:\n",
        "        s1=s1+u\n",
        "        i1=i1+1\n",
        "      if s2<=1:\n",
        "        s2=s2+v\n",
        "        i2=i2+1\n",
        "    l1.append(i1)\n",
        "    l2.append((i1+i2)/2)\n",
        "  return l1, l2\n",
        "l1, l2=gen()\n",
        "nr=1000000\n",
        "m1=mean(l1)\n",
        "v1=variance(l1)\n",
        "m2=mean(l2)\n",
        "v2=variance(l2)\n",
        "print(m1, m2, exp(1))\n",
        "print(v1, v2, 100*(v1 - v2)/v1)\n",
        ""
      ]
    },
    {
      "cell_type": "code",
      "source": [
        "from random import random\n",
        "from scipy.stats import pearsonr\n",
        "lx=[]\n",
        "ly=[]\n",
        "nr=1000000\n",
        "for i in range(nr):\n",
        "  u=random()\n",
        "  x=1/(1+u)\n",
        "  y=u\n",
        "  lx. append(x)\n",
        "  ly. append(y)\n",
        "r=pearsonr(lx, ly)[0]\n",
        "print(100*r**2)"
      ],
      "metadata": {
        "colab": {
          "base_uri": "https://localhost:8080/"
        },
        "id": "QEslr4ACCroI",
        "outputId": "e371c27a-28dc-4c4c-a2a1-923cef0d92b4"
      },
      "execution_count": 5,
      "outputs": [
        {
          "output_type": "stream",
          "name": "stdout",
          "text": [
            "96.85512827746679\n"
          ]
        }
      ]
    },
    {
      "cell_type": "code",
      "source": [
        "from random import random\n",
        "from scipy.stats import pearsonr\n",
        "from math import sqrt\n",
        "def f(x):\n",
        "  return sqrt(x)\n",
        "lx=[]\n",
        "ly=[]\n",
        "nr=1000000\n",
        "for i in range(nr):\n",
        "  u=random()\n",
        "  x=1/(1+u)\n",
        "  y=f(u)\n",
        "  lx. append(x)\n",
        "  ly. append(y)\n",
        "r=pearsonr(lx, ly)[0]\n",
        "print(100*r**2)"
      ],
      "metadata": {
        "colab": {
          "base_uri": "https://localhost:8080/"
        },
        "id": "wYAf9GuYDmLH",
        "outputId": "8ae502b0-34cb-44a5-870b-76b41265dad9"
      },
      "execution_count": 6,
      "outputs": [
        {
          "output_type": "stream",
          "name": "stdout",
          "text": [
            "99.63965751824257\n"
          ]
        }
      ]
    },
    {
      "cell_type": "code",
      "source": [
        "from random import random\n",
        "from scipy.stats import pearsonr\n",
        "from math import sqrt, log, exp\n",
        "from numpy import cov\n",
        "from statistics import mean, variance\n",
        "\n",
        "def f(x):\n",
        "  return sqrt(x)\n",
        "lx=[]\n",
        "ly=[]\n",
        "nr=1000000\n",
        "for i in range(nr):\n",
        "  u=random()\n",
        "  x=1/(1+u)\n",
        "  y=f(u)\n",
        "  lx. append(x)\n",
        "  ly. append(y)\n",
        "r=pearsonr(lx, ly)[0]\n",
        "print(100*r**2)\n",
        "co=cov(lx, ly)\n",
        "co1=co[0,1]\n",
        "print(co, co1)\n",
        "alpha=- co1/co[1,1]\n",
        "print(alpha)\n",
        "lz=[]\n",
        "for i in range(nr):\n",
        "  lz.append(lx[i] + alpha*(ly[i] - 2/3))\n",
        "mx=mean(lx)\n",
        "mz=mean(lz)\n",
        "vx=variance(lx)\n",
        "vz=variance(lz)\n",
        "print(mx, mz, log(2))\n",
        "print(vx, vz, 100*(vz - vz)/vx)"
      ],
      "metadata": {
        "colab": {
          "base_uri": "https://localhost:8080/"
        },
        "id": "foDsDqCoDoyy",
        "outputId": "7350cbe1-f993-4bf3-bdec-e28e28113449"
      },
      "execution_count": 8,
      "outputs": [
        {
          "output_type": "stream",
          "name": "stdout",
          "text": [
            "99.64171706459258\n",
            "[[ 0.01957525 -0.03293985]\n",
            " [-0.03293985  0.05562814]] -0.03293984519701911\n",
            "0.5921435590185917\n",
            "0.6933564860183997 0.6931583918217178 0.6931471805599453\n",
            "0.01957525195580493 7.013478732064202e-05 0.0\n"
          ]
        }
      ]
    }
  ]
}